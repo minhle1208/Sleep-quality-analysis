{
  "cells": [
    {
      "cell_type": "code",
      "execution_count": null,
      "id": "c901160c-a588-41d5-b9f2-ff6bef0b4c48",
      "metadata": {
        "id": "c901160c-a588-41d5-b9f2-ff6bef0b4c48"
      },
      "outputs": [],
      "source": [
        "import numpy as np\n",
        "import pandas as pd\n",
        "import matplotlib.pyplot as plt"
      ]
    },
    {
      "cell_type": "code",
      "execution_count": null,
      "id": "f413f145-3883-4d76-b518-8d67279f8a3c",
      "metadata": {
        "id": "f413f145-3883-4d76-b518-8d67279f8a3c",
        "outputId": "89dbe988-9ada-4734-fa9f-a47a860351ac"
      },
      "outputs": [
        {
          "data": {
            "text/html": [
              "<div>\n",
              "<style scoped>\n",
              "    .dataframe tbody tr th:only-of-type {\n",
              "        vertical-align: middle;\n",
              "    }\n",
              "\n",
              "    .dataframe tbody tr th {\n",
              "        vertical-align: top;\n",
              "    }\n",
              "\n",
              "    .dataframe thead th {\n",
              "        text-align: right;\n",
              "    }\n",
              "</style>\n",
              "<table border=\"1\" class=\"dataframe\">\n",
              "  <thead>\n",
              "    <tr style=\"text-align: right;\">\n",
              "      <th></th>\n",
              "      <th>Heart_Rate_Variability</th>\n",
              "      <th>Body_Temperature</th>\n",
              "      <th>Movement_During_Sleep</th>\n",
              "      <th>Sleep_Duration_Hours</th>\n",
              "      <th>Sleep_Quality_Score</th>\n",
              "      <th>Caffeine_Intake_mg</th>\n",
              "      <th>Stress_Level</th>\n",
              "      <th>Bedtime_Consistency</th>\n",
              "      <th>Light_Exposure_hours</th>\n",
              "    </tr>\n",
              "  </thead>\n",
              "  <tbody>\n",
              "    <tr>\n",
              "      <th>0</th>\n",
              "      <td>79.934283</td>\n",
              "      <td>37.199678</td>\n",
              "      <td>1.324822</td>\n",
              "      <td>4.638289</td>\n",
              "      <td>1.000000</td>\n",
              "      <td>107.624032</td>\n",
              "      <td>2.771837</td>\n",
              "      <td>0.657037</td>\n",
              "      <td>7.933949</td>\n",
              "    </tr>\n",
              "    <tr>\n",
              "      <th>1</th>\n",
              "      <td>67.234714</td>\n",
              "      <td>36.962317</td>\n",
              "      <td>1.855481</td>\n",
              "      <td>6.209422</td>\n",
              "      <td>1.000000</td>\n",
              "      <td>104.658589</td>\n",
              "      <td>3.738138</td>\n",
              "      <td>0.144464</td>\n",
              "      <td>6.992699</td>\n",
              "    </tr>\n",
              "    <tr>\n",
              "      <th>2</th>\n",
              "      <td>82.953771</td>\n",
              "      <td>36.529815</td>\n",
              "      <td>1.207580</td>\n",
              "      <td>6.879592</td>\n",
              "      <td>10.000000</td>\n",
              "      <td>0.000000</td>\n",
              "      <td>3.115880</td>\n",
              "      <td>0.642949</td>\n",
              "      <td>7.655250</td>\n",
              "    </tr>\n",
              "    <tr>\n",
              "      <th>3</th>\n",
              "      <td>100.460597</td>\n",
              "      <td>36.176532</td>\n",
              "      <td>1.692038</td>\n",
              "      <td>10.331531</td>\n",
              "      <td>1.000000</td>\n",
              "      <td>116.990981</td>\n",
              "      <td>3.904008</td>\n",
              "      <td>0.453255</td>\n",
              "      <td>9.429463</td>\n",
              "    </tr>\n",
              "    <tr>\n",
              "      <th>4</th>\n",
              "      <td>65.316933</td>\n",
              "      <td>36.849112</td>\n",
              "      <td>0.106385</td>\n",
              "      <td>8.334830</td>\n",
              "      <td>1.000000</td>\n",
              "      <td>223.282908</td>\n",
              "      <td>4.571699</td>\n",
              "      <td>0.641492</td>\n",
              "      <td>10.555713</td>\n",
              "    </tr>\n",
              "    <tr>\n",
              "      <th>...</th>\n",
              "      <td>...</td>\n",
              "      <td>...</td>\n",
              "      <td>...</td>\n",
              "      <td>...</td>\n",
              "      <td>...</td>\n",
              "      <td>...</td>\n",
              "      <td>...</td>\n",
              "      <td>...</td>\n",
              "      <td>...</td>\n",
              "    </tr>\n",
              "    <tr>\n",
              "      <th>995</th>\n",
              "      <td>64.377994</td>\n",
              "      <td>37.035075</td>\n",
              "      <td>2.077481</td>\n",
              "      <td>7.542686</td>\n",
              "      <td>1.000000</td>\n",
              "      <td>167.146932</td>\n",
              "      <td>4.404266</td>\n",
              "      <td>0.941971</td>\n",
              "      <td>8.203260</td>\n",
              "    </tr>\n",
              "    <tr>\n",
              "      <th>996</th>\n",
              "      <td>105.953731</td>\n",
              "      <td>36.486739</td>\n",
              "      <td>2.257753</td>\n",
              "      <td>4.383282</td>\n",
              "      <td>1.000000</td>\n",
              "      <td>265.264810</td>\n",
              "      <td>6.538063</td>\n",
              "      <td>0.565399</td>\n",
              "      <td>10.334435</td>\n",
              "    </tr>\n",
              "    <tr>\n",
              "      <th>997</th>\n",
              "      <td>82.816857</td>\n",
              "      <td>36.059063</td>\n",
              "      <td>0.758239</td>\n",
              "      <td>7.019553</td>\n",
              "      <td>8.445252</td>\n",
              "      <td>28.259621</td>\n",
              "      <td>3.945222</td>\n",
              "      <td>0.332975</td>\n",
              "      <td>11.176894</td>\n",
              "    </tr>\n",
              "    <tr>\n",
              "      <th>998</th>\n",
              "      <td>58.576420</td>\n",
              "      <td>36.418467</td>\n",
              "      <td>2.334176</td>\n",
              "      <td>9.965067</td>\n",
              "      <td>1.000000</td>\n",
              "      <td>196.795042</td>\n",
              "      <td>4.989787</td>\n",
              "      <td>0.830583</td>\n",
              "      <td>6.630026</td>\n",
              "    </tr>\n",
              "    <tr>\n",
              "      <th>999</th>\n",
              "      <td>81.451656</td>\n",
              "      <td>36.127549</td>\n",
              "      <td>1.844741</td>\n",
              "      <td>8.040972</td>\n",
              "      <td>7.075445</td>\n",
              "      <td>32.971929</td>\n",
              "      <td>5.797528</td>\n",
              "      <td>0.915556</td>\n",
              "      <td>9.602364</td>\n",
              "    </tr>\n",
              "  </tbody>\n",
              "</table>\n",
              "<p>1000 rows × 9 columns</p>\n",
              "</div>"
            ],
            "text/plain": [
              "     Heart_Rate_Variability  Body_Temperature  Movement_During_Sleep  \\\n",
              "0                 79.934283         37.199678               1.324822   \n",
              "1                 67.234714         36.962317               1.855481   \n",
              "2                 82.953771         36.529815               1.207580   \n",
              "3                100.460597         36.176532               1.692038   \n",
              "4                 65.316933         36.849112               0.106385   \n",
              "..                      ...               ...                    ...   \n",
              "995               64.377994         37.035075               2.077481   \n",
              "996              105.953731         36.486739               2.257753   \n",
              "997               82.816857         36.059063               0.758239   \n",
              "998               58.576420         36.418467               2.334176   \n",
              "999               81.451656         36.127549               1.844741   \n",
              "\n",
              "     Sleep_Duration_Hours  Sleep_Quality_Score  Caffeine_Intake_mg  \\\n",
              "0                4.638289             1.000000          107.624032   \n",
              "1                6.209422             1.000000          104.658589   \n",
              "2                6.879592            10.000000            0.000000   \n",
              "3               10.331531             1.000000          116.990981   \n",
              "4                8.334830             1.000000          223.282908   \n",
              "..                    ...                  ...                 ...   \n",
              "995              7.542686             1.000000          167.146932   \n",
              "996              4.383282             1.000000          265.264810   \n",
              "997              7.019553             8.445252           28.259621   \n",
              "998              9.965067             1.000000          196.795042   \n",
              "999              8.040972             7.075445           32.971929   \n",
              "\n",
              "     Stress_Level  Bedtime_Consistency  Light_Exposure_hours  \n",
              "0        2.771837             0.657037              7.933949  \n",
              "1        3.738138             0.144464              6.992699  \n",
              "2        3.115880             0.642949              7.655250  \n",
              "3        3.904008             0.453255              9.429463  \n",
              "4        4.571699             0.641492             10.555713  \n",
              "..            ...                  ...                   ...  \n",
              "995      4.404266             0.941971              8.203260  \n",
              "996      6.538063             0.565399             10.334435  \n",
              "997      3.945222             0.332975             11.176894  \n",
              "998      4.989787             0.830583              6.630026  \n",
              "999      5.797528             0.915556              9.602364  \n",
              "\n",
              "[1000 rows x 9 columns]"
            ]
          },
          "execution_count": 2,
          "metadata": {},
          "output_type": "execute_result"
        }
      ],
      "source": [
        "df = pd.read_csv('wearable_tech_sleep_quality_1.csv')\n",
        "df"
      ]
    },
    {
      "cell_type": "markdown",
      "source": [
        "# 1) Линейная регрессия и коэффициент корреляции"
      ],
      "metadata": {
        "id": "KxDDKVEXM199"
      },
      "id": "KxDDKVEXM199"
    },
    {
      "cell_type": "code",
      "execution_count": null,
      "id": "4012d470-fd25-4de3-aafa-d3a559f19956",
      "metadata": {
        "id": "4012d470-fd25-4de3-aafa-d3a559f19956",
        "outputId": "6b53c066-e745-4f25-c1d1-a6c47b8ed744"
      },
      "outputs": [
        {
          "data": {
            "text/html": [
              "<div>\n",
              "<style scoped>\n",
              "    .dataframe tbody tr th:only-of-type {\n",
              "        vertical-align: middle;\n",
              "    }\n",
              "\n",
              "    .dataframe tbody tr th {\n",
              "        vertical-align: top;\n",
              "    }\n",
              "\n",
              "    .dataframe thead th {\n",
              "        text-align: right;\n",
              "    }\n",
              "</style>\n",
              "<table border=\"1\" class=\"dataframe\">\n",
              "  <thead>\n",
              "    <tr style=\"text-align: right;\">\n",
              "      <th></th>\n",
              "      <th>Sleep_Quality_Score</th>\n",
              "      <th>Caffeine_Intake_mg</th>\n",
              "      <th>Light_Exposure_hours</th>\n",
              "    </tr>\n",
              "  </thead>\n",
              "  <tbody>\n",
              "    <tr>\n",
              "      <th>0</th>\n",
              "      <td>1.000000</td>\n",
              "      <td>107.624032</td>\n",
              "      <td>7.933949</td>\n",
              "    </tr>\n",
              "    <tr>\n",
              "      <th>1</th>\n",
              "      <td>1.000000</td>\n",
              "      <td>104.658589</td>\n",
              "      <td>6.992699</td>\n",
              "    </tr>\n",
              "    <tr>\n",
              "      <th>2</th>\n",
              "      <td>10.000000</td>\n",
              "      <td>0.000000</td>\n",
              "      <td>7.655250</td>\n",
              "    </tr>\n",
              "    <tr>\n",
              "      <th>3</th>\n",
              "      <td>1.000000</td>\n",
              "      <td>116.990981</td>\n",
              "      <td>9.429463</td>\n",
              "    </tr>\n",
              "    <tr>\n",
              "      <th>4</th>\n",
              "      <td>1.000000</td>\n",
              "      <td>223.282908</td>\n",
              "      <td>10.555713</td>\n",
              "    </tr>\n",
              "    <tr>\n",
              "      <th>...</th>\n",
              "      <td>...</td>\n",
              "      <td>...</td>\n",
              "      <td>...</td>\n",
              "    </tr>\n",
              "    <tr>\n",
              "      <th>995</th>\n",
              "      <td>1.000000</td>\n",
              "      <td>167.146932</td>\n",
              "      <td>8.203260</td>\n",
              "    </tr>\n",
              "    <tr>\n",
              "      <th>996</th>\n",
              "      <td>1.000000</td>\n",
              "      <td>265.264810</td>\n",
              "      <td>10.334435</td>\n",
              "    </tr>\n",
              "    <tr>\n",
              "      <th>997</th>\n",
              "      <td>8.445252</td>\n",
              "      <td>28.259621</td>\n",
              "      <td>11.176894</td>\n",
              "    </tr>\n",
              "    <tr>\n",
              "      <th>998</th>\n",
              "      <td>1.000000</td>\n",
              "      <td>196.795042</td>\n",
              "      <td>6.630026</td>\n",
              "    </tr>\n",
              "    <tr>\n",
              "      <th>999</th>\n",
              "      <td>7.075445</td>\n",
              "      <td>32.971929</td>\n",
              "      <td>9.602364</td>\n",
              "    </tr>\n",
              "  </tbody>\n",
              "</table>\n",
              "<p>1000 rows × 3 columns</p>\n",
              "</div>"
            ],
            "text/plain": [
              "     Sleep_Quality_Score  Caffeine_Intake_mg  Light_Exposure_hours\n",
              "0               1.000000          107.624032              7.933949\n",
              "1               1.000000          104.658589              6.992699\n",
              "2              10.000000            0.000000              7.655250\n",
              "3               1.000000          116.990981              9.429463\n",
              "4               1.000000          223.282908             10.555713\n",
              "..                   ...                 ...                   ...\n",
              "995             1.000000          167.146932              8.203260\n",
              "996             1.000000          265.264810             10.334435\n",
              "997             8.445252           28.259621             11.176894\n",
              "998             1.000000          196.795042              6.630026\n",
              "999             7.075445           32.971929              9.602364\n",
              "\n",
              "[1000 rows x 3 columns]"
            ]
          },
          "execution_count": 3,
          "metadata": {},
          "output_type": "execute_result"
        }
      ],
      "source": [
        "df1 = df.filter(['Sleep_Quality_Score', 'Caffeine_Intake_mg','Light_Exposure_hours'])\n",
        "pd.plotting.scatter_matrix(df1, alpha=0.5, diagonal='kde', figsize=(8,8))"
      ]
    },
    {
      "cell_type": "code",
      "execution_count": null,
      "id": "85f6b970-bd1c-472e-ba3b-aec25ff7eb25",
      "metadata": {
        "id": "85f6b970-bd1c-472e-ba3b-aec25ff7eb25",
        "outputId": "ff5cb75c-358a-4666-dec8-56e6e2dfe415"
      },
      "outputs": [
        {
          "data": {
            "text/plain": [
              "array([[<Axes: xlabel='Sleep_Quality_Score', ylabel='Sleep_Quality_Score'>,\n",
              "        <Axes: xlabel='Caffeine_Intake_mg', ylabel='Sleep_Quality_Score'>,\n",
              "        <Axes: xlabel='Light_Exposure_hours', ylabel='Sleep_Quality_Score'>],\n",
              "       [<Axes: xlabel='Sleep_Quality_Score', ylabel='Caffeine_Intake_mg'>,\n",
              "        <Axes: xlabel='Caffeine_Intake_mg', ylabel='Caffeine_Intake_mg'>,\n",
              "        <Axes: xlabel='Light_Exposure_hours', ylabel='Caffeine_Intake_mg'>],\n",
              "       [<Axes: xlabel='Sleep_Quality_Score', ylabel='Light_Exposure_hours'>,\n",
              "        <Axes: xlabel='Caffeine_Intake_mg', ylabel='Light_Exposure_hours'>,\n",
              "        <Axes: xlabel='Light_Exposure_hours', ylabel='Light_Exposure_hours'>]],\n",
              "      dtype=object)"
            ]
          },
          "execution_count": 4,
          "metadata": {},
          "output_type": "execute_result"
        },
        {
          "data": {
            "image/png": "[encoded data removed]",
            "text/plain": [
              "<Figure size 800x800 with 9 Axes>"
            ]
          },
          "metadata": {},
          "output_type": "display_data"
        }
      ],
      "source": [
        "pd.plotting.scatter_matrix(df1, alpha=0.5, diagonal='kde', figsize=(8,8))"
      ]
    },
    {
      "cell_type": "code",
      "execution_count": null,
      "id": "a5a5dee8-0cbb-48d3-b8da-535edcf59818",
      "metadata": {
        "id": "a5a5dee8-0cbb-48d3-b8da-535edcf59818",
        "outputId": "0a408856-d14a-4bf7-8362-6fd63de033d5"
      },
      "outputs": [
        {
          "data": {
            "image/png": "[encoded data removed]",
            "text/plain": [
              "<Figure size 1000x600 with 1 Axes>"
            ]
          },
          "metadata": {},
          "output_type": "display_data"
        }
      ],
      "source": [
        "plt.figure(figsize=(10, 6))\n",
        "plt.scatter(df['Caffeine_Intake_mg'], df['Sleep_Quality_Score'])\n",
        "plt.ylabel('Sleep_Quality_Score')\n",
        "plt.xlabel('Caffeine_Intake_mg')\n",
        "plt.grid()"
      ]
    },
    {
      "cell_type": "code",
      "execution_count": null,
      "id": "1c912783-50fe-4d46-b8e1-7cc2d7ea637d",
      "metadata": {
        "id": "1c912783-50fe-4d46-b8e1-7cc2d7ea637d"
      },
      "outputs": [],
      "source": [
        "X = df['Caffeine_Intake_mg']\n",
        "y = df['Sleep_Quality_Score']"
      ]
    },
    {
      "cell_type": "code",
      "execution_count": null,
      "id": "8adbbc79-f5e0-45c2-83d2-6ff5f04520a0",
      "metadata": {
        "id": "8adbbc79-f5e0-45c2-83d2-6ff5f04520a0"
      },
      "outputs": [],
      "source": [
        "X_cut = df['Caffeine_Intake_mg'][df['Caffeine_Intake_mg'] <= 100]\n",
        "y_cut = df['Sleep_Quality_Score'][df['Caffeine_Intake_mg'] <= 100]"
      ]
    },
    {
      "cell_type": "code",
      "execution_count": null,
      "id": "8292a776-e85c-4203-89a9-282f583e7134",
      "metadata": {
        "id": "8292a776-e85c-4203-89a9-282f583e7134",
        "outputId": "58ceb206-65d1-4d80-e311-70f2a1493cf0"
      },
      "outputs": [
        {
          "name": "stdout",
          "output_type": "stream",
          "text": [
            "Regression coefficient: -0.02288\n",
            "Intercept: 5.98460\n"
          ]
        }
      ],
      "source": [
        "a = np.sum((y - y.mean()) * X) / np.sum((X - X.mean()) * X)\n",
        "b = y.mean() - a * X.mean()\n",
        "print('Regression coefficient: %.5f' % a)\n",
        "print('Intercept: %.5f' % b)"
      ]
    },
    {
      "cell_type": "code",
      "execution_count": null,
      "id": "9dfb384a-e8a3-479b-bb47-ce42b2811760",
      "metadata": {
        "id": "9dfb384a-e8a3-479b-bb47-ce42b2811760",
        "outputId": "9b4af54e-8915-45ec-9ed0-ea182c389f58"
      },
      "outputs": [
        {
          "name": "stdout",
          "output_type": "stream",
          "text": [
            "Regression coefficient: -0.09239\n",
            "Intercept: 10.05448\n"
          ]
        }
      ],
      "source": [
        "a_1 = np.sum((y_cut - y_cut.mean()) * X_cut) / np.sum((X_cut - X_cut.mean()) * X_cut)\n",
        "b_1 = y_cut.mean() - a_1 * X_cut.mean()\n",
        "\n",
        "print('Regression coefficient: %.5f' % a_1)\n",
        "print('Intercept: %.5f' % b_1)"
      ]
    },
    {
      "cell_type": "code",
      "execution_count": null,
      "id": "f5cbbd7a-fb07-4e59-8e54-3d5beec3968d",
      "metadata": {
        "id": "f5cbbd7a-fb07-4e59-8e54-3d5beec3968d",
        "outputId": "d7f1b790-a238-4051-dc40-9ba1ad4557b1"
      },
      "outputs": [
        {
          "data": {
            "text/html": [
              "<style>#sk-container-id-1 {color: black;background-color: white;}#sk-container-id-1 pre{padding: 0;}#sk-container-id-1 div.sk-toggleable {background-color: white;}#sk-container-id-1 label.sk-toggleable__label {cursor: pointer;display: block;width: 100%;margin-bottom: 0;padding: 0.3em;box-sizing: border-box;text-align: center;}#sk-container-id-1 label.sk-toggleable__label-arrow:before {content: \"▸\";float: left;margin-right: 0.25em;color: #696969;}#sk-container-id-1 label.sk-toggleable__label-arrow:hover:before {color: black;}#sk-container-id-1 div.sk-estimator:hover label.sk-toggleable__label-arrow:before {color: black;}#sk-container-id-1 div.sk-toggleable__content {max-height: 0;max-width: 0;overflow: hidden;text-align: left;background-color: #f0f8ff;}#sk-container-id-1 div.sk-toggleable__content pre {margin: 0.2em;color: black;border-radius: 0.25em;background-color: #f0f8ff;}#sk-container-id-1 input.sk-toggleable__control:checked~div.sk-toggleable__content {max-height: 200px;max-width: 100%;overflow: auto;}#sk-container-id-1 input.sk-toggleable__control:checked~label.sk-toggleable__label-arrow:before {content: \"▾\";}#sk-container-id-1 div.sk-estimator input.sk-toggleable__control:checked~label.sk-toggleable__label {background-color: #d4ebff;}#sk-container-id-1 div.sk-label input.sk-toggleable__control:checked~label.sk-toggleable__label {background-color: #d4ebff;}#sk-container-id-1 input.sk-hidden--visually {border: 0;clip: rect(1px 1px 1px 1px);clip: rect(1px, 1px, 1px, 1px);height: 1px;margin: -1px;overflow: hidden;padding: 0;position: absolute;width: 1px;}#sk-container-id-1 div.sk-estimator {font-family: monospace;background-color: #f0f8ff;border: 1px dotted black;border-radius: 0.25em;box-sizing: border-box;margin-bottom: 0.5em;}#sk-container-id-1 div.sk-estimator:hover {background-color: #d4ebff;}#sk-container-id-1 div.sk-parallel-item::after {content: \"\";width: 100%;border-bottom: 1px solid gray;flex-grow: 1;}#sk-container-id-1 div.sk-label:hover label.sk-toggleable__label {background-color: #d4ebff;}#sk-container-id-1 div.sk-serial::before {content: \"\";position: absolute;border-left: 1px solid gray;box-sizing: border-box;top: 0;bottom: 0;left: 50%;z-index: 0;}#sk-container-id-1 div.sk-serial {display: flex;flex-direction: column;align-items: center;background-color: white;padding-right: 0.2em;padding-left: 0.2em;position: relative;}#sk-container-id-1 div.sk-item {position: relative;z-index: 1;}#sk-container-id-1 div.sk-parallel {display: flex;align-items: stretch;justify-content: center;background-color: white;position: relative;}#sk-container-id-1 div.sk-item::before, #sk-container-id-1 div.sk-parallel-item::before {content: \"\";position: absolute;border-left: 1px solid gray;box-sizing: border-box;top: 0;bottom: 0;left: 50%;z-index: -1;}#sk-container-id-1 div.sk-parallel-item {display: flex;flex-direction: column;z-index: 1;position: relative;background-color: white;}#sk-container-id-1 div.sk-parallel-item:first-child::after {align-self: flex-end;width: 50%;}#sk-container-id-1 div.sk-parallel-item:last-child::after {align-self: flex-start;width: 50%;}#sk-container-id-1 div.sk-parallel-item:only-child::after {width: 0;}#sk-container-id-1 div.sk-dashed-wrapped {border: 1px dashed gray;margin: 0 0.4em 0.5em 0.4em;box-sizing: border-box;padding-bottom: 0.4em;background-color: white;}#sk-container-id-1 div.sk-label label {font-family: monospace;font-weight: bold;display: inline-block;line-height: 1.2em;}#sk-container-id-1 div.sk-label-container {text-align: center;}#sk-container-id-1 div.sk-container {/* jupyter's `normalize.less` sets `[hidden] { display: none; }` but bootstrap.min.css set `[hidden] { display: none !important; }` so we also need the `!important` here to be able to override the default hidden behavior on the sphinx rendered scikit-learn.org. See: https://github.com/scikit-learn/scikit-learn/issues/21755 */display: inline-block !important;position: relative;}#sk-container-id-1 div.sk-text-repr-fallback {display: none;}</style><div id=\"sk-container-id-1\" class=\"sk-top-container\"><div class=\"sk-text-repr-fallback\"><pre>LinearRegression()</pre><b>In a Jupyter environment, please rerun this cell to show the HTML representation or trust the notebook. <br />On GitHub, the HTML representation is unable to render, please try loading this page with nbviewer.org.</b></div><div class=\"sk-container\" hidden><div class=\"sk-item\"><div class=\"sk-estimator sk-toggleable\"><input class=\"sk-toggleable__control sk-hidden--visually\" id=\"sk-estimator-id-1\" type=\"checkbox\" checked><label for=\"sk-estimator-id-1\" class=\"sk-toggleable__label sk-toggleable__label-arrow\">LinearRegression</label><div class=\"sk-toggleable__content\"><pre>LinearRegression()</pre></div></div></div></div></div>"
            ],
            "text/plain": [
              "LinearRegression()"
            ]
          },
          "execution_count": 10,
          "metadata": {},
          "output_type": "execute_result"
        }
      ],
      "source": [
        "from sklearn.linear_model import LinearRegression\n",
        "\n",
        "model = LinearRegression()\n",
        "\n",
        "#define predictor and response variables\n",
        "X = df['Caffeine_Intake_mg'].values.reshape(-1, 1)\n",
        "y = df['Sleep_Quality_Score']\n",
        "\n",
        "#fit regression model\n",
        "model.fit(X, y)"
      ]
    },
    {
      "cell_type": "code",
      "execution_count": null,
      "id": "637536ee-218d-4d58-b4af-500ca482b0a2",
      "metadata": {
        "id": "637536ee-218d-4d58-b4af-500ca482b0a2",
        "outputId": "8897f69d-c3ec-48c8-987e-6f0c7314db76"
      },
      "outputs": [
        {
          "name": "stdout",
          "output_type": "stream",
          "text": [
            "Regression coefficient: -0.02288\n",
            "Intercept: 5.98460\n"
          ]
        }
      ],
      "source": [
        "print('Regression coefficient: %.5f' % model.coef_)\n",
        "print('Intercept: %.5f' % model.intercept_)"
      ]
    },
    {
      "cell_type": "code",
      "execution_count": null,
      "id": "6417942b-a099-4355-a3de-b1042f963557",
      "metadata": {
        "id": "6417942b-a099-4355-a3de-b1042f963557",
        "outputId": "6e008154-5f38-4ee9-cc43-f4c66ad62acd"
      },
      "outputs": [
        {
          "name": "stdout",
          "output_type": "stream",
          "text": [
            "Correlation coefficient: -0.722\n"
          ]
        }
      ],
      "source": [
        "X = df['Caffeine_Intake_mg']\n",
        "corr_matrix = np.corrcoef(X, y)\n",
        "r0 = corr_matrix[0][1]\n",
        "print('Correlation coefficient: %.3f' % r0)"
      ]
    },
    {
      "cell_type": "code",
      "execution_count": null,
      "id": "71b26862-f35d-4f9f-aeb5-039633ef523f",
      "metadata": {
        "id": "71b26862-f35d-4f9f-aeb5-039633ef523f",
        "outputId": "ce4fd5e1-d7be-42f4-a562-7279d7d14184"
      },
      "outputs": [
        {
          "data": {
            "text/html": [
              "<style>#sk-container-id-2 {color: black;background-color: white;}#sk-container-id-2 pre{padding: 0;}#sk-container-id-2 div.sk-toggleable {background-color: white;}#sk-container-id-2 label.sk-toggleable__label {cursor: pointer;display: block;width: 100%;margin-bottom: 0;padding: 0.3em;box-sizing: border-box;text-align: center;}#sk-container-id-2 label.sk-toggleable__label-arrow:before {content: \"▸\";float: left;margin-right: 0.25em;color: #696969;}#sk-container-id-2 label.sk-toggleable__label-arrow:hover:before {color: black;}#sk-container-id-2 div.sk-estimator:hover label.sk-toggleable__label-arrow:before {color: black;}#sk-container-id-2 div.sk-toggleable__content {max-height: 0;max-width: 0;overflow: hidden;text-align: left;background-color: #f0f8ff;}#sk-container-id-2 div.sk-toggleable__content pre {margin: 0.2em;color: black;border-radius: 0.25em;background-color: #f0f8ff;}#sk-container-id-2 input.sk-toggleable__control:checked~div.sk-toggleable__content {max-height: 200px;max-width: 100%;overflow: auto;}#sk-container-id-2 input.sk-toggleable__control:checked~label.sk-toggleable__label-arrow:before {content: \"▾\";}#sk-container-id-2 div.sk-estimator input.sk-toggleable__control:checked~label.sk-toggleable__label {background-color: #d4ebff;}#sk-container-id-2 div.sk-label input.sk-toggleable__control:checked~label.sk-toggleable__label {background-color: #d4ebff;}#sk-container-id-2 input.sk-hidden--visually {border: 0;clip: rect(1px 1px 1px 1px);clip: rect(1px, 1px, 1px, 1px);height: 1px;margin: -1px;overflow: hidden;padding: 0;position: absolute;width: 1px;}#sk-container-id-2 div.sk-estimator {font-family: monospace;background-color: #f0f8ff;border: 1px dotted black;border-radius: 0.25em;box-sizing: border-box;margin-bottom: 0.5em;}#sk-container-id-2 div.sk-estimator:hover {background-color: #d4ebff;}#sk-container-id-2 div.sk-parallel-item::after {content: \"\";width: 100%;border-bottom: 1px solid gray;flex-grow: 1;}#sk-container-id-2 div.sk-label:hover label.sk-toggleable__label {background-color: #d4ebff;}#sk-container-id-2 div.sk-serial::before {content: \"\";position: absolute;border-left: 1px solid gray;box-sizing: border-box;top: 0;bottom: 0;left: 50%;z-index: 0;}#sk-container-id-2 div.sk-serial {display: flex;flex-direction: column;align-items: center;background-color: white;padding-right: 0.2em;padding-left: 0.2em;position: relative;}#sk-container-id-2 div.sk-item {position: relative;z-index: 1;}#sk-container-id-2 div.sk-parallel {display: flex;align-items: stretch;justify-content: center;background-color: white;position: relative;}#sk-container-id-2 div.sk-item::before, #sk-container-id-2 div.sk-parallel-item::before {content: \"\";position: absolute;border-left: 1px solid gray;box-sizing: border-box;top: 0;bottom: 0;left: 50%;z-index: -1;}#sk-container-id-2 div.sk-parallel-item {display: flex;flex-direction: column;z-index: 1;position: relative;background-color: white;}#sk-container-id-2 div.sk-parallel-item:first-child::after {align-self: flex-end;width: 50%;}#sk-container-id-2 div.sk-parallel-item:last-child::after {align-self: flex-start;width: 50%;}#sk-container-id-2 div.sk-parallel-item:only-child::after {width: 0;}#sk-container-id-2 div.sk-dashed-wrapped {border: 1px dashed gray;margin: 0 0.4em 0.5em 0.4em;box-sizing: border-box;padding-bottom: 0.4em;background-color: white;}#sk-container-id-2 div.sk-label label {font-family: monospace;font-weight: bold;display: inline-block;line-height: 1.2em;}#sk-container-id-2 div.sk-label-container {text-align: center;}#sk-container-id-2 div.sk-container {/* jupyter's `normalize.less` sets `[hidden] { display: none; }` but bootstrap.min.css set `[hidden] { display: none !important; }` so we also need the `!important` here to be able to override the default hidden behavior on the sphinx rendered scikit-learn.org. See: https://github.com/scikit-learn/scikit-learn/issues/21755 */display: inline-block !important;position: relative;}#sk-container-id-2 div.sk-text-repr-fallback {display: none;}</style><div id=\"sk-container-id-2\" class=\"sk-top-container\"><div class=\"sk-text-repr-fallback\"><pre>LinearRegression()</pre><b>In a Jupyter environment, please rerun this cell to show the HTML representation or trust the notebook. <br />On GitHub, the HTML representation is unable to render, please try loading this page with nbviewer.org.</b></div><div class=\"sk-container\" hidden><div class=\"sk-item\"><div class=\"sk-estimator sk-toggleable\"><input class=\"sk-toggleable__control sk-hidden--visually\" id=\"sk-estimator-id-2\" type=\"checkbox\" checked><label for=\"sk-estimator-id-2\" class=\"sk-toggleable__label sk-toggleable__label-arrow\">LinearRegression</label><div class=\"sk-toggleable__content\"><pre>LinearRegression()</pre></div></div></div></div></div>"
            ],
            "text/plain": [
              "LinearRegression()"
            ]
          },
          "execution_count": 13,
          "metadata": {},
          "output_type": "execute_result"
        }
      ],
      "source": [
        "model_1 = LinearRegression()\n",
        "\n",
        "#define predictor and response variables\n",
        "X_cut_reshaped = X_cut.values.reshape(-1, 1)\n",
        "y_cut = df['Sleep_Quality_Score'][df['Caffeine_Intake_mg'] <= 100].reset_index(drop = True)\n",
        "\n",
        "#fit regression model\n",
        "model_1.fit(X_cut_reshaped, y_cut)"
      ]
    },
    {
      "cell_type": "code",
      "execution_count": null,
      "id": "3a9bfb98-3c7c-4291-be6c-ec6bd0d1fc3c",
      "metadata": {
        "id": "3a9bfb98-3c7c-4291-be6c-ec6bd0d1fc3c",
        "outputId": "9d94d918-f87d-4ddc-99e8-29337d05b337"
      },
      "outputs": [
        {
          "name": "stdout",
          "output_type": "stream",
          "text": [
            "Regression coefficient: -0.09239\n",
            "Intercept: 10.05448\n",
            "Correlation coefficient after trimming: -0.982\n"
          ]
        }
      ],
      "source": [
        "print('Regression coefficient: %.5f' % model_1.coef_)\n",
        "print('Intercept: %.5f' % model_1.intercept_)\n",
        "\n",
        "corr_matrix_1 = np.corrcoef(X_cut, y_cut)\n",
        "r0_1 = corr_matrix_1[0][1]\n",
        "print('Correlation coefficient after trimming: %.3f' % r0_1)"
      ]
    },
    {
      "cell_type": "code",
      "execution_count": null,
      "id": "1c790ce8-fc3a-44a9-9178-b41a2006d25a",
      "metadata": {
        "id": "1c790ce8-fc3a-44a9-9178-b41a2006d25a",
        "outputId": "c6c84eed-e433-492c-9375-9be3404c72c0"
      },
      "outputs": [
        {
          "name": "stdout",
          "output_type": "stream",
          "text": [
            "Determination coefficient: 0.521\n"
          ]
        }
      ],
      "source": [
        "from sklearn.metrics import r2_score\n",
        "\n",
        "corr_matrix = np.corrcoef(X, y)\n",
        "r0 = corr_matrix[0][1]\n",
        "print('Correlation coefficient: %.3f' % r0)\n",
        "X_reshaped = X.values.reshape(-1, 1)\n",
        "\n",
        "y_pred = model.predict(X_reshaped)\n",
        "r2 = r2_score(y, y_pred)\n",
        "print('Determination coefficient: %.3f' % r2)"
      ]
    },
    {
      "cell_type": "code",
      "execution_count": null,
      "id": "8bfe4a24-ead2-47ea-a208-a644f65f4433",
      "metadata": {
        "id": "8bfe4a24-ead2-47ea-a208-a644f65f4433",
        "outputId": "0d0347d9-d6b6-4318-fe21-63973c834ab4"
      },
      "outputs": [
        {
          "data": {
            "text/plain": [
              "[<matplotlib.lines.Line2D at 0x7f670c553c70>]"
            ]
          },
          "execution_count": 104,
          "metadata": {},
          "output_type": "execute_result"
        },
        {
          "data": {
            "image/png": "[encoded data removed]",
            "text/plain": [
              "<Figure size 640x480 with 1 Axes>"
            ]
          },
          "metadata": {},
          "output_type": "display_data"
        }
      ],
      "source": [
        "plt.plot(X_reshaped, y_pred)"
      ]
    },
    {
      "cell_type": "code",
      "execution_count": null,
      "id": "aaef0361-5b59-4ee3-933d-4c767d0ddf3f",
      "metadata": {
        "id": "aaef0361-5b59-4ee3-933d-4c767d0ddf3f",
        "outputId": "8ac6dd3e-1fb3-476e-a5a4-535e9c447a45"
      },
      "outputs": [
        {
          "name": "stdout",
          "output_type": "stream",
          "text": [
            "Determination coefficient: 0.964\n"
          ]
        }
      ],
      "source": [
        "X_cut_reshaped = X_cut.values.reshape(-1, 1)\n",
        "\n",
        "y_pred_1 = model_1.predict(X_cut_reshaped)\n",
        "r2_1 = r2_score(y_cut, y_pred_1)\n",
        "print('Determination coefficient: %.3f' % r2_1)"
      ]
    },
    {
      "cell_type": "code",
      "execution_count": null,
      "id": "8f6735c1-18c7-43d8-b16e-f019cd674837",
      "metadata": {
        "id": "8f6735c1-18c7-43d8-b16e-f019cd674837",
        "outputId": "8dea0865-8b96-4076-ac13-ec20444aba02"
      },
      "outputs": [
        {
          "data": {
            "text/html": [
              "<div>\n",
              "<style scoped>\n",
              "    .dataframe tbody tr th:only-of-type {\n",
              "        vertical-align: middle;\n",
              "    }\n",
              "\n",
              "    .dataframe tbody tr th {\n",
              "        vertical-align: top;\n",
              "    }\n",
              "\n",
              "    .dataframe thead th {\n",
              "        text-align: right;\n",
              "    }\n",
              "</style>\n",
              "<table border=\"1\" class=\"dataframe\">\n",
              "  <thead>\n",
              "    <tr style=\"text-align: right;\">\n",
              "      <th></th>\n",
              "      <th>x_ix</th>\n",
              "      <th>y_true_ix</th>\n",
              "      <th>y_pred_ix</th>\n",
              "    </tr>\n",
              "  </thead>\n",
              "  <tbody>\n",
              "    <tr>\n",
              "      <th>0</th>\n",
              "      <td>0.000000</td>\n",
              "      <td>10.0</td>\n",
              "      <td>5.984595</td>\n",
              "    </tr>\n",
              "    <tr>\n",
              "      <th>1</th>\n",
              "      <td>116.990981</td>\n",
              "      <td>1.0</td>\n",
              "      <td>3.308270</td>\n",
              "    </tr>\n",
              "    <tr>\n",
              "      <th>2</th>\n",
              "      <td>104.658589</td>\n",
              "      <td>1.0</td>\n",
              "      <td>3.590390</td>\n",
              "    </tr>\n",
              "    <tr>\n",
              "      <th>3</th>\n",
              "      <td>107.624032</td>\n",
              "      <td>1.0</td>\n",
              "      <td>3.522551</td>\n",
              "    </tr>\n",
              "  </tbody>\n",
              "</table>\n",
              "</div>"
            ],
            "text/plain": [
              "         x_ix  y_true_ix  y_pred_ix\n",
              "0    0.000000       10.0   5.984595\n",
              "1  116.990981        1.0   3.308270\n",
              "2  104.658589        1.0   3.590390\n",
              "3  107.624032        1.0   3.522551"
            ]
          },
          "execution_count": 301,
          "metadata": {},
          "output_type": "execute_result"
        }
      ],
      "source": [
        "N = 4\n",
        "\n",
        "ix = np.random.choice(np.arange(N), 4, replace=False)\n",
        "x_ix = X_reshaped[ix]\n",
        "y_true_ix = y[ix]\n",
        "y_pred_ix = y_pred[ix]\n",
        "\n",
        "df_rand_obj = pd.DataFrame({\n",
        "    'x_ix': x_ix.ravel(),\n",
        "    'y_true_ix': y_true_ix.ravel() ,\n",
        "    'y_pred_ix': y_pred_ix.ravel(),\n",
        "})\n",
        "df_rand_obj"
      ]
    },
    {
      "cell_type": "code",
      "execution_count": null,
      "id": "13d0a5d3-8913-447b-8369-111c4da3c87a",
      "metadata": {
        "id": "13d0a5d3-8913-447b-8369-111c4da3c87a"
      },
      "outputs": [],
      "source": [
        "err = np.mean(np.abs(y - y_pred) / y)"
      ]
    },
    {
      "cell_type": "code",
      "execution_count": null,
      "id": "63144c04-3751-4229-ae8e-bcee6bdb74e3",
      "metadata": {
        "id": "63144c04-3751-4229-ae8e-bcee6bdb74e3",
        "outputId": "5b49cb9a-901a-46b1-a82c-529e821d4390"
      },
      "outputs": [
        {
          "data": {
            "text/plain": [
              "1.1611142097459528"
            ]
          },
          "execution_count": 102,
          "metadata": {},
          "output_type": "execute_result"
        }
      ],
      "source": [
        "err = np.mean(np.abs(y - y_pred) / y)\n",
        "err"
      ]
    },
    {
      "cell_type": "code",
      "execution_count": null,
      "id": "4b70acdb-1889-4616-99cc-f4d6f24d98ab",
      "metadata": {
        "id": "4b70acdb-1889-4616-99cc-f4d6f24d98ab",
        "outputId": "4472dea8-f926-4002-9367-54ace7fed6f5"
      },
      "outputs": [
        {
          "data": {
            "text/html": [
              "<div>\n",
              "<style scoped>\n",
              "    .dataframe tbody tr th:only-of-type {\n",
              "        vertical-align: middle;\n",
              "    }\n",
              "\n",
              "    .dataframe tbody tr th {\n",
              "        vertical-align: top;\n",
              "    }\n",
              "\n",
              "    .dataframe thead th {\n",
              "        text-align: right;\n",
              "    }\n",
              "</style>\n",
              "<table border=\"1\" class=\"dataframe\">\n",
              "  <thead>\n",
              "    <tr style=\"text-align: right;\">\n",
              "      <th></th>\n",
              "      <th>x_ix</th>\n",
              "      <th>y_true_ix</th>\n",
              "      <th>y_pred_ix</th>\n",
              "      <th>error</th>\n",
              "    </tr>\n",
              "  </thead>\n",
              "  <tbody>\n",
              "    <tr>\n",
              "      <th>3</th>\n",
              "      <td>98.823644</td>\n",
              "      <td>1.485861</td>\n",
              "      <td>0.924534</td>\n",
              "      <td>0.377779</td>\n",
              "    </tr>\n",
              "    <tr>\n",
              "      <th>2</th>\n",
              "      <td>76.576668</td>\n",
              "      <td>2.409237</td>\n",
              "      <td>2.979850</td>\n",
              "      <td>-0.236844</td>\n",
              "    </tr>\n",
              "    <tr>\n",
              "      <th>0</th>\n",
              "      <td>0.000000</td>\n",
              "      <td>10.000000</td>\n",
              "      <td>10.054484</td>\n",
              "      <td>-0.005448</td>\n",
              "    </tr>\n",
              "    <tr>\n",
              "      <th>1</th>\n",
              "      <td>22.576788</td>\n",
              "      <td>7.122153</td>\n",
              "      <td>7.968698</td>\n",
              "      <td>-0.118861</td>\n",
              "    </tr>\n",
              "  </tbody>\n",
              "</table>\n",
              "</div>"
            ],
            "text/plain": [
              "        x_ix  y_true_ix  y_pred_ix     error\n",
              "3  98.823644   1.485861   0.924534  0.377779\n",
              "2  76.576668   2.409237   2.979850 -0.236844\n",
              "0   0.000000  10.000000  10.054484 -0.005448\n",
              "1  22.576788   7.122153   7.968698 -0.118861"
            ]
          },
          "execution_count": 107,
          "metadata": {},
          "output_type": "execute_result"
        }
      ],
      "source": [
        "N = 4\n",
        "\n",
        "ix_1 = np.random.choice(np.arange(N), 4, replace=False)\n",
        "x_ix_1 = X_cut_reshaped[ix_1]\n",
        "y_true_ix_1 = y_cut[ix_1]\n",
        "y_pred_ix_1 = y_pred_1[ix_1]\n",
        "errors_1 = (y_true_ix_1 - y_pred_ix_1) / y_true_ix_1\n",
        "df_rand_obj_1 = pd.DataFrame({\n",
        "    'x_ix': x_ix_1.ravel(),\n",
        "    'y_true_ix': y_true_ix_1.ravel() ,\n",
        "    'y_pred_ix': y_pred_ix_1.ravel(),\n",
        "    'error': errors_1\n",
        "})\n",
        "df_rand_obj_1\n"
      ]
    },
    {
      "cell_type": "code",
      "execution_count": null,
      "id": "429b1679-eafb-4062-88f9-1a52723dd3f5",
      "metadata": {
        "id": "429b1679-eafb-4062-88f9-1a52723dd3f5",
        "outputId": "6fe06239-9a5c-49f8-a2db-61620d26dd62"
      },
      "outputs": [
        {
          "data": {
            "text/html": [
              "<div>\n",
              "<style scoped>\n",
              "    .dataframe tbody tr th:only-of-type {\n",
              "        vertical-align: middle;\n",
              "    }\n",
              "\n",
              "    .dataframe tbody tr th {\n",
              "        vertical-align: top;\n",
              "    }\n",
              "\n",
              "    .dataframe thead th {\n",
              "        text-align: right;\n",
              "    }\n",
              "</style>\n",
              "<table border=\"1\" class=\"dataframe\">\n",
              "  <thead>\n",
              "    <tr style=\"text-align: right;\">\n",
              "      <th></th>\n",
              "      <th>x_ix</th>\n",
              "      <th>y_true_ix</th>\n",
              "      <th>y_pred_ix</th>\n",
              "    </tr>\n",
              "  </thead>\n",
              "  <tbody>\n",
              "    <tr>\n",
              "      <th>0</th>\n",
              "      <td>98.823644</td>\n",
              "      <td>1.485861</td>\n",
              "      <td>0.924534</td>\n",
              "    </tr>\n",
              "    <tr>\n",
              "      <th>1</th>\n",
              "      <td>76.576668</td>\n",
              "      <td>2.409237</td>\n",
              "      <td>2.979850</td>\n",
              "    </tr>\n",
              "    <tr>\n",
              "      <th>2</th>\n",
              "      <td>0.000000</td>\n",
              "      <td>10.000000</td>\n",
              "      <td>10.054484</td>\n",
              "    </tr>\n",
              "    <tr>\n",
              "      <th>3</th>\n",
              "      <td>22.576788</td>\n",
              "      <td>7.122153</td>\n",
              "      <td>7.968698</td>\n",
              "    </tr>\n",
              "  </tbody>\n",
              "</table>\n",
              "</div>"
            ],
            "text/plain": [
              "        x_ix  y_true_ix  y_pred_ix\n",
              "0  98.823644   1.485861   0.924534\n",
              "1  76.576668   2.409237   2.979850\n",
              "2   0.000000  10.000000  10.054484\n",
              "3  22.576788   7.122153   7.968698"
            ]
          },
          "execution_count": 19,
          "metadata": {},
          "output_type": "execute_result"
        }
      ],
      "source": [
        "df_rand_obj_1 = pd.DataFrame({\n",
        "    'x_ix': x_ix_1.ravel(),\n",
        "    'y_true_ix': y_true_ix_1.ravel() ,\n",
        "    'y_pred_ix': y_pred_ix_1.ravel()\n",
        "})\n",
        "df_rand_obj_1"
      ]
    },
    {
      "cell_type": "code",
      "execution_count": null,
      "id": "77326e3b-2fe0-4eeb-82df-b5046d6d9f44",
      "metadata": {
        "id": "77326e3b-2fe0-4eeb-82df-b5046d6d9f44",
        "outputId": "d54cef20-0830-4b15-d52d-d9dd2040f8f4"
      },
      "outputs": [
        {
          "data": {
            "text/plain": [
              "0.15045451506296778"
            ]
          },
          "execution_count": 106,
          "metadata": {},
          "output_type": "execute_result"
        }
      ],
      "source": [
        "err_1 = np.mean(np.abs(y_cut - y_pred_1) / y_cut)\n",
        "err_1"
      ]
    },
    {
      "cell_type": "code",
      "execution_count": null,
      "id": "eb60d724-467e-4348-9958-63d9e806907b",
      "metadata": {
        "id": "eb60d724-467e-4348-9958-63d9e806907b",
        "outputId": "e4399efd-856b-4c2f-fcb5-9730d61015a2"
      },
      "outputs": [
        {
          "data": {
            "text/plain": [
              "(1.1611142097459528, 1.5501539611992756)"
            ]
          },
          "execution_count": 115,
          "metadata": {},
          "output_type": "execute_result"
        }
      ],
      "source": [
        "d = abs(y - y_pred)\n",
        "dda = d/abs(y)\n",
        "dml = d/abs(y_pred)\n",
        "eda = np.mean(dda)\n",
        "eml = np.mean(dml)\n",
        "\n",
        "\n",
        "eda, eml"
      ]
    },
    {
      "cell_type": "code",
      "execution_count": null,
      "id": "05b252ad-7757-4987-a387-871d908158ba",
      "metadata": {
        "id": "05b252ad-7757-4987-a387-871d908158ba",
        "outputId": "51cc28cc-d5d4-4520-a0a4-7ff5760af9c7"
      },
      "outputs": [
        {
          "data": {
            "text/plain": [
              "-3.165940078927168"
            ]
          },
          "execution_count": 117,
          "metadata": {},
          "output_type": "execute_result"
        }
      ],
      "source": [
        "y_pred.min()"
      ]
    },
    {
      "cell_type": "code",
      "execution_count": null,
      "id": "ef053e0b-40e5-421b-9872-4b8873713d56",
      "metadata": {
        "id": "ef053e0b-40e5-421b-9872-4b8873713d56",
        "outputId": "fd133f50-eb38-4fea-d8a8-69f549282527"
      },
      "outputs": [
        {
          "data": {
            "text/plain": [
              "-176.80016641082872"
            ]
          },
          "execution_count": 113,
          "metadata": {},
          "output_type": "execute_result"
        }
      ],
      "source": [
        "dml.min()"
      ]
    },
    {
      "cell_type": "code",
      "execution_count": null,
      "id": "92c7ff36-83ca-4f6b-95f4-f73b43f823f8",
      "metadata": {
        "id": "92c7ff36-83ca-4f6b-95f4-f73b43f823f8",
        "outputId": "f06f4565-0814-4e67-b9b2-b681f7eaeeb3"
      },
      "outputs": [
        {
          "data": {
            "text/plain": [
              "(0.15045451506296778, 0.13617045167618588)"
            ]
          },
          "execution_count": 116,
          "metadata": {},
          "output_type": "execute_result"
        }
      ],
      "source": [
        "d_1 = abs(y_cut - y_pred_1)\n",
        "dda_1 = d_1/y_cut\n",
        "dml_1 = d_1/abs(y_pred_1)\n",
        "eda_1 = np.mean(dda_1)\n",
        "eml_1 = np.mean(dml_1)\n",
        "\n",
        "eda_1, eml_1"
      ]
    },
    {
      "cell_type": "markdown",
      "id": "f2dfaa57-3c0e-46f4-af1c-600c3505c809",
      "metadata": {
        "id": "f2dfaa57-3c0e-46f4-af1c-600c3505c809"
      },
      "source": [
        "# МГК/SVD"
      ]
    },
    {
      "cell_type": "markdown",
      "id": "baa0e822-072b-415e-a7e0-d53cfd971115",
      "metadata": {
        "id": "baa0e822-072b-415e-a7e0-d53cfd971115"
      },
      "source": [
        "Для выполнения данной домашней работы, авторами были выбраны признаки\n",
        "Caffeine_Intake_mg, Bedtime_Consistency и Light_Exposure_hours. По мнению авторов они более или менее относятся\n",
        "к одному и тому же аспекту данных (Все эти признаки являются показателями качества сна.)."
      ]
    },
    {
      "cell_type": "code",
      "execution_count": null,
      "id": "5dcdaa94-cf8a-4d8f-8d02-12416d1cebb0",
      "metadata": {
        "id": "5dcdaa94-cf8a-4d8f-8d02-12416d1cebb0"
      },
      "outputs": [],
      "source": [
        "Heart_Rate_Variability\tBody_Temperature Stress_Level"
      ]
    },
    {
      "cell_type": "code",
      "execution_count": null,
      "id": "b0ede5ee-14d8-480f-83a8-3cdc93fd21ca",
      "metadata": {
        "id": "b0ede5ee-14d8-480f-83a8-3cdc93fd21ca",
        "outputId": "d1c64e69-5912-4525-f182-db8d9394a7f6"
      },
      "outputs": [
        {
          "data": {
            "text/html": [
              "<div>\n",
              "<style scoped>\n",
              "    .dataframe tbody tr th:only-of-type {\n",
              "        vertical-align: middle;\n",
              "    }\n",
              "\n",
              "    .dataframe tbody tr th {\n",
              "        vertical-align: top;\n",
              "    }\n",
              "\n",
              "    .dataframe thead th {\n",
              "        text-align: right;\n",
              "    }\n",
              "</style>\n",
              "<table border=\"1\" class=\"dataframe\">\n",
              "  <thead>\n",
              "    <tr style=\"text-align: right;\">\n",
              "      <th></th>\n",
              "      <th>Body_Temperature</th>\n",
              "      <th>Stress_Level</th>\n",
              "      <th>Heart_Rate_Variability</th>\n",
              "    </tr>\n",
              "  </thead>\n",
              "  <tbody>\n",
              "    <tr>\n",
              "      <th>0</th>\n",
              "      <td>37.199678</td>\n",
              "      <td>2.771837</td>\n",
              "      <td>79.934283</td>\n",
              "    </tr>\n",
              "    <tr>\n",
              "      <th>1</th>\n",
              "      <td>36.962317</td>\n",
              "      <td>3.738138</td>\n",
              "      <td>67.234714</td>\n",
              "    </tr>\n",
              "    <tr>\n",
              "      <th>2</th>\n",
              "      <td>36.529815</td>\n",
              "      <td>3.115880</td>\n",
              "      <td>82.953771</td>\n",
              "    </tr>\n",
              "    <tr>\n",
              "      <th>3</th>\n",
              "      <td>36.176532</td>\n",
              "      <td>3.904008</td>\n",
              "      <td>100.460597</td>\n",
              "    </tr>\n",
              "    <tr>\n",
              "      <th>4</th>\n",
              "      <td>36.849112</td>\n",
              "      <td>4.571699</td>\n",
              "      <td>65.316933</td>\n",
              "    </tr>\n",
              "    <tr>\n",
              "      <th>...</th>\n",
              "      <td>...</td>\n",
              "      <td>...</td>\n",
              "      <td>...</td>\n",
              "    </tr>\n",
              "    <tr>\n",
              "      <th>995</th>\n",
              "      <td>37.035075</td>\n",
              "      <td>4.404266</td>\n",
              "      <td>64.377994</td>\n",
              "    </tr>\n",
              "    <tr>\n",
              "      <th>996</th>\n",
              "      <td>36.486739</td>\n",
              "      <td>6.538063</td>\n",
              "      <td>105.953731</td>\n",
              "    </tr>\n",
              "    <tr>\n",
              "      <th>997</th>\n",
              "      <td>36.059063</td>\n",
              "      <td>3.945222</td>\n",
              "      <td>82.816857</td>\n",
              "    </tr>\n",
              "    <tr>\n",
              "      <th>998</th>\n",
              "      <td>36.418467</td>\n",
              "      <td>4.989787</td>\n",
              "      <td>58.576420</td>\n",
              "    </tr>\n",
              "    <tr>\n",
              "      <th>999</th>\n",
              "      <td>36.127549</td>\n",
              "      <td>5.797528</td>\n",
              "      <td>81.451656</td>\n",
              "    </tr>\n",
              "  </tbody>\n",
              "</table>\n",
              "<p>1000 rows × 3 columns</p>\n",
              "</div>"
            ],
            "text/plain": [
              "     Body_Temperature  Stress_Level  Heart_Rate_Variability\n",
              "0           37.199678      2.771837               79.934283\n",
              "1           36.962317      3.738138               67.234714\n",
              "2           36.529815      3.115880               82.953771\n",
              "3           36.176532      3.904008              100.460597\n",
              "4           36.849112      4.571699               65.316933\n",
              "..                ...           ...                     ...\n",
              "995         37.035075      4.404266               64.377994\n",
              "996         36.486739      6.538063              105.953731\n",
              "997         36.059063      3.945222               82.816857\n",
              "998         36.418467      4.989787               58.576420\n",
              "999         36.127549      5.797528               81.451656\n",
              "\n",
              "[1000 rows x 3 columns]"
            ]
          },
          "execution_count": 136,
          "metadata": {},
          "output_type": "execute_result"
        }
      ],
      "source": [
        "df_dz2 = df[['Body_Temperature', 'Stress_Level', 'Heart_Rate_Variability']]\n",
        "df_dz2"
      ]
    },
    {
      "cell_type": "code",
      "execution_count": null,
      "id": "5716a9a9-67d8-432e-bd8f-3408d8fbbd02",
      "metadata": {
        "id": "5716a9a9-67d8-432e-bd8f-3408d8fbbd02"
      },
      "outputs": [],
      "source": [
        "Xz = (df_dz2 - df_dz2.mean()) / df_dz2.std()\n",
        "uz, sz, vhz = np.linalg.svd(Xz)"
      ]
    },
    {
      "cell_type": "code",
      "execution_count": null,
      "id": "a7dbb54a-2ae0-4d7b-b551-b71e8c5e4b33",
      "metadata": {
        "id": "a7dbb54a-2ae0-4d7b-b551-b71e8c5e4b33",
        "outputId": "98c1c6c3-3887-4360-d8e9-8194b96bc2fe"
      },
      "outputs": [
        {
          "data": {
            "text/plain": [
              "array([32.433019  , 31.63093313, 30.7340747 ])"
            ]
          },
          "execution_count": 138,
          "metadata": {},
          "output_type": "execute_result"
        }
      ],
      "source": [
        "sz"
      ]
    },
    {
      "cell_type": "code",
      "execution_count": null,
      "id": "abf45a90-8563-4ccf-ac2e-bc1c03736c75",
      "metadata": {
        "id": "abf45a90-8563-4ccf-ac2e-bc1c03736c75",
        "outputId": "64e462a1-6e77-4527-84da-f3e164bdc94d"
      },
      "outputs": [
        {
          "data": {
            "text/html": [
              "<div>\n",
              "<style scoped>\n",
              "    .dataframe tbody tr th:only-of-type {\n",
              "        vertical-align: middle;\n",
              "    }\n",
              "\n",
              "    .dataframe tbody tr th {\n",
              "        vertical-align: top;\n",
              "    }\n",
              "\n",
              "    .dataframe thead th {\n",
              "        text-align: right;\n",
              "    }\n",
              "</style>\n",
              "<table border=\"1\" class=\"dataframe\">\n",
              "  <thead>\n",
              "    <tr style=\"text-align: right;\">\n",
              "      <th></th>\n",
              "      <th>Body_Temperature</th>\n",
              "      <th>Stress_Level</th>\n",
              "      <th>Heart_Rate_Variability</th>\n",
              "    </tr>\n",
              "  </thead>\n",
              "  <tbody>\n",
              "    <tr>\n",
              "      <th>count</th>\n",
              "      <td>1.000000e+03</td>\n",
              "      <td>1.000000e+03</td>\n",
              "      <td>1.000000e+03</td>\n",
              "    </tr>\n",
              "    <tr>\n",
              "      <th>mean</th>\n",
              "      <td>3.540279e-15</td>\n",
              "      <td>3.792522e-16</td>\n",
              "      <td>-8.792966e-17</td>\n",
              "    </tr>\n",
              "    <tr>\n",
              "      <th>std</th>\n",
              "      <td>1.000000e+00</td>\n",
              "      <td>1.000000e+00</td>\n",
              "      <td>1.000000e+00</td>\n",
              "    </tr>\n",
              "    <tr>\n",
              "      <th>min</th>\n",
              "      <td>-3.018910e+00</td>\n",
              "      <td>-2.430725e+00</td>\n",
              "      <td>-3.329806e+00</td>\n",
              "    </tr>\n",
              "    <tr>\n",
              "      <th>25%</th>\n",
              "      <td>-6.788059e-01</td>\n",
              "      <td>-7.139394e-01</td>\n",
              "      <td>-6.810779e-01</td>\n",
              "    </tr>\n",
              "    <tr>\n",
              "      <th>50%</th>\n",
              "      <td>-7.778907e-03</td>\n",
              "      <td>-2.481852e-02</td>\n",
              "      <td>6.095240e-03</td>\n",
              "    </tr>\n",
              "    <tr>\n",
              "      <th>75%</th>\n",
              "      <td>6.597254e-01</td>\n",
              "      <td>7.175324e-01</td>\n",
              "      <td>6.419542e-01</td>\n",
              "    </tr>\n",
              "    <tr>\n",
              "      <th>max</th>\n",
              "      <td>3.130240e+00</td>\n",
              "      <td>2.488819e+00</td>\n",
              "      <td>3.914764e+00</td>\n",
              "    </tr>\n",
              "  </tbody>\n",
              "</table>\n",
              "</div>"
            ],
            "text/plain": [
              "       Body_Temperature  Stress_Level  Heart_Rate_Variability\n",
              "count      1.000000e+03  1.000000e+03            1.000000e+03\n",
              "mean       3.540279e-15  3.792522e-16           -8.792966e-17\n",
              "std        1.000000e+00  1.000000e+00            1.000000e+00\n",
              "min       -3.018910e+00 -2.430725e+00           -3.329806e+00\n",
              "25%       -6.788059e-01 -7.139394e-01           -6.810779e-01\n",
              "50%       -7.778907e-03 -2.481852e-02            6.095240e-03\n",
              "75%        6.597254e-01  7.175324e-01            6.419542e-01\n",
              "max        3.130240e+00  2.488819e+00            3.914764e+00"
            ]
          },
          "execution_count": 139,
          "metadata": {},
          "output_type": "execute_result"
        }
      ],
      "source": [
        "Xz.describe()"
      ]
    },
    {
      "cell_type": "code",
      "execution_count": null,
      "id": "8bfc630d-ef03-4980-a7d9-cbf558fc3828",
      "metadata": {
        "id": "8bfc630d-ef03-4980-a7d9-cbf558fc3828",
        "outputId": "100ae980-714a-4a53-ffb7-00224b8bd9a6"
      },
      "outputs": [
        {
          "data": {
            "text/plain": [
              "array([[ 0.52995143,  0.46053883, -0.71207828],\n",
              "       [ 0.65881372, -0.75229672,  0.00376   ],\n",
              "       [ 0.53396252,  0.47111955,  0.70209002]])"
            ]
          },
          "execution_count": 140,
          "metadata": {},
          "output_type": "execute_result"
        }
      ],
      "source": [
        "vhz"
      ]
    },
    {
      "cell_type": "code",
      "execution_count": null,
      "id": "108e60d8-b7f5-4671-83ac-e7f44fbd5204",
      "metadata": {
        "id": "108e60d8-b7f5-4671-83ac-e7f44fbd5204",
        "outputId": "3e0b9ff1-3997-4e6f-b807-3c2d35fb1481"
      },
      "outputs": [
        {
          "data": {
            "text/plain": [
              "array([ 0.52995143,  0.46053883, -0.71207828])"
            ]
          },
          "execution_count": 141,
          "metadata": {},
          "output_type": "execute_result"
        }
      ],
      "source": [
        "pca1 = vhz[0]\n",
        "pca2 = vhz[1]"
      ]
    },
    {
      "cell_type": "code",
      "execution_count": null,
      "id": "f77a6726-9bcf-4ee1-977e-dda2c6d6c879",
      "metadata": {
        "id": "f77a6726-9bcf-4ee1-977e-dda2c6d6c879",
        "outputId": "ce93a64e-7a00-418b-9c20-81314c58be88"
      },
      "outputs": [
        {
          "data": {
            "text/plain": [
              "array([ 0.65881372, -0.75229672,  0.00376   ])"
            ]
          },
          "execution_count": 142,
          "metadata": {},
          "output_type": "execute_result"
        }
      ],
      "source": [
        "pca2 = vhz[1]\n",
        "pca2"
      ]
    },
    {
      "cell_type": "code",
      "execution_count": null,
      "id": "e4b26e3a-6ed8-44d4-9047-82133910d17d",
      "metadata": {
        "id": "e4b26e3a-6ed8-44d4-9047-82133910d17d",
        "outputId": "2ac40833-ada3-4957-f93c-c4a05b24457c"
      },
      "outputs": [
        {
          "data": {
            "text/plain": [
              "2997.0"
            ]
          },
          "execution_count": 143,
          "metadata": {},
          "output_type": "execute_result"
        }
      ],
      "source": [
        "data_scatter = np.sum((Xz**2).values)\n",
        "contributions = sz**2 /data_scatter"
      ]
    },
    {
      "cell_type": "code",
      "execution_count": null,
      "id": "9b5d061d-2d55-4a87-ba0a-9c863677b601",
      "metadata": {
        "id": "9b5d061d-2d55-4a87-ba0a-9c863677b601",
        "outputId": "c67b2d15-9aa5-41d9-ee92-d7b76f1508cc"
      },
      "outputs": [
        {
          "data": {
            "text/plain": [
              "array([0.35098456, 0.33383915, 0.31517629])"
            ]
          },
          "execution_count": 144,
          "metadata": {},
          "output_type": "execute_result"
        }
      ],
      "source": [
        "contributions = sz**2 /data_scatter\n",
        "contributions"
      ]
    },
    {
      "cell_type": "code",
      "execution_count": null,
      "id": "e512544c-e924-432e-9ed7-93d920bb1337",
      "metadata": {
        "id": "e512544c-e924-432e-9ed7-93d920bb1337",
        "outputId": "5a9111b3-9f70-4126-ec59-c4f0aba49ff4"
      },
      "outputs": [
        {
          "data": {
            "text/plain": [
              "0     -1.067108\n",
              "1     -0.591732\n",
              "2     -0.897854\n",
              "3     -0.510131\n",
              "4     -0.181657\n",
              "         ...   \n",
              "995   -0.264027\n",
              "996    0.785704\n",
              "997   -0.489856\n",
              "998    0.024022\n",
              "999    0.421394\n",
              "Name: Stress_Level, Length: 1000, dtype: float64"
            ]
          },
          "execution_count": 145,
          "metadata": {},
          "output_type": "execute_result"
        }
      ],
      "source": [
        "Xz.iloc[:, 1]"
      ]
    },
    {
      "cell_type": "code",
      "execution_count": null,
      "id": "22da4bc6-82e6-4506-b253-4b15ea36f162",
      "metadata": {
        "id": "22da4bc6-82e6-4506-b253-4b15ea36f162",
        "outputId": "b718076a-b590-4e0a-da62-7c5f6e03117e"
      },
      "outputs": [
        {
          "data": {
            "image/png": "[encoded data removed]",
            "text/plain": [
              "<Figure size 640x480 with 1 Axes>"
            ]
          },
          "metadata": {},
          "output_type": "display_data"
        }
      ],
      "source": [
        "Xz = (df_dz2 - df_dz2.mean()) / df_dz2.std()\n",
        "uz, sz, vhz = np.linalg.svd(Xz)\n",
        "\n",
        "uz0 = -uz[:, 0]\n",
        "vhz0 = -vhz[0]\n",
        "uz1 = uz[:, 1]\n",
        "\n",
        "plt.scatter(uz0, uz1)\n",
        "plt.scatter(uz0[Xz.iloc[:, 1].values > Xz.iloc[:, 1].mean()], uz1[Xz.iloc[:, 1].values > Xz.iloc[:, 1].mean()])\n",
        "plt.title('PCA of Z-score standardized data')\n",
        "plt.show()"
      ]
    },
    {
      "cell_type": "code",
      "execution_count": null,
      "id": "0c253cfe-67a2-4a0f-98aa-08dbdd9d0790",
      "metadata": {
        "id": "0c253cfe-67a2-4a0f-98aa-08dbdd9d0790"
      },
      "outputs": [],
      "source": [
        "Xr = (df_dz2 - df_dz2.mean()) / (df_dz2.max() - df_dz2.min())\n",
        "ur, sr, vhr = np.linalg.svd(Xr)"
      ]
    },
    {
      "cell_type": "code",
      "execution_count": null,
      "id": "e49f2221-09dd-4ccb-99aa-16eaa5aa358f",
      "metadata": {
        "id": "e49f2221-09dd-4ccb-99aa-16eaa5aa358f",
        "outputId": "c004fb76-a715-40f5-aaeb-6ec981686e1e"
      },
      "outputs": [
        {
          "data": {
            "text/html": [
              "<div>\n",
              "<style scoped>\n",
              "    .dataframe tbody tr th:only-of-type {\n",
              "        vertical-align: middle;\n",
              "    }\n",
              "\n",
              "    .dataframe tbody tr th {\n",
              "        vertical-align: top;\n",
              "    }\n",
              "\n",
              "    .dataframe thead th {\n",
              "        text-align: right;\n",
              "    }\n",
              "</style>\n",
              "<table border=\"1\" class=\"dataframe\">\n",
              "  <thead>\n",
              "    <tr style=\"text-align: right;\">\n",
              "      <th></th>\n",
              "      <th>Body_Temperature</th>\n",
              "      <th>Stress_Level</th>\n",
              "      <th>Heart_Rate_Variability</th>\n",
              "    </tr>\n",
              "  </thead>\n",
              "  <tbody>\n",
              "    <tr>\n",
              "      <th>count</th>\n",
              "      <td>1.000000e+03</td>\n",
              "      <td>1.000000e+03</td>\n",
              "      <td>1.000000e+03</td>\n",
              "    </tr>\n",
              "    <tr>\n",
              "      <th>mean</th>\n",
              "      <td>5.746514e-16</td>\n",
              "      <td>7.704948e-17</td>\n",
              "      <td>-1.176836e-17</td>\n",
              "    </tr>\n",
              "    <tr>\n",
              "      <th>std</th>\n",
              "      <td>1.626241e-01</td>\n",
              "      <td>2.032708e-01</td>\n",
              "      <td>1.380344e-01</td>\n",
              "    </tr>\n",
              "    <tr>\n",
              "      <th>min</th>\n",
              "      <td>-4.909475e-01</td>\n",
              "      <td>-4.940956e-01</td>\n",
              "      <td>-4.596278e-01</td>\n",
              "    </tr>\n",
              "    <tr>\n",
              "      <th>25%</th>\n",
              "      <td>-1.103902e-01</td>\n",
              "      <td>-1.451231e-01</td>\n",
              "      <td>-9.401219e-02</td>\n",
              "    </tr>\n",
              "    <tr>\n",
              "      <th>50%</th>\n",
              "      <td>-1.265038e-03</td>\n",
              "      <td>-5.044882e-03</td>\n",
              "      <td>8.413529e-04</td>\n",
              "    </tr>\n",
              "    <tr>\n",
              "      <th>75%</th>\n",
              "      <td>1.072872e-01</td>\n",
              "      <td>1.458534e-01</td>\n",
              "      <td>8.861177e-02</td>\n",
              "    </tr>\n",
              "    <tr>\n",
              "      <th>max</th>\n",
              "      <td>5.090525e-01</td>\n",
              "      <td>5.059044e-01</td>\n",
              "      <td>5.403722e-01</td>\n",
              "    </tr>\n",
              "  </tbody>\n",
              "</table>\n",
              "</div>"
            ],
            "text/plain": [
              "       Body_Temperature  Stress_Level  Heart_Rate_Variability\n",
              "count      1.000000e+03  1.000000e+03            1.000000e+03\n",
              "mean       5.746514e-16  7.704948e-17           -1.176836e-17\n",
              "std        1.626241e-01  2.032708e-01            1.380344e-01\n",
              "min       -4.909475e-01 -4.940956e-01           -4.596278e-01\n",
              "25%       -1.103902e-01 -1.451231e-01           -9.401219e-02\n",
              "50%       -1.265038e-03 -5.044882e-03            8.413529e-04\n",
              "75%        1.072872e-01  1.458534e-01            8.861177e-02\n",
              "max        5.090525e-01  5.059044e-01            5.403722e-01"
            ]
          },
          "execution_count": 150,
          "metadata": {},
          "output_type": "execute_result"
        }
      ],
      "source": [
        "Xr.describe()"
      ]
    },
    {
      "cell_type": "code",
      "execution_count": null,
      "id": "dccac1c6-7161-4752-8b13-88d69f585c4a",
      "metadata": {
        "id": "dccac1c6-7161-4752-8b13-88d69f585c4a",
        "outputId": "447ac540-076a-4beb-b5f9-609b05823536"
      },
      "outputs": [
        {
          "data": {
            "image/png": "[encoded data removed]",
            "text/plain": [
              "<Figure size 640x480 with 1 Axes>"
            ]
          },
          "metadata": {},
          "output_type": "display_data"
        }
      ],
      "source": [
        "Xr = (df_dz2 - df_dz2.mean()) / (df_dz2.max() - df_dz2.min())\n",
        "ur, sr, vhr = np.linalg.svd(Xr)\n",
        "\n",
        "ur0 = -uz[:, 0]\n",
        "vhr0 = -vhz[0]\n",
        "ur1 = uz[:, 1]\n",
        "\n",
        "plt.scatter(ur0, ur1)\n",
        "plt.scatter(ur0[Xr.iloc[:, 0].values > 0.2 * Xr.iloc[:, 0].max()], ur1[Xr.iloc[:, 0].values > 0.2 * Xr.iloc[:, 0].max()])\n",
        "plt.title('PCA of range standardized data')\n",
        "plt.show()"
      ]
    },
    {
      "cell_type": "code",
      "execution_count": null,
      "id": "15648659-1e16-48fc-bf67-6dcc9190b779",
      "metadata": {
        "id": "15648659-1e16-48fc-bf67-6dcc9190b779",
        "outputId": "28f469cb-bcdf-42e5-93e6-b8a3a7ee1ecf"
      },
      "outputs": [
        {
          "data": {
            "text/plain": [
              "array([-0.01791932, -0.00212428, -0.00070056, -0.01475771, -0.00222967,\n",
              "       -0.01277817, -0.04635038, -0.00381246, -0.02328398,  0.01053014,\n",
              "       -0.01001011,  0.00192797, -0.04356256,  0.04137585,  0.00401858,\n",
              "        0.02390038,  0.00335657, -0.00059416,  0.03022478,  0.01226078,\n",
              "       -0.04582142,  0.01047811, -0.03749931,  0.00131281, -0.01135834,\n",
              "       -0.01070628,  0.01126817,  0.01310615,  0.03421055,  0.03471444,\n",
              "        0.04440291, -0.00650128, -0.01297804,  0.02807644,  0.01198637,\n",
              "        0.00125908,  0.00470827,  0.09802694,  0.01594424, -0.03391813,\n",
              "       -0.0597084 , -0.01314285, -0.04806223,  0.01430538,  0.03708608,\n",
              "        0.00892199,  0.0005938 , -0.01908354, -0.01220918,  0.03131751,\n",
              "       -0.0161959 , -0.01205543,  0.01390324, -0.03045688, -0.01837362,\n",
              "       -0.03141536,  0.02013891, -0.02744225, -0.05366246, -0.02408415,\n",
              "       -0.00176724,  0.0442905 ,  0.01254922,  0.02343212, -0.01411866,\n",
              "       -0.0067812 ,  0.03807427, -0.05893954, -0.01212973,  0.01775532,\n",
              "       -0.01506832, -0.02019781, -0.00205251, -0.0197433 ,  0.01925201,\n",
              "        0.0022914 ,  0.04560177,  0.02917703, -0.00688286,  0.01263842,\n",
              "       -0.01091987, -0.0058377 , -0.04605571, -0.0248629 ,  0.01488278,\n",
              "        0.0104775 , -0.03337982,  0.01275526,  0.01412472, -0.00670606,\n",
              "       -0.01101971, -0.02212006,  0.00739779,  0.02111831, -0.00346233,\n",
              "        0.0256534 ,  0.01020585,  0.02863473, -0.01835511,  0.01150712,\n",
              "        0.02574148,  0.05802152, -0.01004601,  0.01710954, -0.00079617,\n",
              "       -0.00610366, -0.08869603,  0.02849736, -0.00196107, -0.01940135,\n",
              "        0.03362375,  0.01715379, -0.02256868, -0.0516923 ,  0.00622893,\n",
              "        0.00339809, -0.05221616,  0.04213067, -0.03724883, -0.02941271,\n",
              "       -0.03474386, -0.00044958, -0.03112144,  0.05067922, -0.06398311,\n",
              "       -0.01815892,  0.00140286,  0.00499395,  0.01234141,  0.0292042 ,\n",
              "        0.02726319,  0.00054719, -0.03026837, -0.01823345,  0.03904039,\n",
              "       -0.0344094 , -0.01764438,  0.03875007, -0.02880543,  0.00332561,\n",
              "        0.00841983, -0.05252395,  0.04160392, -0.01556109, -0.01071841,\n",
              "       -0.01395105,  0.04823117,  0.06273438, -0.0164241 ,  0.00517839,\n",
              "       -0.01587461,  0.04399346,  0.03989223,  0.03199941, -0.04512654,\n",
              "       -0.00644854, -0.02790961, -0.03520152,  0.01053774,  0.0151788 ,\n",
              "        0.06534919, -0.07017037,  0.01728523,  0.07215849, -0.06286751,\n",
              "       -0.04165899, -0.05918206, -0.05051005, -0.00095258, -0.00265362,\n",
              "        0.02210464,  0.01337538,  0.006977  ,  0.01428711,  0.00282722,\n",
              "       -0.00919765,  0.0327924 , -0.01270497,  0.00063108, -0.05621951,\n",
              "       -0.03103159,  0.00159703,  0.03630704, -0.01211542,  0.0246115 ,\n",
              "       -0.02051003,  0.00102609, -0.01075156,  0.01176119,  0.03416209,\n",
              "       -0.00651323,  0.02073098,  0.01688186,  0.01028951,  0.06265177,\n",
              "       -0.01316752,  0.04378117, -0.00478243,  0.00048836,  0.00954636,\n",
              "       -0.00095904,  0.01218384, -0.06072416, -0.06097314,  0.05005458,\n",
              "       -0.00145091,  0.00747646, -0.00114854,  0.01460892, -0.109164  ,\n",
              "       -0.00525181, -0.01508158, -0.00131558, -0.00986831,  0.02720929,\n",
              "       -0.0134438 ,  0.0308152 ,  0.01995316,  0.03111786, -0.05869883,\n",
              "       -0.05016144,  0.03989116, -0.02449581,  0.00330218,  0.00762238,\n",
              "       -0.01695918,  0.02048442,  0.02300214, -0.01137007, -0.04359081,\n",
              "        0.02359659,  0.02553251,  0.00448974,  0.00902931, -0.03143294,\n",
              "       -0.05671942,  0.02878472,  0.00573996,  0.01816921, -0.0524464 ,\n",
              "        0.02959749,  0.02162806, -0.02050739, -0.01529292,  0.0496736 ,\n",
              "        0.0228539 ,  0.00362047,  0.02020504, -0.01846544,  0.00371045,\n",
              "        0.03348367, -0.02929468, -0.05124677, -0.03391495,  0.02112789,\n",
              "        0.06686648, -0.07840965,  0.03073902,  0.01829973, -0.01086288,\n",
              "       -0.00822376, -0.01035783,  0.06985126,  0.03652393,  0.01323694,\n",
              "        0.05286671, -0.03601154,  0.0357362 ,  0.00972954, -0.03079099,\n",
              "       -0.04592715,  0.01293835, -0.0054828 ,  0.02282972,  0.00908986,\n",
              "       -0.01328408, -0.05753039,  0.01115918,  0.01450348,  0.01475689,\n",
              "       -0.00544586, -0.01435435, -0.061968  , -0.00191503, -0.02586938,\n",
              "        0.07925982,  0.05245204, -0.03187311, -0.00794871,  0.05801758,\n",
              "        0.00296789, -0.05280464,  0.00746959, -0.03976494,  0.00944717,\n",
              "        0.00889009, -0.0217421 ,  0.01623016, -0.01715095, -0.01021724,\n",
              "        0.0355581 ,  0.01876183, -0.02760763, -0.01684419,  0.02175255,\n",
              "       -0.0006054 , -0.01683322,  0.00227399, -0.02940539, -0.00274579,\n",
              "        0.00954543, -0.05691914, -0.02353532, -0.03662224, -0.04600667,\n",
              "        0.01279508, -0.0311792 ,  0.02177184, -0.01014472,  0.0091324 ,\n",
              "       -0.0206125 , -0.021755  ,  0.02740573, -0.07574589,  0.03099968,\n",
              "        0.08528093, -0.00162136, -0.02405575, -0.0132451 , -0.02554467,\n",
              "       -0.04501868,  0.02142748,  0.00987427, -0.00457607, -0.02237058,\n",
              "        0.00927327,  0.02076124,  0.02071423, -0.00372928,  0.01210288,\n",
              "        0.03158868, -0.0027841 , -0.00991911, -0.00518287, -0.00478995,\n",
              "        0.02054868,  0.08602588, -0.00139521,  0.05944672,  0.02100785,\n",
              "       -0.02333818,  0.01386321, -0.00778222, -0.01932975,  0.04305245,\n",
              "        0.07330663, -0.02117793,  0.02445031,  0.049363  ,  0.0399552 ,\n",
              "       -0.02415883, -0.06157178,  0.00942496, -0.00148742, -0.05667075,\n",
              "       -0.01359633,  0.00020261,  0.05191278,  0.01906266,  0.04112166,\n",
              "        0.00758551, -0.03735934, -0.02559372, -0.01225544, -0.07202739,\n",
              "        0.00621931, -0.01285116, -0.02212353, -0.05297025, -0.01279884,\n",
              "       -0.02201515,  0.04541562,  0.0209817 ,  0.02596336, -0.00060444,\n",
              "       -0.02660572, -0.02903894, -0.04827738, -0.03419722,  0.01643463,\n",
              "        0.04347438,  0.00162543,  0.02095292, -0.03384009, -0.00629593,\n",
              "       -0.00323737,  0.06290725,  0.00596835, -0.03027049,  0.00542945,\n",
              "        0.05169201,  0.01815202, -0.0140201 , -0.01998469, -0.01347466,\n",
              "       -0.02027349,  0.0521516 , -0.02621104,  0.01065569, -0.00913754,\n",
              "       -0.04512451,  0.01927055,  0.05629271, -0.0712765 , -0.00080258,\n",
              "        0.01279837, -0.01656872, -0.0283969 , -0.06030706, -0.00572598,\n",
              "       -0.03906243, -0.0459967 , -0.00624163, -0.00888504,  0.0126862 ,\n",
              "       -0.00412641,  0.00021815, -0.01818569, -0.04000179,  0.05412752,\n",
              "        0.03297103,  0.07230971,  0.01488238,  0.01485833, -0.03293682,\n",
              "       -0.00049062, -0.01213187,  0.00967969,  0.02480419, -0.01822565,\n",
              "        0.00938498, -0.01650274,  0.06718155,  0.01230673,  0.01288296,\n",
              "        0.01050642,  0.01344834,  0.01990959,  0.0256363 ,  0.02051218,\n",
              "        0.00143766, -0.0653244 ,  0.0366085 , -0.04649757,  0.02648163,\n",
              "        0.06555228,  0.00844172,  0.0037301 ,  0.00222206,  0.01558643,\n",
              "       -0.03644092,  0.04088808,  0.02374249,  0.00202617,  0.03218731,\n",
              "       -0.01606054, -0.02935892, -0.01602215,  0.02644153,  0.01693479,\n",
              "       -0.01375339,  0.07030827,  0.03697044,  0.00500294,  0.00413132,\n",
              "       -0.0135326 , -0.02574722,  0.00040322, -0.05144852, -0.02170428,\n",
              "       -0.01881396,  0.06060718,  0.02199944,  0.00846987,  0.00436591,\n",
              "       -0.0195066 ,  0.04446729,  0.07836097, -0.01761285, -0.06124335,\n",
              "        0.00940871, -0.06417025, -0.005186  ,  0.00811011, -0.04567807,\n",
              "       -0.05202744, -0.02551084, -0.03319289,  0.00483188,  0.02857878,\n",
              "       -0.05243465, -0.01545255,  0.04150321,  0.00882796,  0.00331434,\n",
              "        0.02438988, -0.01620328, -0.00265557,  0.01701664, -0.02659745,\n",
              "       -0.00858024, -0.00752214,  0.030786  ,  0.05953868,  0.01394176,\n",
              "       -0.00364876, -0.06233189,  0.01088062,  0.05446711, -0.05370225,\n",
              "        0.02416801, -0.02044533,  0.02620234, -0.00753246,  0.00864124,\n",
              "        0.0201126 ,  0.01150023, -0.02613892,  0.00339968,  0.05394018,\n",
              "       -0.02484359,  0.06386515, -0.0260811 ,  0.01312868,  0.0349051 ,\n",
              "        0.01553836,  0.02670869,  0.00899317,  0.00593314,  0.08015975,\n",
              "       -0.02200067,  0.03443095, -0.01364732, -0.02175198,  0.0681462 ,\n",
              "        0.01723531,  0.0289884 ,  0.01305543, -0.02666274, -0.01481539,\n",
              "        0.00120868, -0.00902872, -0.01670447,  0.02098009,  0.00153907,\n",
              "        0.0256078 , -0.00166694,  0.00854745, -0.04429789, -0.00536235,\n",
              "       -0.0005802 , -0.05446454,  0.02605799, -0.02874775, -0.03928811,\n",
              "        0.00499303,  0.02537191,  0.01868781,  0.06880566, -0.00078394,\n",
              "       -0.01101861,  0.00389932, -0.04382183,  0.03706494, -0.02862822,\n",
              "        0.03600854,  0.03305271, -0.02183036,  0.04470151,  0.01571361,\n",
              "       -0.00580843, -0.0127749 ,  0.0082425 , -0.02952883, -0.03451607,\n",
              "       -0.01818523, -0.01270229,  0.0313803 ,  0.00955624,  0.01565075,\n",
              "        0.02149904,  0.08103007, -0.03970614, -0.01290389,  0.04594773,\n",
              "        0.01069342,  0.00435698, -0.00259701,  0.03786825, -0.02113941,\n",
              "        0.0062138 , -0.00207645, -0.02156036, -0.0228261 ,  0.00090272,\n",
              "       -0.00027403,  0.02936701, -0.00085507,  0.0489801 , -0.03233313,\n",
              "       -0.01922552,  0.0152472 , -0.00218025, -0.0042786 , -0.06424885,\n",
              "       -0.05736663, -0.02294882, -0.03827275,  0.01914356, -0.02058954,\n",
              "        0.0535796 ,  0.01238699, -0.06418806, -0.01791923, -0.05868494,\n",
              "        0.02526468,  0.02648366, -0.04008989,  0.00767154, -0.0457774 ,\n",
              "        0.05593096, -0.02659714,  0.02206813,  0.00475737,  0.04214993,\n",
              "        0.05281282, -0.00709575,  0.01194126,  0.00139731,  0.05067207,\n",
              "        0.02522717, -0.08939262,  0.02155536,  0.03852344,  0.04023229,\n",
              "       -0.02698345,  0.05907557, -0.00053731, -0.0307393 , -0.0631341 ,\n",
              "       -0.05587053, -0.02552118,  0.01542953,  0.02811076, -0.05646865,\n",
              "       -0.02239739,  0.01712411, -0.04431619,  0.01582933, -0.01975793,\n",
              "       -0.0208849 ,  0.02555926,  0.02592727,  0.06220969,  0.00613751,\n",
              "        0.01309192,  0.0434994 , -0.02181278,  0.04262389, -0.04434477,\n",
              "       -0.02730148,  0.06603895,  0.01049212,  0.02409687, -0.00817914,\n",
              "        0.01328139,  0.00548798, -0.05260463, -0.02812938, -0.01261441,\n",
              "       -0.01787349,  0.02395773,  0.01843026, -0.0150557 ,  0.05004374,\n",
              "       -0.03824225,  0.02271979,  0.02043691,  0.00619529,  0.0058694 ,\n",
              "       -0.00769461, -0.00693298,  0.01487001,  0.00327987, -0.02265128,\n",
              "       -0.0090295 , -0.00398291,  0.02522864, -0.01222753,  0.01485048,\n",
              "       -0.01063747, -0.02953843,  0.04009479,  0.03587902,  0.03417684,\n",
              "        0.00884553,  0.02563105, -0.07327855,  0.03006481, -0.01698187,\n",
              "       -0.03914268, -0.01595634,  0.03016282, -0.02712695,  0.04105267,\n",
              "       -0.02987262, -0.02301989, -0.00436226, -0.02894721, -0.00281489,\n",
              "       -0.02344921,  0.02927162,  0.01479469,  0.01077875,  0.02107504,\n",
              "       -0.03143989,  0.0223252 , -0.0175734 ,  0.02319263, -0.03952643,\n",
              "       -0.02479764,  0.04347903, -0.01016786,  0.05650311, -0.04597761,\n",
              "        0.01068007,  0.00137734, -0.00809265, -0.09187215, -0.03671659,\n",
              "        0.07180415,  0.03995989,  0.0382445 ,  0.002903  ,  0.02041783,\n",
              "        0.02792713, -0.00570569,  0.00231786,  0.01983794,  0.0193267 ,\n",
              "        0.05637536,  0.03252352,  0.03938822,  0.00302869,  0.04376707,\n",
              "       -0.04812763, -0.01309515, -0.02709028, -0.03795158, -0.04038546,\n",
              "       -0.02625981, -0.01158498, -0.06428114,  0.00623756,  0.01074877,\n",
              "        0.02609328, -0.06796705, -0.0412614 , -0.01117431, -0.04115869,\n",
              "       -0.01554763, -0.01566869,  0.03077772, -0.00721999,  0.01620909,\n",
              "        0.04846469,  0.01570462,  0.00277181, -0.00197573,  0.00129628,\n",
              "        0.00346137,  0.03370665,  0.01770642, -0.02223763, -0.02357871,\n",
              "        0.00776635, -0.0275559 ,  0.02070378,  0.0138912 ,  0.00627208,\n",
              "        0.02521419,  0.00123662, -0.01573095,  0.02849018,  0.02576545,\n",
              "       -0.03133504, -0.0154941 , -0.02450923, -0.01390785, -0.01838758,\n",
              "       -0.03945211,  0.02801303,  0.04678632,  0.01315917,  0.05581367,\n",
              "        0.03795304,  0.00513435, -0.00693737,  0.00515069,  0.02619957,\n",
              "        0.00735175,  0.03056503, -0.04796849,  0.01280964,  0.00332151,\n",
              "        0.04872619,  0.06211944,  0.01535065,  0.00303316,  0.00177656,\n",
              "       -0.01445082, -0.06063683, -0.03538444,  0.01262303, -0.00260584,\n",
              "       -0.03135268,  0.00593855, -0.01095278,  0.01536616,  0.01405727,\n",
              "        0.01359732,  0.02993123,  0.02543805,  0.01250509,  0.00689484,\n",
              "        0.00722538, -0.0290082 ,  0.04934199, -0.01242555,  0.01374801,\n",
              "        0.01422804,  0.02679714,  0.0087691 ,  0.00353443, -0.04224705,\n",
              "        0.00105838, -0.02894089, -0.04813564, -0.03847425,  0.02117188,\n",
              "        0.04393112, -0.00533901,  0.03641504, -0.01648019, -0.04966427,\n",
              "        0.0006928 , -0.00587999, -0.00098839,  0.0184171 , -0.03161189,\n",
              "        0.01130039, -0.00537023, -0.07784239, -0.01407278, -0.00701004,\n",
              "        0.02369679, -0.03992624, -0.0140317 ,  0.01282051, -0.01855678,\n",
              "        0.01845706,  0.0135522 ,  0.05914279,  0.01157667, -0.00049094,\n",
              "       -0.05137956,  0.01479612,  0.01072561,  0.0354819 ,  0.01209579,\n",
              "       -0.07733697, -0.01384829,  0.04515184, -0.00994927, -0.01692753,\n",
              "       -0.03443188,  0.02398416, -0.02499694,  0.00526473, -0.02291418,\n",
              "       -0.04266227, -0.04841205,  0.00272582, -0.03091404, -0.0187941 ,\n",
              "        0.00067688,  0.02050836, -0.0130509 , -0.03605427,  0.04768324,\n",
              "       -0.03378069,  0.01540061, -0.02623574, -0.02799256,  0.00418868,\n",
              "       -0.01197918,  0.07788147,  0.00885559,  0.01994178, -0.03828479,\n",
              "        0.01006388, -0.06293774, -0.0053373 , -0.06183069,  0.01871369,\n",
              "        0.02357833,  0.01719528, -0.03000552, -0.0118248 ,  0.00540989,\n",
              "        0.00678654,  0.02167453,  0.01030169,  0.02422212, -0.03211342,\n",
              "        0.07271967,  0.05803294,  0.01448027, -0.05344417, -0.0151287 ,\n",
              "        0.04740766, -0.06416489,  0.03939233,  0.05452644, -0.06834133,\n",
              "        0.03188197, -0.00117325, -0.01649617, -0.01688038,  0.03231587,\n",
              "        0.03221202, -0.02684307, -0.03822328, -0.00495262, -0.02560653,\n",
              "        0.01630506,  0.05798904,  0.00434509, -0.01176346, -0.01413788,\n",
              "        0.05784627, -0.04661745,  0.06830772, -0.01097279,  0.02858477,\n",
              "       -0.02230709,  0.02901758, -0.09130907, -0.06815245, -0.01455868,\n",
              "       -0.02964036, -0.03824238, -0.01994623, -0.02137869, -0.0092867 ,\n",
              "       -0.04202348,  0.02918075, -0.03697073,  0.00645257,  0.00240597,\n",
              "        0.00399063,  0.06912072, -0.05863351, -0.00448399, -0.00837425,\n",
              "        0.05171918, -0.01262976,  0.02616603,  0.02812008,  0.00584445,\n",
              "        0.0196718 , -0.00440509,  0.0388903 , -0.00253748,  0.00363766,\n",
              "        0.02769692, -0.02531189, -0.0597575 ,  0.01790611, -0.00603685,\n",
              "       -0.0264328 ,  0.02121843, -0.02796864, -0.01138034,  0.0279993 ,\n",
              "       -0.00635003, -0.05183525,  0.00960408,  0.01748185, -0.00515772])"
            ]
          },
          "execution_count": 166,
          "metadata": {},
          "output_type": "execute_result"
        }
      ],
      "source": [
        "N = Xz.shape[0]\n",
        "cov = np.dot(Xz.T, Xz)/N\n",
        "\n",
        "eigw, eigv = np.linalg.eig(cov)\n",
        "\n",
        "pca1_e = np.dot(Xz, - eigv[:,0]) / np.sqrt(N * eigw[0])\n",
        "pca1_e"
      ]
    },
    {
      "cell_type": "code",
      "execution_count": null,
      "id": "8de2552c-cc71-4303-85ad-4329b8796290",
      "metadata": {
        "id": "8de2552c-cc71-4303-85ad-4329b8796290",
        "outputId": "4863ef98-17c4-4aca-a596-a7efa7bc9a93"
      },
      "outputs": [
        {
          "data": {
            "text/plain": [
              "array([[ 0.53396252,  0.65881372, -0.52995143],\n",
              "       [ 0.47111955, -0.75229672, -0.46053883],\n",
              "       [ 0.70209002,  0.00376   ,  0.71207828]])"
            ]
          },
          "execution_count": 165,
          "metadata": {},
          "output_type": "execute_result"
        }
      ],
      "source": [
        "eigv"
      ]
    },
    {
      "cell_type": "code",
      "execution_count": null,
      "id": "7ad38ad8-ab5e-42ad-8754-1e2d8d28ec08",
      "metadata": {
        "id": "7ad38ad8-ab5e-42ad-8754-1e2d8d28ec08",
        "outputId": "9f5f67da-8239-4d1f-8458-951ad3aa6b9e"
      },
      "outputs": [
        {
          "name": "stderr",
          "output_type": "stream",
          "text": [
            "/tmp/ipykernel_4294/4068026145.py:3: RuntimeWarning: invalid value encountered in sqrt\n",
            "  pca2_e = np.dot(Xz, eigv[:,0]) / np.sqrt(N * eigw[0])\n"
          ]
        },
        {
          "data": {
            "text/plain": [
              "array([nan, nan, nan, nan, nan, nan, nan, nan, nan, nan, nan, nan, nan,\n",
              "       nan, nan, nan, nan, nan, nan, nan, nan, nan, nan, nan, nan, nan,\n",
              "       nan, nan, nan, nan, nan, nan, nan, nan, nan, nan, nan, nan, nan,\n",
              "       nan, nan, nan, nan, nan, nan, nan, nan, nan, nan, nan, nan, nan,\n",
              "       nan, nan, nan, nan, nan, nan, nan, nan, nan, nan, nan, nan, nan,\n",
              "       nan, nan, nan, nan, nan, nan, nan, nan, nan, nan, nan, nan, nan,\n",
              "       nan, nan, nan, nan, nan, nan, nan, nan, nan, nan, nan, nan, nan,\n",
              "       nan, nan, nan, nan, nan, nan, nan, nan, nan, nan, nan, nan, nan,\n",
              "       nan, nan, nan, nan, nan, nan, nan, nan, nan, nan, nan, nan, nan,\n",
              "       nan, nan, nan, nan, nan, nan, nan, nan, nan, nan, nan, nan, nan,\n",
              "       nan, nan, nan, nan, nan, nan, nan, nan, nan, nan, nan, nan, nan,\n",
              "       nan, nan, nan, nan, nan, nan, nan, nan, nan, nan, nan, nan, nan,\n",
              "       nan, nan, nan, nan, nan, nan, nan, nan, nan, nan, nan, nan, nan,\n",
              "       nan, nan, nan, nan, nan, nan, nan, nan, nan, nan, nan, nan, nan,\n",
              "       nan, nan, nan, nan, nan, nan, nan, nan, nan, nan, nan, nan, nan,\n",
              "       nan, nan, nan, nan, nan, nan, nan, nan, nan, nan, nan, nan, nan,\n",
              "       nan, nan, nan, nan, nan, nan, nan, nan, nan, nan, nan, nan, nan,\n",
              "       nan, nan, nan, nan, nan, nan, nan, nan, nan, nan, nan, nan, nan,\n",
              "       nan, nan, nan, nan, nan, nan, nan, nan, nan, nan, nan, nan, nan,\n",
              "       nan, nan, nan, nan, nan, nan, nan, nan, nan, nan, nan, nan, nan,\n",
              "       nan, nan, nan, nan, nan, nan, nan, nan, nan, nan, nan, nan, nan,\n",
              "       nan, nan, nan, nan, nan, nan, nan, nan, nan, nan, nan, nan, nan,\n",
              "       nan, nan, nan, nan, nan, nan, nan, nan, nan, nan, nan, nan, nan,\n",
              "       nan, nan, nan, nan, nan, nan, nan, nan, nan, nan, nan, nan, nan,\n",
              "       nan, nan, nan, nan, nan, nan, nan, nan, nan, nan, nan, nan, nan,\n",
              "       nan, nan, nan, nan, nan, nan, nan, nan, nan, nan, nan, nan, nan,\n",
              "       nan, nan, nan, nan, nan, nan, nan, nan, nan, nan, nan, nan, nan,\n",
              "       nan, nan, nan, nan, nan, nan, nan, nan, nan, nan, nan, nan, nan,\n",
              "       nan, nan, nan, nan, nan, nan, nan, nan, nan, nan, nan, nan, nan,\n",
              "       nan, nan, nan, nan, nan, nan, nan, nan, nan, nan, nan, nan, nan,\n",
              "       nan, nan, nan, nan, nan, nan, nan, nan, nan, nan, nan, nan, nan,\n",
              "       nan, nan, nan, nan, nan, nan, nan, nan, nan, nan, nan, nan, nan,\n",
              "       nan, nan, nan, nan, nan, nan, nan, nan, nan, nan, nan, nan, nan,\n",
              "       nan, nan, nan, nan, nan, nan, nan, nan, nan, nan, nan, nan, nan,\n",
              "       nan, nan, nan, nan, nan, nan, nan, nan, nan, nan, nan, nan, nan,\n",
              "       nan, nan, nan, nan, nan, nan, nan, nan, nan, nan, nan, nan, nan,\n",
              "       nan, nan, nan, nan, nan, nan, nan, nan, nan, nan, nan, nan, nan,\n",
              "       nan, nan, nan, nan, nan, nan, nan, nan, nan, nan, nan, nan, nan,\n",
              "       nan, nan, nan, nan, nan, nan, nan, nan, nan, nan, nan, nan, nan,\n",
              "       nan, nan, nan, nan, nan, nan, nan, nan, nan, nan, nan, nan, nan,\n",
              "       nan, nan, nan, nan, nan, nan, nan, nan, nan, nan, nan, nan, nan,\n",
              "       nan, nan, nan, nan, nan, nan, nan, nan, nan, nan, nan, nan, nan,\n",
              "       nan, nan, nan, nan, nan, nan, nan, nan, nan, nan, nan, nan, nan,\n",
              "       nan, nan, nan, nan, nan, nan, nan, nan, nan, nan, nan, nan, nan,\n",
              "       nan, nan, nan, nan, nan, nan, nan, nan, nan, nan, nan, nan, nan,\n",
              "       nan, nan, nan, nan, nan, nan, nan, nan, nan, nan, nan, nan, nan,\n",
              "       nan, nan, nan, nan, nan, nan, nan, nan, nan, nan, nan, nan, nan,\n",
              "       nan, nan, nan, nan, nan, nan, nan, nan, nan, nan, nan, nan, nan,\n",
              "       nan, nan, nan, nan, nan, nan, nan, nan, nan, nan, nan, nan, nan,\n",
              "       nan, nan, nan, nan, nan, nan, nan, nan, nan, nan, nan, nan, nan,\n",
              "       nan, nan, nan, nan, nan, nan, nan, nan, nan, nan, nan, nan, nan,\n",
              "       nan, nan, nan, nan, nan, nan, nan, nan, nan, nan, nan, nan, nan,\n",
              "       nan, nan, nan, nan, nan, nan, nan, nan, nan, nan, nan, nan, nan,\n",
              "       nan, nan, nan, nan, nan, nan, nan, nan, nan, nan, nan, nan, nan,\n",
              "       nan, nan, nan, nan, nan, nan, nan, nan, nan, nan, nan, nan, nan,\n",
              "       nan, nan, nan, nan, nan, nan, nan, nan, nan, nan, nan, nan, nan,\n",
              "       nan, nan, nan, nan, nan, nan, nan, nan, nan, nan, nan, nan, nan,\n",
              "       nan, nan, nan, nan, nan, nan, nan, nan, nan, nan, nan, nan, nan,\n",
              "       nan, nan, nan, nan, nan, nan, nan, nan, nan, nan, nan, nan, nan,\n",
              "       nan, nan, nan, nan, nan, nan, nan, nan, nan, nan, nan, nan, nan,\n",
              "       nan, nan, nan, nan, nan, nan, nan, nan, nan, nan, nan, nan, nan,\n",
              "       nan, nan, nan, nan, nan, nan, nan, nan, nan, nan, nan, nan, nan,\n",
              "       nan, nan, nan, nan, nan, nan, nan, nan, nan, nan, nan, nan, nan,\n",
              "       nan, nan, nan, nan, nan, nan, nan, nan, nan, nan, nan, nan, nan,\n",
              "       nan, nan, nan, nan, nan, nan, nan, nan, nan, nan, nan, nan, nan,\n",
              "       nan, nan, nan, nan, nan, nan, nan, nan, nan, nan, nan, nan, nan,\n",
              "       nan, nan, nan, nan, nan, nan, nan, nan, nan, nan, nan, nan, nan,\n",
              "       nan, nan, nan, nan, nan, nan, nan, nan, nan, nan, nan, nan, nan,\n",
              "       nan, nan, nan, nan, nan, nan, nan, nan, nan, nan, nan, nan, nan,\n",
              "       nan, nan, nan, nan, nan, nan, nan, nan, nan, nan, nan, nan, nan,\n",
              "       nan, nan, nan, nan, nan, nan, nan, nan, nan, nan, nan, nan, nan,\n",
              "       nan, nan, nan, nan, nan, nan, nan, nan, nan, nan, nan, nan, nan,\n",
              "       nan, nan, nan, nan, nan, nan, nan, nan, nan, nan, nan, nan, nan,\n",
              "       nan, nan, nan, nan, nan, nan, nan, nan, nan, nan, nan, nan, nan,\n",
              "       nan, nan, nan, nan, nan, nan, nan, nan, nan, nan, nan, nan, nan,\n",
              "       nan, nan, nan, nan, nan, nan, nan, nan, nan, nan, nan, nan, nan,\n",
              "       nan, nan, nan, nan, nan, nan, nan, nan, nan, nan, nan, nan])"
            ]
          },
          "execution_count": 167,
          "metadata": {},
          "output_type": "execute_result"
        }
      ],
      "source": [
        "cov = cov - eigw[0] * eigv[:,0][:,None] * eigv[:,0]\n",
        "eigw, eigv = np.linalg.eig(cov)\n",
        "pca2_e = np.dot(Xz, eigv[:,0]) / np.sqrt(N * eigw[0])\n",
        "pca2_e"
      ]
    },
    {
      "cell_type": "code",
      "execution_count": null,
      "id": "a153a1c2-b8f3-418e-bf41-84480501e36e",
      "metadata": {
        "id": "a153a1c2-b8f3-418e-bf41-84480501e36e",
        "outputId": "3b6db7a9-4d96-4eea-b271-bf3d1f1fa41e"
      },
      "outputs": [
        {
          "data": {
            "image/png": "[encoded data removed]",
            "text/plain": [
              "<Figure size 640x480 with 1 Axes>"
            ]
          },
          "metadata": {},
          "output_type": "display_data"
        }
      ],
      "source": [
        "plt.scatter(-uz0, uz1, marker='*', label='SVD')\n",
        "plt.scatter(pca1_e, pca2_e, marker='.', label='covariance')\n",
        "plt.legend()\n",
        "plt.show()"
      ]
    },
    {
      "cell_type": "markdown",
      "id": "72bd1e8d-36b6-4f90-8f84-f7875a6c5950",
      "metadata": {
        "id": "72bd1e8d-36b6-4f90-8f84-f7875a6c5950"
      },
      "source": [
        "# 3) Метод К-средних(Kmeans)\n"
      ]
    },
    {
      "cell_type": "markdown",
      "id": "e271a7af-3d9d-48a6-9842-ecd4fb398da3",
      "metadata": {
        "id": "e271a7af-3d9d-48a6-9842-ecd4fb398da3"
      },
      "source": [
        "Sleep_Duration_Hours\n",
        "\n",
        "Caffeine_Intake_mg\n",
        "\n",
        "Stress_Level"
      ]
    },
    {
      "cell_type": "markdown",
      "id": "11afe8e1-3f94-4404-915e-5d36433152ba",
      "metadata": {
        "id": "11afe8e1-3f94-4404-915e-5d36433152ba"
      },
      "source": [
        "K=5:"
      ]
    },
    {
      "cell_type": "code",
      "execution_count": null,
      "id": "b62ba2ea-a771-4587-a933-2e57c4de720a",
      "metadata": {
        "id": "b62ba2ea-a771-4587-a933-2e57c4de720a"
      },
      "outputs": [],
      "source": [
        "from sklearn.cluster import KMeans\n",
        "\n",
        "\n",
        "def make_clusters(data, n_clusters):\n",
        " inertias = []\n",
        " labels = []\n",
        "\n",
        " for i in range(10):\n",
        "     kmeans = KMeans(n_clusters=n_clusters, init='random', n_init=1)\n",
        "     kmeans.fit(data)\n",
        "     inertias.append(kmeans.inertia_)\n",
        "     labels.append(kmeans.labels_)\n",
        "\n",
        " x = np.linspace(0, 19, 10)\n",
        " plt.plot(x, inertias)\n",
        " plt.xlabel('number of init')\n",
        " plt.title('Inertia (sum of squared distances of samples to their closest cluster center)')\n",
        " plt.show()\n",
        "\n",
        " return inertias, labels"
      ]
    },
    {
      "cell_type": "code",
      "execution_count": null,
      "id": "60684037-a826-45bc-9997-87814b96912d",
      "metadata": {
        "id": "60684037-a826-45bc-9997-87814b96912d",
        "outputId": "13c19ee2-e5c5-4169-ce3c-f29916dee923"
      },
      "outputs": [
        {
          "data": {
            "text/html": [
              "<div>\n",
              "<style scoped>\n",
              "    .dataframe tbody tr th:only-of-type {\n",
              "        vertical-align: middle;\n",
              "    }\n",
              "\n",
              "    .dataframe tbody tr th {\n",
              "        vertical-align: top;\n",
              "    }\n",
              "\n",
              "    .dataframe thead th {\n",
              "        text-align: right;\n",
              "    }\n",
              "</style>\n",
              "<table border=\"1\" class=\"dataframe\">\n",
              "  <thead>\n",
              "    <tr style=\"text-align: right;\">\n",
              "      <th></th>\n",
              "      <th>Sleep_Duration_Hours</th>\n",
              "      <th>Caffeine_Intake_mg</th>\n",
              "      <th>Heart_Rate_Variability</th>\n",
              "    </tr>\n",
              "  </thead>\n",
              "  <tbody>\n",
              "    <tr>\n",
              "      <th>0</th>\n",
              "      <td>-0.306047</td>\n",
              "      <td>-0.101590</td>\n",
              "      <td>0.067294</td>\n",
              "    </tr>\n",
              "    <tr>\n",
              "      <th>1</th>\n",
              "      <td>-0.136356</td>\n",
              "      <td>-0.109004</td>\n",
              "      <td>-0.022215</td>\n",
              "    </tr>\n",
              "    <tr>\n",
              "      <th>2</th>\n",
              "      <td>-0.063975</td>\n",
              "      <td>-0.370650</td>\n",
              "      <td>0.088576</td>\n",
              "    </tr>\n",
              "    <tr>\n",
              "      <th>3</th>\n",
              "      <td>0.308853</td>\n",
              "      <td>-0.078173</td>\n",
              "      <td>0.211968</td>\n",
              "    </tr>\n",
              "    <tr>\n",
              "      <th>4</th>\n",
              "      <td>0.093199</td>\n",
              "      <td>0.187557</td>\n",
              "      <td>-0.035732</td>\n",
              "    </tr>\n",
              "    <tr>\n",
              "      <th>...</th>\n",
              "      <td>...</td>\n",
              "      <td>...</td>\n",
              "      <td>...</td>\n",
              "    </tr>\n",
              "    <tr>\n",
              "      <th>995</th>\n",
              "      <td>0.007643</td>\n",
              "      <td>0.047217</td>\n",
              "      <td>-0.042350</td>\n",
              "    </tr>\n",
              "    <tr>\n",
              "      <th>996</th>\n",
              "      <td>-0.333589</td>\n",
              "      <td>0.292512</td>\n",
              "      <td>0.250684</td>\n",
              "    </tr>\n",
              "    <tr>\n",
              "      <th>997</th>\n",
              "      <td>-0.048858</td>\n",
              "      <td>-0.300001</td>\n",
              "      <td>0.087611</td>\n",
              "    </tr>\n",
              "    <tr>\n",
              "      <th>998</th>\n",
              "      <td>0.269273</td>\n",
              "      <td>0.121337</td>\n",
              "      <td>-0.083241</td>\n",
              "    </tr>\n",
              "    <tr>\n",
              "      <th>999</th>\n",
              "      <td>0.061460</td>\n",
              "      <td>-0.288221</td>\n",
              "      <td>0.077989</td>\n",
              "    </tr>\n",
              "  </tbody>\n",
              "</table>\n",
              "<p>1000 rows × 3 columns</p>\n",
              "</div>"
            ],
            "text/plain": [
              "     Sleep_Duration_Hours  Caffeine_Intake_mg  Heart_Rate_Variability\n",
              "0               -0.306047           -0.101590                0.067294\n",
              "1               -0.136356           -0.109004               -0.022215\n",
              "2               -0.063975           -0.370650                0.088576\n",
              "3                0.308853           -0.078173                0.211968\n",
              "4                0.093199            0.187557               -0.035732\n",
              "..                    ...                 ...                     ...\n",
              "995              0.007643            0.047217               -0.042350\n",
              "996             -0.333589            0.292512                0.250684\n",
              "997             -0.048858           -0.300001                0.087611\n",
              "998              0.269273            0.121337               -0.083241\n",
              "999              0.061460           -0.288221                0.077989\n",
              "\n",
              "[1000 rows x 3 columns]"
            ]
          },
          "execution_count": 202,
          "metadata": {},
          "output_type": "execute_result"
        }
      ],
      "source": [
        "df_stand = df[['Sleep_Duration_Hours', 'Caffeine_Intake_mg', 'Heart_Rate_Variability']]\n",
        "df_stand = (df_stand - df_stand.mean()) / (df_stand.max() - df_stand.min())\n",
        "inertias_5, labels_5 = make_clusters(df_stand, 5)"
      ]
    },
    {
      "cell_type": "code",
      "execution_count": null,
      "id": "d04e49fc-0e39-4402-a15d-ecf133557aab",
      "metadata": {
        "id": "d04e49fc-0e39-4402-a15d-ecf133557aab",
        "outputId": "dc617732-dbd8-43b6-c677-b67c724d47f2"
      },
      "outputs": [
        {
          "data": {
            "text/html": [
              "<div>\n",
              "<style scoped>\n",
              "    .dataframe tbody tr th:only-of-type {\n",
              "        vertical-align: middle;\n",
              "    }\n",
              "\n",
              "    .dataframe tbody tr th {\n",
              "        vertical-align: top;\n",
              "    }\n",
              "\n",
              "    .dataframe thead th {\n",
              "        text-align: right;\n",
              "    }\n",
              "</style>\n",
              "<table border=\"1\" class=\"dataframe\">\n",
              "  <thead>\n",
              "    <tr style=\"text-align: right;\">\n",
              "      <th></th>\n",
              "      <th>Sleep_Duration_Hours</th>\n",
              "      <th>Caffeine_Intake_mg</th>\n",
              "      <th>Heart_Rate_Variability</th>\n",
              "    </tr>\n",
              "  </thead>\n",
              "  <tbody>\n",
              "    <tr>\n",
              "      <th>count</th>\n",
              "      <td>1.000000e+03</td>\n",
              "      <td>1.000000e+03</td>\n",
              "      <td>1.000000e+03</td>\n",
              "    </tr>\n",
              "    <tr>\n",
              "      <th>mean</th>\n",
              "      <td>-4.618528e-17</td>\n",
              "      <td>1.798561e-17</td>\n",
              "      <td>-1.176836e-17</td>\n",
              "    </tr>\n",
              "    <tr>\n",
              "      <th>std</th>\n",
              "      <td>1.664035e-01</td>\n",
              "      <td>2.350794e-01</td>\n",
              "      <td>1.380344e-01</td>\n",
              "    </tr>\n",
              "    <tr>\n",
              "      <th>min</th>\n",
              "      <td>-4.715609e-01</td>\n",
              "      <td>-3.706504e-01</td>\n",
              "      <td>-4.596278e-01</td>\n",
              "    </tr>\n",
              "    <tr>\n",
              "      <th>25%</th>\n",
              "      <td>-1.164352e-01</td>\n",
              "      <td>-1.690736e-01</td>\n",
              "      <td>-9.401219e-02</td>\n",
              "    </tr>\n",
              "    <tr>\n",
              "      <th>50%</th>\n",
              "      <td>3.062562e-03</td>\n",
              "      <td>-6.357138e-03</td>\n",
              "      <td>8.413529e-04</td>\n",
              "    </tr>\n",
              "    <tr>\n",
              "      <th>75%</th>\n",
              "      <td>1.110830e-01</td>\n",
              "      <td>1.574613e-01</td>\n",
              "      <td>8.861177e-02</td>\n",
              "    </tr>\n",
              "    <tr>\n",
              "      <th>max</th>\n",
              "      <td>5.284391e-01</td>\n",
              "      <td>6.293496e-01</td>\n",
              "      <td>5.403722e-01</td>\n",
              "    </tr>\n",
              "  </tbody>\n",
              "</table>\n",
              "</div>"
            ],
            "text/plain": [
              "       Sleep_Duration_Hours  Caffeine_Intake_mg  Heart_Rate_Variability\n",
              "count          1.000000e+03        1.000000e+03            1.000000e+03\n",
              "mean          -4.618528e-17        1.798561e-17           -1.176836e-17\n",
              "std            1.664035e-01        2.350794e-01            1.380344e-01\n",
              "min           -4.715609e-01       -3.706504e-01           -4.596278e-01\n",
              "25%           -1.164352e-01       -1.690736e-01           -9.401219e-02\n",
              "50%            3.062562e-03       -6.357138e-03            8.413529e-04\n",
              "75%            1.110830e-01        1.574613e-01            8.861177e-02\n",
              "max            5.284391e-01        6.293496e-01            5.403722e-01"
            ]
          },
          "execution_count": 203,
          "metadata": {},
          "output_type": "execute_result"
        }
      ],
      "source": [
        "df_stand.describe()"
      ]
    },
    {
      "cell_type": "code",
      "execution_count": null,
      "id": "03294cc5-2831-43b4-81b0-d7669a7c0dbc",
      "metadata": {
        "id": "03294cc5-2831-43b4-81b0-d7669a7c0dbc",
        "outputId": "07cf09a9-bb2a-4586-d2c7-6f1bfa11956f"
      },
      "outputs": [
        {
          "data": {
            "image/png": "[encoded data removed]",
            "text/plain": [
              "<Figure size 640x480 with 1 Axes>"
            ]
          },
          "metadata": {},
          "output_type": "display_data"
        }
      ],
      "source": [
        "inertias_5, labels_5 = make_clusters(df_stand, 5)"
      ]
    },
    {
      "cell_type": "code",
      "execution_count": null,
      "id": "b104171c-96c7-477a-b8d5-4241f05bc99c",
      "metadata": {
        "id": "b104171c-96c7-477a-b8d5-4241f05bc99c",
        "outputId": "5385d5c8-a438-428f-c420-5708afc5ce36"
      },
      "outputs": [
        {
          "data": {
            "text/plain": [
              "[39.410665306623365,\n",
              " 39.29370617805902,\n",
              " 39.302695920973484,\n",
              " 39.303538745978734,\n",
              " 39.30980095093701,\n",
              " 39.508554800776764,\n",
              " 39.31051406110616,\n",
              " 39.30683337836449,\n",
              " 39.30603642684828,\n",
              " 39.30239184075279]"
            ]
          },
          "execution_count": 205,
          "metadata": {},
          "output_type": "execute_result"
        }
      ],
      "source": [
        "inertias_5"
      ]
    },
    {
      "cell_type": "code",
      "execution_count": null,
      "id": "039096ec-1276-4bd9-8c16-65c9ab5f72b3",
      "metadata": {
        "id": "039096ec-1276-4bd9-8c16-65c9ab5f72b3",
        "outputId": "daf143e2-c655-46ec-b122-87442d3e2a22"
      },
      "outputs": [
        {
          "data": {
            "text/plain": [
              "1"
            ]
          },
          "execution_count": 206,
          "metadata": {},
          "output_type": "execute_result"
        }
      ],
      "source": [
        "id_min = inertias_5.index(min(inertias_5))\n",
        "id_min"
      ]
    },
    {
      "cell_type": "code",
      "execution_count": null,
      "id": "b9fa11a5-224d-4f3a-8024-998da908b456",
      "metadata": {
        "id": "b9fa11a5-224d-4f3a-8024-998da908b456",
        "outputId": "9eb64ef6-9fb5-49bb-9939-57e8bf1e0b60"
      },
      "outputs": [
        {
          "data": {
            "text/plain": [
              "array([2, 2, 1, 4, 0, 1, 0, 2, 3, 2, 0, 0, 2, 3, 3, 3, 1, 0, 3, 3, 4, 1,\n",
              "       2, 1, 0, 1, 1, 4, 0, 3, 1, 0, 0, 2, 0, 0, 0, 3, 0, 2, 4, 1, 2, 1,\n",
              "       3, 2, 1, 2, 0, 3, 2, 2, 3, 2, 4, 1, 2, 3, 2, 2, 3, 0, 3, 1, 2, 4,\n",
              "       4, 0, 4, 3, 1, 4, 0, 1, 3, 4, 4, 0, 4, 0, 1, 4, 2, 1, 0, 0, 4, 4,\n",
              "       2, 1, 1, 4, 1, 0, 2, 3, 0, 1, 1, 3, 0, 3, 4, 3, 2, 4, 1, 4, 1, 2,\n",
              "       3, 0, 2, 1, 3, 4, 0, 3, 1, 4, 1, 3, 4, 3, 0, 4, 2, 3, 3, 3, 3, 0,\n",
              "       2, 4, 1, 4, 3, 2, 4, 3, 4, 2, 0, 2, 0, 4, 3, 3, 0, 2, 0, 1, 2, 1,\n",
              "       1, 2, 2, 0, 3, 1, 3, 1, 2, 2, 2, 2, 1, 4, 1, 1, 2, 1, 2, 1, 2, 0,\n",
              "       1, 1, 4, 4, 4, 3, 2, 2, 0, 1, 2, 4, 3, 0, 1, 4, 4, 3, 1, 2, 0, 2,\n",
              "       1, 0, 4, 4, 4, 4, 0, 0, 0, 4, 1, 4, 4, 1, 4, 4, 3, 4, 2, 1, 2, 1,\n",
              "       0, 3, 4, 3, 0, 1, 2, 3, 3, 0, 0, 2, 1, 4, 2, 0, 1, 0, 3, 0, 3, 4,\n",
              "       2, 4, 0, 3, 3, 1, 0, 2, 3, 4, 4, 1, 3, 1, 2, 1, 1, 0, 0, 1, 3, 3,\n",
              "       0, 3, 0, 3, 1, 0, 0, 0, 1, 0, 3, 4, 1, 1, 1, 3, 1, 0, 2, 3, 0, 3,\n",
              "       1, 0, 1, 0, 0, 2, 1, 1, 0, 2, 4, 2, 2, 4, 3, 2, 0, 2, 4, 0, 4, 1,\n",
              "       4, 1, 2, 0, 4, 2, 1, 4, 1, 2, 4, 4, 4, 1, 2, 4, 3, 3, 4, 2, 2, 1,\n",
              "       4, 2, 4, 0, 4, 2, 2, 1, 4, 0, 1, 2, 1, 3, 2, 0, 3, 1, 1, 3, 2, 2,\n",
              "       4, 0, 1, 0, 1, 2, 1, 2, 2, 2, 2, 1, 2, 1, 0, 3, 4, 0, 1, 1, 4, 4,\n",
              "       2, 2, 0, 1, 4, 3, 4, 3, 3, 0, 0, 2, 0, 1, 1, 1, 2, 2, 3, 4, 4, 2,\n",
              "       3, 4, 1, 2, 1, 3, 0, 2, 1, 2, 1, 0, 2, 0, 2, 3, 3, 2, 1, 3, 4, 1,\n",
              "       2, 1, 2, 1, 0, 4, 2, 4, 0, 4, 4, 1, 3, 3, 3, 4, 4, 4, 4, 0, 2, 3,\n",
              "       1, 1, 3, 4, 3, 2, 1, 0, 2, 1, 2, 2, 0, 1, 2, 0, 4, 3, 1, 2, 4, 4,\n",
              "       0, 4, 1, 2, 2, 4, 3, 3, 0, 3, 3, 2, 2, 0, 4, 2, 4, 0, 0, 2, 3, 2,\n",
              "       1, 3, 3, 3, 1, 2, 2, 0, 4, 0, 4, 4, 3, 1, 1, 0, 4, 2, 3, 1, 3, 2,\n",
              "       1, 1, 4, 3, 4, 2, 4, 2, 0, 1, 2, 3, 1, 1, 3, 2, 2, 4, 1, 3, 0, 4,\n",
              "       2, 2, 0, 3, 0, 2, 4, 0, 1, 2, 1, 0, 0, 0, 0, 2, 3, 1, 0, 4, 2, 0,\n",
              "       1, 2, 4, 4, 2, 1, 3, 0, 2, 2, 1, 2, 2, 0, 4, 0, 0, 3, 3, 1, 2, 4,\n",
              "       4, 3, 1, 1, 1, 2, 1, 2, 0, 0, 0, 2, 0, 2, 1, 1, 0, 0, 4, 3, 4, 2,\n",
              "       0, 1, 2, 3, 3, 2, 2, 3, 4, 0, 4, 2, 1, 3, 2, 2, 0, 0, 0, 3, 4, 1,\n",
              "       2, 2, 4, 4, 2, 1, 2, 4, 0, 2, 2, 0, 1, 2, 3, 2, 2, 3, 3, 3, 0, 1,\n",
              "       3, 3, 0, 4, 1, 0, 2, 1, 3, 0, 0, 0, 4, 4, 3, 0, 4, 1, 0, 2, 0, 4,\n",
              "       3, 1, 3, 1, 3, 1, 0, 4, 1, 0, 0, 3, 2, 0, 1, 3, 3, 0, 4, 4, 1, 3,\n",
              "       1, 4, 3, 1, 0, 3, 1, 2, 3, 1, 3, 1, 0, 2, 2, 3, 4, 2, 3, 4, 2, 3,\n",
              "       3, 1, 0, 4, 3, 0, 2, 1, 0, 2, 4, 4, 4, 4, 2, 1, 4, 0, 2, 2, 2, 1,\n",
              "       1, 4, 2, 2, 4, 2, 2, 3, 4, 4, 2, 0, 1, 2, 3, 3, 3, 1, 1, 3, 2, 3,\n",
              "       3, 1, 3, 1, 0, 1, 3, 1, 0, 4, 3, 0, 3, 2, 1, 1, 4, 3, 2, 4, 3, 1,\n",
              "       0, 3, 2, 1, 2, 1, 2, 2, 2, 0, 1, 3, 2, 0, 4, 2, 4, 0, 1, 3, 1, 1,\n",
              "       4, 3, 3, 2, 0, 4, 2, 1, 2, 2, 2, 0, 0, 3, 1, 2, 0, 3, 0, 0, 2, 1,\n",
              "       1, 2, 1, 2, 1, 2, 3, 4, 1, 0, 1, 1, 2, 3, 3, 0, 3, 3, 1, 2, 2, 2,\n",
              "       1, 0, 1, 1, 2, 1, 1, 1, 4, 4, 0, 1, 1, 2, 2, 3, 3, 1, 1, 1, 1, 4,\n",
              "       2, 1, 0, 0, 4, 1, 3, 1, 1, 4, 1, 4, 2, 3, 2, 1, 0, 4, 1, 4, 1, 2,\n",
              "       1, 0, 2, 1, 1, 0, 2, 1, 1, 4, 4, 0, 1, 1, 2, 0, 1, 0, 4, 0, 2, 1,\n",
              "       4, 0, 4, 2, 3, 1, 0, 1, 2, 4, 0, 2, 2, 1, 0, 1, 0, 1, 0, 3, 2, 2,\n",
              "       1, 3, 0, 4, 0, 3, 1, 4, 3, 1, 0, 3, 0, 1, 0, 0, 1, 4, 2, 1, 2, 0,\n",
              "       3, 0, 1, 1, 3, 2, 3, 0, 2, 2, 2, 2, 4, 0, 1, 0, 4, 1, 0, 4, 0, 2,\n",
              "       4, 3, 0, 2, 0, 1, 3, 3, 0, 3, 3, 2, 4, 0, 0, 2, 0, 2, 4, 2, 4, 2,\n",
              "       2, 3, 1, 3, 2, 3, 2, 1, 4, 1], dtype=int32)"
            ]
          },
          "execution_count": 207,
          "metadata": {},
          "output_type": "execute_result"
        }
      ],
      "source": [
        "label = labels_5[id_min]\n",
        "label"
      ]
    },
    {
      "cell_type": "code",
      "execution_count": null,
      "id": "d789f05a-8459-4b29-a32d-0a821fb35f53",
      "metadata": {
        "id": "d789f05a-8459-4b29-a32d-0a821fb35f53",
        "outputId": "cd900a87-f089-4436-f6b7-2e0ce75d93bc"
      },
      "outputs": [
        {
          "data": {
            "image/png": "[encoded data removed]",
            "text/plain": [
              "<Figure size 640x480 with 1 Axes>"
            ]
          },
          "metadata": {},
          "output_type": "display_data"
        }
      ],
      "source": [
        "inertias_9, labels_9 = make_clusters(df_stand, 9)"
      ]
    },
    {
      "cell_type": "code",
      "execution_count": null,
      "id": "3da577fa-1f7e-4bcf-b5fd-49a8f6ef8cf4",
      "metadata": {
        "id": "3da577fa-1f7e-4bcf-b5fd-49a8f6ef8cf4",
        "outputId": "52799807-b960-4379-ac7b-cf96c86884ef"
      },
      "outputs": [
        {
          "data": {
            "text/html": [
              "<div>\n",
              "<style scoped>\n",
              "    .dataframe tbody tr th:only-of-type {\n",
              "        vertical-align: middle;\n",
              "    }\n",
              "\n",
              "    .dataframe tbody tr th {\n",
              "        vertical-align: top;\n",
              "    }\n",
              "\n",
              "    .dataframe thead th {\n",
              "        text-align: right;\n",
              "    }\n",
              "</style>\n",
              "<table border=\"1\" class=\"dataframe\">\n",
              "  <thead>\n",
              "    <tr style=\"text-align: right;\">\n",
              "      <th></th>\n",
              "      <th>Sleep_Duration_Hours</th>\n",
              "      <th>Caffeine_Intake_mg</th>\n",
              "      <th>Heart_Rate_Variability</th>\n",
              "    </tr>\n",
              "  </thead>\n",
              "  <tbody>\n",
              "    <tr>\n",
              "      <th>0</th>\n",
              "      <td>4.638289</td>\n",
              "      <td>107.624032</td>\n",
              "      <td>79.934283</td>\n",
              "    </tr>\n",
              "    <tr>\n",
              "      <th>1</th>\n",
              "      <td>6.209422</td>\n",
              "      <td>104.658589</td>\n",
              "      <td>67.234714</td>\n",
              "    </tr>\n",
              "    <tr>\n",
              "      <th>2</th>\n",
              "      <td>6.879592</td>\n",
              "      <td>0.000000</td>\n",
              "      <td>82.953771</td>\n",
              "    </tr>\n",
              "    <tr>\n",
              "      <th>3</th>\n",
              "      <td>10.331531</td>\n",
              "      <td>116.990981</td>\n",
              "      <td>100.460597</td>\n",
              "    </tr>\n",
              "    <tr>\n",
              "      <th>4</th>\n",
              "      <td>8.334830</td>\n",
              "      <td>223.282908</td>\n",
              "      <td>65.316933</td>\n",
              "    </tr>\n",
              "    <tr>\n",
              "      <th>...</th>\n",
              "      <td>...</td>\n",
              "      <td>...</td>\n",
              "      <td>...</td>\n",
              "    </tr>\n",
              "    <tr>\n",
              "      <th>995</th>\n",
              "      <td>7.542686</td>\n",
              "      <td>167.146932</td>\n",
              "      <td>64.377994</td>\n",
              "    </tr>\n",
              "    <tr>\n",
              "      <th>996</th>\n",
              "      <td>4.383282</td>\n",
              "      <td>265.264810</td>\n",
              "      <td>105.953731</td>\n",
              "    </tr>\n",
              "    <tr>\n",
              "      <th>997</th>\n",
              "      <td>7.019553</td>\n",
              "      <td>28.259621</td>\n",
              "      <td>82.816857</td>\n",
              "    </tr>\n",
              "    <tr>\n",
              "      <th>998</th>\n",
              "      <td>9.965067</td>\n",
              "      <td>196.795042</td>\n",
              "      <td>58.576420</td>\n",
              "    </tr>\n",
              "    <tr>\n",
              "      <th>999</th>\n",
              "      <td>8.040972</td>\n",
              "      <td>32.971929</td>\n",
              "      <td>81.451656</td>\n",
              "    </tr>\n",
              "  </tbody>\n",
              "</table>\n",
              "<p>1000 rows × 3 columns</p>\n",
              "</div>"
            ],
            "text/plain": [
              "     Sleep_Duration_Hours  Caffeine_Intake_mg  Heart_Rate_Variability\n",
              "0                4.638289          107.624032               79.934283\n",
              "1                6.209422          104.658589               67.234714\n",
              "2                6.879592            0.000000               82.953771\n",
              "3               10.331531          116.990981              100.460597\n",
              "4                8.334830          223.282908               65.316933\n",
              "..                    ...                 ...                     ...\n",
              "995              7.542686          167.146932               64.377994\n",
              "996              4.383282          265.264810              105.953731\n",
              "997              7.019553           28.259621               82.816857\n",
              "998              9.965067          196.795042               58.576420\n",
              "999              8.040972           32.971929               81.451656\n",
              "\n",
              "[1000 rows x 3 columns]"
            ]
          },
          "execution_count": 209,
          "metadata": {},
          "output_type": "execute_result"
        }
      ],
      "source": [
        "df_full = df[['Sleep_Duration_Hours', 'Caffeine_Intake_mg', 'Heart_Rate_Variability']]\n",
        "df_full"
      ]
    },
    {
      "cell_type": "code",
      "execution_count": null,
      "id": "89bbd064-deae-4357-a35f-41e47739cbe6",
      "metadata": {
        "id": "89bbd064-deae-4357-a35f-41e47739cbe6",
        "outputId": "3c2fb41f-4ee3-462f-aaa5-2b6ce2819b81"
      },
      "outputs": [
        {
          "data": {
            "text/html": [
              "<div>\n",
              "<style scoped>\n",
              "    .dataframe tbody tr th:only-of-type {\n",
              "        vertical-align: middle;\n",
              "    }\n",
              "\n",
              "    .dataframe tbody tr th {\n",
              "        vertical-align: top;\n",
              "    }\n",
              "\n",
              "    .dataframe thead th {\n",
              "        text-align: right;\n",
              "    }\n",
              "</style>\n",
              "<table border=\"1\" class=\"dataframe\">\n",
              "  <thead>\n",
              "    <tr style=\"text-align: right;\">\n",
              "      <th></th>\n",
              "      <th>Sleep_Duration_Hours</th>\n",
              "      <th>Caffeine_Intake_mg</th>\n",
              "      <th>Heart_Rate_Variability</th>\n",
              "    </tr>\n",
              "    <tr>\n",
              "      <th>Means</th>\n",
              "      <th></th>\n",
              "      <th></th>\n",
              "      <th></th>\n",
              "    </tr>\n",
              "  </thead>\n",
              "  <tbody>\n",
              "    <tr>\n",
              "      <th>Cluster0</th>\n",
              "      <td>7.83</td>\n",
              "      <td>285.86</td>\n",
              "      <td>70.07</td>\n",
              "    </tr>\n",
              "    <tr>\n",
              "      <th>Cluster1</th>\n",
              "      <td>7.26</td>\n",
              "      <td>30.35</td>\n",
              "      <td>72.36</td>\n",
              "    </tr>\n",
              "    <tr>\n",
              "      <th>Cluster2</th>\n",
              "      <td>5.82</td>\n",
              "      <td>162.71</td>\n",
              "      <td>74.15</td>\n",
              "    </tr>\n",
              "    <tr>\n",
              "      <th>Cluster3</th>\n",
              "      <td>7.98</td>\n",
              "      <td>138.59</td>\n",
              "      <td>48.78</td>\n",
              "    </tr>\n",
              "    <tr>\n",
              "      <th>Cluster4</th>\n",
              "      <td>9.01</td>\n",
              "      <td>139.36</td>\n",
              "      <td>85.38</td>\n",
              "    </tr>\n",
              "    <tr>\n",
              "      <th>Grand mean</th>\n",
              "      <td>7.47</td>\n",
              "      <td>148.26</td>\n",
              "      <td>70.39</td>\n",
              "    </tr>\n",
              "  </tbody>\n",
              "</table>\n",
              "</div>"
            ],
            "text/plain": [
              "            Sleep_Duration_Hours  Caffeine_Intake_mg  Heart_Rate_Variability\n",
              "Means                                                                       \n",
              "Cluster0                    7.83              285.86                   70.07\n",
              "Cluster1                    7.26               30.35                   72.36\n",
              "Cluster2                    5.82              162.71                   74.15\n",
              "Cluster3                    7.98              138.59                   48.78\n",
              "Cluster4                    9.01              139.36                   85.38\n",
              "Grand mean                  7.47              148.26                   70.39"
            ]
          },
          "execution_count": 210,
          "metadata": {},
          "output_type": "execute_result"
        }
      ],
      "source": [
        "def calculate_means(inertias, labels, n_clusters, data_stand,\n",
        "data_full):\n",
        "    ind_min = inertias.index(min(inertias))\n",
        "    label = labels[ind_min]\n",
        "\n",
        "    clusters = {}\n",
        "    cluster_means = []\n",
        "\n",
        "    for k in range(n_clusters):\n",
        "        clusters['Cluster' + str(k)] = data_full.values[np.where(label== k)]\n",
        "\n",
        "    for name_cluster in clusters:\n",
        "        cluster_means.append(np.mean(clusters[name_cluster], axis=0))\n",
        "\n",
        "    grand_mean = np.mean(data_full, axis=0).values\n",
        "\n",
        "    means = pd.DataFrame(\n",
        "    (cluster_means + [grand_mean]),\n",
        "    (list(clusters.keys()) + ['Grand mean']),\n",
        "    data_stand.columns\n",
        "    )\n",
        "    means.index.name = 'Means'\n",
        "\n",
        "    num_objects = [len(v) for k, v in clusters.items()]\n",
        "\n",
        "    relative_differences = 100 * np.divide(np.subtract(cluster_means, grand_mean), grand_mean)\n",
        "\n",
        "    rel_dif = pd.DataFrame(\n",
        "    relative_differences,\n",
        "    clusters.keys(),\n",
        "    data_stand.columns\n",
        "    )\n",
        "    rel_dif['Number of objects'] = num_objects\n",
        "    rel_dif.index.name = 'Rel.dif %'\n",
        "\n",
        "    return means.round(2), rel_dif.round(2), label\n",
        "\n",
        "m5, rdiff5, label = calculate_means(inertias_5, labels_5, 5, df_stand,\n",
        "df_full)\n",
        "m5"
      ]
    },
    {
      "cell_type": "code",
      "execution_count": null,
      "id": "ff3b2a16-e129-483b-bd4e-818b8c4afbd5",
      "metadata": {
        "id": "ff3b2a16-e129-483b-bd4e-818b8c4afbd5",
        "outputId": "9cc9acd4-1ee8-46f8-9b73-17dc7c5b379e"
      },
      "outputs": [
        {
          "data": {
            "text/html": [
              "<div>\n",
              "<style scoped>\n",
              "    .dataframe tbody tr th:only-of-type {\n",
              "        vertical-align: middle;\n",
              "    }\n",
              "\n",
              "    .dataframe tbody tr th {\n",
              "        vertical-align: top;\n",
              "    }\n",
              "\n",
              "    .dataframe thead th {\n",
              "        text-align: right;\n",
              "    }\n",
              "</style>\n",
              "<table border=\"1\" class=\"dataframe\">\n",
              "  <thead>\n",
              "    <tr style=\"text-align: right;\">\n",
              "      <th></th>\n",
              "      <th>Sleep_Duration_Hours</th>\n",
              "      <th>Caffeine_Intake_mg</th>\n",
              "      <th>Heart_Rate_Variability</th>\n",
              "      <th>Number of objects</th>\n",
              "    </tr>\n",
              "    <tr>\n",
              "      <th>Rel.dif %</th>\n",
              "      <th></th>\n",
              "      <th></th>\n",
              "      <th></th>\n",
              "      <th></th>\n",
              "    </tr>\n",
              "  </thead>\n",
              "  <tbody>\n",
              "    <tr>\n",
              "      <th>Cluster0</th>\n",
              "      <td>4.83</td>\n",
              "      <td>92.81</td>\n",
              "      <td>-0.46</td>\n",
              "      <td>195</td>\n",
              "    </tr>\n",
              "    <tr>\n",
              "      <th>Cluster1</th>\n",
              "      <td>-2.83</td>\n",
              "      <td>-79.53</td>\n",
              "      <td>2.80</td>\n",
              "      <td>228</td>\n",
              "    </tr>\n",
              "    <tr>\n",
              "      <th>Cluster2</th>\n",
              "      <td>-22.16</td>\n",
              "      <td>9.75</td>\n",
              "      <td>5.35</td>\n",
              "      <td>228</td>\n",
              "    </tr>\n",
              "    <tr>\n",
              "      <th>Cluster3</th>\n",
              "      <td>6.85</td>\n",
              "      <td>-6.52</td>\n",
              "      <td>-30.70</td>\n",
              "      <td>177</td>\n",
              "    </tr>\n",
              "    <tr>\n",
              "      <th>Cluster4</th>\n",
              "      <td>20.60</td>\n",
              "      <td>-6.00</td>\n",
              "      <td>21.31</td>\n",
              "      <td>172</td>\n",
              "    </tr>\n",
              "  </tbody>\n",
              "</table>\n",
              "</div>"
            ],
            "text/plain": [
              "           Sleep_Duration_Hours  Caffeine_Intake_mg  Heart_Rate_Variability  \\\n",
              "Rel.dif %                                                                     \n",
              "Cluster0                   4.83               92.81                   -0.46   \n",
              "Cluster1                  -2.83              -79.53                    2.80   \n",
              "Cluster2                 -22.16                9.75                    5.35   \n",
              "Cluster3                   6.85               -6.52                  -30.70   \n",
              "Cluster4                  20.60               -6.00                   21.31   \n",
              "\n",
              "           Number of objects  \n",
              "Rel.dif %                     \n",
              "Cluster0                 195  \n",
              "Cluster1                 228  \n",
              "Cluster2                 228  \n",
              "Cluster3                 177  \n",
              "Cluster4                 172  "
            ]
          },
          "execution_count": 211,
          "metadata": {},
          "output_type": "execute_result"
        }
      ],
      "source": [
        "rdiff5"
      ]
    },
    {
      "cell_type": "code",
      "execution_count": null,
      "id": "6cf86691-f935-4d4c-b601-a82320496016",
      "metadata": {
        "id": "6cf86691-f935-4d4c-b601-a82320496016",
        "outputId": "c5504010-3759-4c0e-d3c3-291a379b2e2e"
      },
      "outputs": [
        {
          "data": {
            "text/html": [
              "<div>\n",
              "<style scoped>\n",
              "    .dataframe tbody tr th:only-of-type {\n",
              "        vertical-align: middle;\n",
              "    }\n",
              "\n",
              "    .dataframe tbody tr th {\n",
              "        vertical-align: top;\n",
              "    }\n",
              "\n",
              "    .dataframe thead th {\n",
              "        text-align: right;\n",
              "    }\n",
              "</style>\n",
              "<table border=\"1\" class=\"dataframe\">\n",
              "  <thead>\n",
              "    <tr style=\"text-align: right;\">\n",
              "      <th></th>\n",
              "      <th>Sleep_Duration_Hours</th>\n",
              "      <th>Caffeine_Intake_mg</th>\n",
              "      <th>Heart_Rate_Variability</th>\n",
              "    </tr>\n",
              "    <tr>\n",
              "      <th>Means</th>\n",
              "      <th></th>\n",
              "      <th></th>\n",
              "      <th></th>\n",
              "    </tr>\n",
              "  </thead>\n",
              "  <tbody>\n",
              "    <tr>\n",
              "      <th>Cluster0</th>\n",
              "      <td>5.44</td>\n",
              "      <td>216.31</td>\n",
              "      <td>68.27</td>\n",
              "    </tr>\n",
              "    <tr>\n",
              "      <th>Cluster1</th>\n",
              "      <td>8.05</td>\n",
              "      <td>168.48</td>\n",
              "      <td>52.08</td>\n",
              "    </tr>\n",
              "    <tr>\n",
              "      <th>Cluster2</th>\n",
              "      <td>9.62</td>\n",
              "      <td>235.37</td>\n",
              "      <td>73.75</td>\n",
              "    </tr>\n",
              "    <tr>\n",
              "      <th>Cluster3</th>\n",
              "      <td>9.26</td>\n",
              "      <td>87.49</td>\n",
              "      <td>84.92</td>\n",
              "    </tr>\n",
              "    <tr>\n",
              "      <th>Cluster4</th>\n",
              "      <td>7.54</td>\n",
              "      <td>316.36</td>\n",
              "      <td>68.77</td>\n",
              "    </tr>\n",
              "    <tr>\n",
              "      <th>Cluster5</th>\n",
              "      <td>6.46</td>\n",
              "      <td>29.63</td>\n",
              "      <td>85.98</td>\n",
              "    </tr>\n",
              "    <tr>\n",
              "      <th>Cluster6</th>\n",
              "      <td>5.87</td>\n",
              "      <td>107.74</td>\n",
              "      <td>62.32</td>\n",
              "    </tr>\n",
              "    <tr>\n",
              "      <th>Cluster7</th>\n",
              "      <td>7.19</td>\n",
              "      <td>173.51</td>\n",
              "      <td>90.32</td>\n",
              "    </tr>\n",
              "    <tr>\n",
              "      <th>Cluster8</th>\n",
              "      <td>8.15</td>\n",
              "      <td>39.10</td>\n",
              "      <td>54.19</td>\n",
              "    </tr>\n",
              "    <tr>\n",
              "      <th>Grand mean</th>\n",
              "      <td>7.47</td>\n",
              "      <td>148.26</td>\n",
              "      <td>70.39</td>\n",
              "    </tr>\n",
              "  </tbody>\n",
              "</table>\n",
              "</div>"
            ],
            "text/plain": [
              "            Sleep_Duration_Hours  Caffeine_Intake_mg  Heart_Rate_Variability\n",
              "Means                                                                       \n",
              "Cluster0                    5.44              216.31                   68.27\n",
              "Cluster1                    8.05              168.48                   52.08\n",
              "Cluster2                    9.62              235.37                   73.75\n",
              "Cluster3                    9.26               87.49                   84.92\n",
              "Cluster4                    7.54              316.36                   68.77\n",
              "Cluster5                    6.46               29.63                   85.98\n",
              "Cluster6                    5.87              107.74                   62.32\n",
              "Cluster7                    7.19              173.51                   90.32\n",
              "Cluster8                    8.15               39.10                   54.19\n",
              "Grand mean                  7.47              148.26                   70.39"
            ]
          },
          "execution_count": 212,
          "metadata": {},
          "output_type": "execute_result"
        }
      ],
      "source": [
        "m9, rdiff9, label = calculate_means(inertias_9, labels_9, 9, df_stand,\n",
        "df_full)\n",
        "m9"
      ]
    },
    {
      "cell_type": "code",
      "execution_count": null,
      "id": "5f4787b2-dc7c-49cd-bee3-81a1e0a2ea60",
      "metadata": {
        "id": "5f4787b2-dc7c-49cd-bee3-81a1e0a2ea60",
        "outputId": "325f7272-8308-4efb-bf46-f33cbe1c2b78"
      },
      "outputs": [
        {
          "data": {
            "text/html": [
              "<div>\n",
              "<style scoped>\n",
              "    .dataframe tbody tr th:only-of-type {\n",
              "        vertical-align: middle;\n",
              "    }\n",
              "\n",
              "    .dataframe tbody tr th {\n",
              "        vertical-align: top;\n",
              "    }\n",
              "\n",
              "    .dataframe thead th {\n",
              "        text-align: right;\n",
              "    }\n",
              "</style>\n",
              "<table border=\"1\" class=\"dataframe\">\n",
              "  <thead>\n",
              "    <tr style=\"text-align: right;\">\n",
              "      <th></th>\n",
              "      <th>Sleep_Duration_Hours</th>\n",
              "      <th>Caffeine_Intake_mg</th>\n",
              "      <th>Heart_Rate_Variability</th>\n",
              "      <th>Number of objects</th>\n",
              "    </tr>\n",
              "    <tr>\n",
              "      <th>Rel.dif %</th>\n",
              "      <th></th>\n",
              "      <th></th>\n",
              "      <th></th>\n",
              "      <th></th>\n",
              "    </tr>\n",
              "  </thead>\n",
              "  <tbody>\n",
              "    <tr>\n",
              "      <th>Cluster0</th>\n",
              "      <td>-27.20</td>\n",
              "      <td>45.90</td>\n",
              "      <td>-3.01</td>\n",
              "      <td>96</td>\n",
              "    </tr>\n",
              "    <tr>\n",
              "      <th>Cluster1</th>\n",
              "      <td>7.79</td>\n",
              "      <td>13.64</td>\n",
              "      <td>-26.01</td>\n",
              "      <td>141</td>\n",
              "    </tr>\n",
              "    <tr>\n",
              "      <th>Cluster2</th>\n",
              "      <td>28.74</td>\n",
              "      <td>58.75</td>\n",
              "      <td>4.78</td>\n",
              "      <td>82</td>\n",
              "    </tr>\n",
              "    <tr>\n",
              "      <th>Cluster3</th>\n",
              "      <td>23.88</td>\n",
              "      <td>-40.99</td>\n",
              "      <td>20.64</td>\n",
              "      <td>104</td>\n",
              "    </tr>\n",
              "    <tr>\n",
              "      <th>Cluster4</th>\n",
              "      <td>0.88</td>\n",
              "      <td>113.38</td>\n",
              "      <td>-2.29</td>\n",
              "      <td>98</td>\n",
              "    </tr>\n",
              "    <tr>\n",
              "      <th>Cluster5</th>\n",
              "      <td>-13.58</td>\n",
              "      <td>-80.02</td>\n",
              "      <td>22.15</td>\n",
              "      <td>97</td>\n",
              "    </tr>\n",
              "    <tr>\n",
              "      <th>Cluster6</th>\n",
              "      <td>-21.45</td>\n",
              "      <td>-27.33</td>\n",
              "      <td>-11.46</td>\n",
              "      <td>126</td>\n",
              "    </tr>\n",
              "    <tr>\n",
              "      <th>Cluster7</th>\n",
              "      <td>-3.84</td>\n",
              "      <td>17.03</td>\n",
              "      <td>28.32</td>\n",
              "      <td>133</td>\n",
              "    </tr>\n",
              "    <tr>\n",
              "      <th>Cluster8</th>\n",
              "      <td>9.07</td>\n",
              "      <td>-73.63</td>\n",
              "      <td>-23.01</td>\n",
              "      <td>123</td>\n",
              "    </tr>\n",
              "  </tbody>\n",
              "</table>\n",
              "</div>"
            ],
            "text/plain": [
              "           Sleep_Duration_Hours  Caffeine_Intake_mg  Heart_Rate_Variability  \\\n",
              "Rel.dif %                                                                     \n",
              "Cluster0                 -27.20               45.90                   -3.01   \n",
              "Cluster1                   7.79               13.64                  -26.01   \n",
              "Cluster2                  28.74               58.75                    4.78   \n",
              "Cluster3                  23.88              -40.99                   20.64   \n",
              "Cluster4                   0.88              113.38                   -2.29   \n",
              "Cluster5                 -13.58              -80.02                   22.15   \n",
              "Cluster6                 -21.45              -27.33                  -11.46   \n",
              "Cluster7                  -3.84               17.03                   28.32   \n",
              "Cluster8                   9.07              -73.63                  -23.01   \n",
              "\n",
              "           Number of objects  \n",
              "Rel.dif %                     \n",
              "Cluster0                  96  \n",
              "Cluster1                 141  \n",
              "Cluster2                  82  \n",
              "Cluster3                 104  \n",
              "Cluster4                  98  \n",
              "Cluster5                  97  \n",
              "Cluster6                 126  \n",
              "Cluster7                 133  \n",
              "Cluster8                 123  "
            ]
          },
          "execution_count": 213,
          "metadata": {},
          "output_type": "execute_result"
        }
      ],
      "source": [
        "rdiff9"
      ]
    },
    {
      "cell_type": "markdown",
      "id": "579d5d4d-e326-47f1-9103-13633c2018dd",
      "metadata": {
        "id": "579d5d4d-e326-47f1-9103-13633c2018dd"
      },
      "source": [
        "# 4): Бутстрэп"
      ]
    },
    {
      "cell_type": "markdown",
      "id": "e5579e79-def0-4e4d-bfd0-a5036afdeedd",
      "metadata": {
        "id": "e5579e79-def0-4e4d-bfd0-a5036afdeedd"
      },
      "source": [
        "Sleep_Duration_Hours"
      ]
    },
    {
      "cell_type": "code",
      "execution_count": null,
      "id": "b62afd8e-c618-4e50-9faa-3dc1927a5cb4",
      "metadata": {
        "id": "b62afd8e-c618-4e50-9faa-3dc1927a5cb4",
        "outputId": "d227d545-fa8c-46e8-8254-a4765a20db19"
      },
      "outputs": [
        {
          "data": {
            "image/png": "[encoded data removed]",
            "text/plain": [
              "<Figure size 1100x500 with 1 Axes>"
            ]
          },
          "metadata": {},
          "output_type": "display_data"
        }
      ],
      "source": [
        "feature = df.iloc[:, 3]\n",
        "# визуализация\n",
        "plt.figure(figsize=(11,5))\n",
        "plt.hist(feature, bins=20, edgecolor='black')\n",
        "plt.title('Sleep_Duration_Hours')\n",
        "plt.show()"
      ]
    },
    {
      "cell_type": "code",
      "execution_count": null,
      "id": "8c69049c-3439-4f8d-859f-83b36f96e632",
      "metadata": {
        "id": "8c69049c-3439-4f8d-859f-83b36f96e632",
        "outputId": "3ea1b300-7cac-4448-de0f-4d8b44f9cecf"
      },
      "outputs": [
        {
          "data": {
            "image/png": "[encoded data removed]",
            "text/plain": [
              "<Figure size 1100x500 with 1 Axes>"
            ]
          },
          "metadata": {},
          "output_type": "display_data"
        }
      ],
      "source": [
        "n_bootstrap = 5000\n",
        "# бутстреп\n",
        "r = np.random.choice(feature, size=(len(feature), n_bootstrap))\n",
        "rm = np.mean(r, axis=0)\n",
        "# визуализация\n",
        "plt.figure(figsize=(11,5))\n",
        "plt.hist(rm, bins=50, edgecolor='black')\n",
        "plt.title('Sleep_Duration_Hours (resampled)')\n",
        "plt.show()"
      ]
    },
    {
      "cell_type": "code",
      "execution_count": null,
      "id": "3395c363-184d-423a-9133-e2d8a0d57b9e",
      "metadata": {
        "id": "3395c363-184d-423a-9133-e2d8a0d57b9e"
      },
      "outputs": [],
      "source": [
        "fid1, fid2 = 0, 1"
      ]
    },
    {
      "cell_type": "code",
      "execution_count": null,
      "id": "61cbd9f6-5509-43c8-aedd-00290961f6bc",
      "metadata": {
        "id": "61cbd9f6-5509-43c8-aedd-00290961f6bc",
        "outputId": "d7059f61-e6c2-45e8-9e2a-df23beb0a4f0"
      },
      "outputs": [
        {
          "data": {
            "image/png": "[encoded data removed]",
            "text/plain": [
              "<Figure size 640x480 with 1 Axes>"
            ]
          },
          "metadata": {},
          "output_type": "display_data"
        }
      ],
      "source": [
        "fid1, fid2 = 0, 1\n",
        "feature_1 = feature.values[np.where(label == fid1)]\n",
        "# средние\n",
        "r1 = r * np.isin(r, feature_1)\n",
        "rm1 = np.sum(r1, axis=0) / np.count_nonzero(r1, axis=0)\n",
        "rm1 = np.nan_to_num(rm1, nan=np.mean(rm1[~np.isnan(rm1)]))\n",
        "\n",
        "feature_2 = feature.values[np.where(label == fid2)]\n",
        "r2 = r * np.isin(r, feature_2)\n",
        "rm2 = np.sum(r2, axis=0) / np.count_nonzero(r2, axis=0)\n",
        "rm2 = np.nan_to_num(rm2, nan=np.mean(rm2[~np.isnan(rm2)]))\n",
        "\n",
        "plt.hist(rm2, bins=50, edgecolor='black')\n",
        "plt.title('Sleep_Duration_Hours of second chosen cluster (resampled)')\n",
        "plt.show()"
      ]
    },
    {
      "cell_type": "code",
      "execution_count": null,
      "id": "41cfde50-ecfb-4e6c-ae81-85ed7d613d9a",
      "metadata": {
        "id": "41cfde50-ecfb-4e6c-ae81-85ed7d613d9a",
        "outputId": "97c72ff9-c1f9-4246-a4f6-0f8af1c53e5b"
      },
      "outputs": [
        {
          "name": "stdout",
          "output_type": "stream",
          "text": [
            "Feature mean: 7.47\n",
            "Confidence interval (pivotal): 7.38, 7.57\n",
            "Confidence interval (non-pivotal): 7.37, 7.57\n"
          ]
        }
      ],
      "source": [
        "def bootstrap(x, n_bootstrap=n_bootstrap):\n",
        " # pivotal\n",
        " mean_p = np.mean(x)\n",
        " std_p = np.std(x)\n",
        " lbord_p = mean_p - 1.96 * std_p\n",
        " rbord_p = mean_p + 1.96 * std_p\n",
        " confint_p = np.array([lbord_p, rbord_p])\n",
        "\n",
        " # non-pivotal\n",
        " x_sorted = np.sort(x)\n",
        " lbord_np = x_sorted[int(n_bootstrap * 0.025) + 1]\n",
        " rbord_np = x_sorted[int(n_bootstrap * 0.975)]\n",
        " confint_np = np.array([lbord_np, rbord_np])\n",
        "\n",
        " return confint_p, confint_np\n",
        "# вывод\n",
        "rm_confint_p, rm_confint_np = bootstrap(rm)\n",
        "print('Feature mean: %.2f' % np.mean(feature))\n",
        "print('Confidence interval (pivotal): %.2f, %.2f' % (rm_confint_p[0], rm_confint_p[1]))\n",
        "print('Confidence interval (non-pivotal): %.2f, %.2f' % (rm_confint_np[0], rm_confint_np[1]))"
      ]
    },
    {
      "cell_type": "code",
      "execution_count": null,
      "id": "310e8bad-ba14-4618-9c65-84056cfe606d",
      "metadata": {
        "id": "310e8bad-ba14-4618-9c65-84056cfe606d",
        "outputId": "d1148acb-ecd4-4406-ac5d-d8b816a17eb4"
      },
      "outputs": [
        {
          "name": "stdout",
          "output_type": "stream",
          "text": [
            "Confidence interval (pivotal): 2.02, 2.53\n",
            "Confidence interval (non-pivotal): 2.01, 2.54\n"
          ]
        }
      ],
      "source": [
        "rm1_rm2_confint_p, rm1_rm2_confint_np = bootstrap(rm1 - rm2)\n",
        "print('Confidence interval (pivotal): %.2f, %.2f' %\n",
        "(rm1_rm2_confint_p[0], rm1_rm2_confint_p[1]))\n",
        "print('Confidence interval (non-pivotal): %.2f, %.2f' %\n",
        "(rm1_rm2_confint_np[0], rm1_rm2_confint_np[1]))"
      ]
    },
    {
      "cell_type": "code",
      "execution_count": null,
      "id": "78f2fb1f-c730-45b8-ae8c-5984e0483e98",
      "metadata": {
        "id": "78f2fb1f-c730-45b8-ae8c-5984e0483e98",
        "outputId": "d394188a-2c01-431b-9ef7-f08fcda8f965"
      },
      "outputs": [
        {
          "name": "stdout",
          "output_type": "stream",
          "text": [
            "Confidence interval (pivotal): 0.37, 0.79\n",
            "Confidence interval (nonpivotal): 0.37, 0.80\n"
          ]
        }
      ],
      "source": [
        "rm1_rm_confint_p, rm1_rm_confint_np = bootstrap(rm1 - rm)\n",
        "print('Confidence interval (pivotal): %.2f, %.2f' %\n",
        "(rm1_rm_confint_p[0], rm1_rm_confint_p[1]))\n",
        "print('Confidence interval (nonpivotal): %.2f, %.2f' %\n",
        "(rm1_rm_confint_np[0], rm1_rm_confint_np[1]))"
      ]
    },
    {
      "cell_type": "markdown",
      "id": "4bc6230e-5301-4bc5-b4cc-4e98d46d29f1",
      "metadata": {
        "id": "4bc6230e-5301-4bc5-b4cc-4e98d46d29f1"
      },
      "source": [
        "# 5) Таблица сопряженности"
      ]
    },
    {
      "cell_type": "code",
      "execution_count": null,
      "id": "302d173b-70f0-4bfa-a9cc-e1c7c5e579ae",
      "metadata": {
        "id": "302d173b-70f0-4bfa-a9cc-e1c7c5e579ae",
        "outputId": "a48d3028-9610-4965-ec26-6866f9c86f96"
      },
      "outputs": [
        {
          "data": {
            "text/html": [
              "<div>\n",
              "<style scoped>\n",
              "    .dataframe tbody tr th:only-of-type {\n",
              "        vertical-align: middle;\n",
              "    }\n",
              "\n",
              "    .dataframe tbody tr th {\n",
              "        vertical-align: top;\n",
              "    }\n",
              "\n",
              "    .dataframe thead th {\n",
              "        text-align: right;\n",
              "    }\n",
              "</style>\n",
              "<table border=\"1\" class=\"dataframe\">\n",
              "  <thead>\n",
              "    <tr style=\"text-align: right;\">\n",
              "      <th></th>\n",
              "      <th>Heart_Rate_Variability</th>\n",
              "      <th>Body_Temperature</th>\n",
              "      <th>Movement_During_Sleep</th>\n",
              "      <th>Sleep_Duration_Hours</th>\n",
              "      <th>Sleep_Quality_Score</th>\n",
              "      <th>Caffeine_Intake_mg</th>\n",
              "      <th>Stress_Level</th>\n",
              "      <th>Bedtime_Consistency</th>\n",
              "      <th>Light_Exposure_hours</th>\n",
              "    </tr>\n",
              "  </thead>\n",
              "  <tbody>\n",
              "    <tr>\n",
              "      <th>0</th>\n",
              "      <td>79.934283</td>\n",
              "      <td>37.199678</td>\n",
              "      <td>1.324822</td>\n",
              "      <td>4.638289</td>\n",
              "      <td>1.000000</td>\n",
              "      <td>107.624032</td>\n",
              "      <td>2.771837</td>\n",
              "      <td>0.657037</td>\n",
              "      <td>7.933949</td>\n",
              "    </tr>\n",
              "    <tr>\n",
              "      <th>1</th>\n",
              "      <td>67.234714</td>\n",
              "      <td>36.962317</td>\n",
              "      <td>1.855481</td>\n",
              "      <td>6.209422</td>\n",
              "      <td>1.000000</td>\n",
              "      <td>104.658589</td>\n",
              "      <td>3.738138</td>\n",
              "      <td>0.144464</td>\n",
              "      <td>6.992699</td>\n",
              "    </tr>\n",
              "    <tr>\n",
              "      <th>2</th>\n",
              "      <td>82.953771</td>\n",
              "      <td>36.529815</td>\n",
              "      <td>1.207580</td>\n",
              "      <td>6.879592</td>\n",
              "      <td>10.000000</td>\n",
              "      <td>0.000000</td>\n",
              "      <td>3.115880</td>\n",
              "      <td>0.642949</td>\n",
              "      <td>7.655250</td>\n",
              "    </tr>\n",
              "    <tr>\n",
              "      <th>3</th>\n",
              "      <td>100.460597</td>\n",
              "      <td>36.176532</td>\n",
              "      <td>1.692038</td>\n",
              "      <td>10.331531</td>\n",
              "      <td>1.000000</td>\n",
              "      <td>116.990981</td>\n",
              "      <td>3.904008</td>\n",
              "      <td>0.453255</td>\n",
              "      <td>9.429463</td>\n",
              "    </tr>\n",
              "    <tr>\n",
              "      <th>4</th>\n",
              "      <td>65.316933</td>\n",
              "      <td>36.849112</td>\n",
              "      <td>0.106385</td>\n",
              "      <td>8.334830</td>\n",
              "      <td>1.000000</td>\n",
              "      <td>223.282908</td>\n",
              "      <td>4.571699</td>\n",
              "      <td>0.641492</td>\n",
              "      <td>10.555713</td>\n",
              "    </tr>\n",
              "    <tr>\n",
              "      <th>...</th>\n",
              "      <td>...</td>\n",
              "      <td>...</td>\n",
              "      <td>...</td>\n",
              "      <td>...</td>\n",
              "      <td>...</td>\n",
              "      <td>...</td>\n",
              "      <td>...</td>\n",
              "      <td>...</td>\n",
              "      <td>...</td>\n",
              "    </tr>\n",
              "    <tr>\n",
              "      <th>995</th>\n",
              "      <td>64.377994</td>\n",
              "      <td>37.035075</td>\n",
              "      <td>2.077481</td>\n",
              "      <td>7.542686</td>\n",
              "      <td>1.000000</td>\n",
              "      <td>167.146932</td>\n",
              "      <td>4.404266</td>\n",
              "      <td>0.941971</td>\n",
              "      <td>8.203260</td>\n",
              "    </tr>\n",
              "    <tr>\n",
              "      <th>996</th>\n",
              "      <td>105.953731</td>\n",
              "      <td>36.486739</td>\n",
              "      <td>2.257753</td>\n",
              "      <td>4.383282</td>\n",
              "      <td>1.000000</td>\n",
              "      <td>265.264810</td>\n",
              "      <td>6.538063</td>\n",
              "      <td>0.565399</td>\n",
              "      <td>10.334435</td>\n",
              "    </tr>\n",
              "    <tr>\n",
              "      <th>997</th>\n",
              "      <td>82.816857</td>\n",
              "      <td>36.059063</td>\n",
              "      <td>0.758239</td>\n",
              "      <td>7.019553</td>\n",
              "      <td>8.445252</td>\n",
              "      <td>28.259621</td>\n",
              "      <td>3.945222</td>\n",
              "      <td>0.332975</td>\n",
              "      <td>11.176894</td>\n",
              "    </tr>\n",
              "    <tr>\n",
              "      <th>998</th>\n",
              "      <td>58.576420</td>\n",
              "      <td>36.418467</td>\n",
              "      <td>2.334176</td>\n",
              "      <td>9.965067</td>\n",
              "      <td>1.000000</td>\n",
              "      <td>196.795042</td>\n",
              "      <td>4.989787</td>\n",
              "      <td>0.830583</td>\n",
              "      <td>6.630026</td>\n",
              "    </tr>\n",
              "    <tr>\n",
              "      <th>999</th>\n",
              "      <td>81.451656</td>\n",
              "      <td>36.127549</td>\n",
              "      <td>1.844741</td>\n",
              "      <td>8.040972</td>\n",
              "      <td>7.075445</td>\n",
              "      <td>32.971929</td>\n",
              "      <td>5.797528</td>\n",
              "      <td>0.915556</td>\n",
              "      <td>9.602364</td>\n",
              "    </tr>\n",
              "  </tbody>\n",
              "</table>\n",
              "<p>1000 rows × 9 columns</p>\n",
              "</div>"
            ],
            "text/plain": [
              "     Heart_Rate_Variability  Body_Temperature  Movement_During_Sleep  \\\n",
              "0                 79.934283         37.199678               1.324822   \n",
              "1                 67.234714         36.962317               1.855481   \n",
              "2                 82.953771         36.529815               1.207580   \n",
              "3                100.460597         36.176532               1.692038   \n",
              "4                 65.316933         36.849112               0.106385   \n",
              "..                      ...               ...                    ...   \n",
              "995               64.377994         37.035075               2.077481   \n",
              "996              105.953731         36.486739               2.257753   \n",
              "997               82.816857         36.059063               0.758239   \n",
              "998               58.576420         36.418467               2.334176   \n",
              "999               81.451656         36.127549               1.844741   \n",
              "\n",
              "     Sleep_Duration_Hours  Sleep_Quality_Score  Caffeine_Intake_mg  \\\n",
              "0                4.638289             1.000000          107.624032   \n",
              "1                6.209422             1.000000          104.658589   \n",
              "2                6.879592            10.000000            0.000000   \n",
              "3               10.331531             1.000000          116.990981   \n",
              "4                8.334830             1.000000          223.282908   \n",
              "..                    ...                  ...                 ...   \n",
              "995              7.542686             1.000000          167.146932   \n",
              "996              4.383282             1.000000          265.264810   \n",
              "997              7.019553             8.445252           28.259621   \n",
              "998              9.965067             1.000000          196.795042   \n",
              "999              8.040972             7.075445           32.971929   \n",
              "\n",
              "     Stress_Level  Bedtime_Consistency  Light_Exposure_hours  \n",
              "0        2.771837             0.657037              7.933949  \n",
              "1        3.738138             0.144464              6.992699  \n",
              "2        3.115880             0.642949              7.655250  \n",
              "3        3.904008             0.453255              9.429463  \n",
              "4        4.571699             0.641492             10.555713  \n",
              "..            ...                  ...                   ...  \n",
              "995      4.404266             0.941971              8.203260  \n",
              "996      6.538063             0.565399             10.334435  \n",
              "997      3.945222             0.332975             11.176894  \n",
              "998      4.989787             0.830583              6.630026  \n",
              "999      5.797528             0.915556              9.602364  \n",
              "\n",
              "[1000 rows x 9 columns]"
            ]
          },
          "execution_count": 214,
          "metadata": {},
          "output_type": "execute_result"
        }
      ],
      "source": [
        "df"
      ]
    },
    {
      "cell_type": "code",
      "execution_count": null,
      "id": "e5eddc38-c980-418c-9244-8dcf35f8645b",
      "metadata": {
        "id": "e5eddc38-c980-418c-9244-8dcf35f8645b",
        "outputId": "5c2ad0da-d019-47ba-a8e4-ae135c487aca"
      },
      "outputs": [
        {
          "data": {
            "text/html": [
              "<div>\n",
              "<style scoped>\n",
              "    .dataframe tbody tr th:only-of-type {\n",
              "        vertical-align: middle;\n",
              "    }\n",
              "\n",
              "    .dataframe tbody tr th {\n",
              "        vertical-align: top;\n",
              "    }\n",
              "\n",
              "    .dataframe thead th {\n",
              "        text-align: right;\n",
              "    }\n",
              "</style>\n",
              "<table border=\"1\" class=\"dataframe\">\n",
              "  <thead>\n",
              "    <tr style=\"text-align: right;\">\n",
              "      <th></th>\n",
              "      <th>Heart_Rate_Variability</th>\n",
              "      <th>Body_Temperature</th>\n",
              "      <th>Movement_During_Sleep</th>\n",
              "      <th>Sleep_Duration_Hours</th>\n",
              "      <th>Sleep_Quality_Score</th>\n",
              "      <th>Caffeine_Intake_mg</th>\n",
              "      <th>Stress_Level</th>\n",
              "      <th>Bedtime_Consistency</th>\n",
              "      <th>Light_Exposure_hours</th>\n",
              "    </tr>\n",
              "  </thead>\n",
              "  <tbody>\n",
              "    <tr>\n",
              "      <th>count</th>\n",
              "      <td>1000.000000</td>\n",
              "      <td>1000.000000</td>\n",
              "      <td>1000.000000</td>\n",
              "      <td>1000.000000</td>\n",
              "      <td>1000.000000</td>\n",
              "      <td>1000.000000</td>\n",
              "      <td>1000.000000</td>\n",
              "      <td>1000.000000</td>\n",
              "      <td>1000.000000</td>\n",
              "    </tr>\n",
              "    <tr>\n",
              "      <th>mean</th>\n",
              "      <td>70.386641</td>\n",
              "      <td>36.535418</td>\n",
              "      <td>2.005834</td>\n",
              "      <td>7.471921</td>\n",
              "      <td>2.592946</td>\n",
              "      <td>148.260148</td>\n",
              "      <td>4.940956</td>\n",
              "      <td>0.504222</td>\n",
              "      <td>8.036684</td>\n",
              "    </tr>\n",
              "    <tr>\n",
              "      <th>std</th>\n",
              "      <td>19.584319</td>\n",
              "      <td>0.498727</td>\n",
              "      <td>0.983454</td>\n",
              "      <td>1.540699</td>\n",
              "      <td>2.979500</td>\n",
              "      <td>94.031760</td>\n",
              "      <td>2.032708</td>\n",
              "      <td>0.204137</td>\n",
              "      <td>2.023371</td>\n",
              "    </tr>\n",
              "    <tr>\n",
              "      <th>min</th>\n",
              "      <td>5.174653</td>\n",
              "      <td>35.029806</td>\n",
              "      <td>-1.019512</td>\n",
              "      <td>3.105827</td>\n",
              "      <td>1.000000</td>\n",
              "      <td>0.000000</td>\n",
              "      <td>0.000000</td>\n",
              "      <td>0.000000</td>\n",
              "      <td>0.326689</td>\n",
              "    </tr>\n",
              "    <tr>\n",
              "      <th>25%</th>\n",
              "      <td>57.048194</td>\n",
              "      <td>36.196879</td>\n",
              "      <td>1.352000</td>\n",
              "      <td>6.393869</td>\n",
              "      <td>1.000000</td>\n",
              "      <td>80.630719</td>\n",
              "      <td>3.489725</td>\n",
              "      <td>0.361569</td>\n",
              "      <td>6.726291</td>\n",
              "    </tr>\n",
              "    <tr>\n",
              "      <th>50%</th>\n",
              "      <td>70.506012</td>\n",
              "      <td>36.531539</td>\n",
              "      <td>1.999749</td>\n",
              "      <td>7.500277</td>\n",
              "      <td>1.000000</td>\n",
              "      <td>145.717293</td>\n",
              "      <td>4.890507</td>\n",
              "      <td>0.500996</td>\n",
              "      <td>8.038248</td>\n",
              "    </tr>\n",
              "    <tr>\n",
              "      <th>75%</th>\n",
              "      <td>82.958878</td>\n",
              "      <td>36.864441</td>\n",
              "      <td>2.660915</td>\n",
              "      <td>8.500418</td>\n",
              "      <td>2.537789</td>\n",
              "      <td>211.244685</td>\n",
              "      <td>6.399490</td>\n",
              "      <td>0.644680</td>\n",
              "      <td>9.354408</td>\n",
              "    </tr>\n",
              "    <tr>\n",
              "      <th>max</th>\n",
              "      <td>147.054630</td>\n",
              "      <td>38.096554</td>\n",
              "      <td>5.926238</td>\n",
              "      <td>12.364639</td>\n",
              "      <td>10.000000</td>\n",
              "      <td>400.000000</td>\n",
              "      <td>10.000000</td>\n",
              "      <td>1.000000</td>\n",
              "      <td>14.754766</td>\n",
              "    </tr>\n",
              "  </tbody>\n",
              "</table>\n",
              "</div>"
            ],
            "text/plain": [
              "       Heart_Rate_Variability  Body_Temperature  Movement_During_Sleep  \\\n",
              "count             1000.000000       1000.000000            1000.000000   \n",
              "mean                70.386641         36.535418               2.005834   \n",
              "std                 19.584319          0.498727               0.983454   \n",
              "min                  5.174653         35.029806              -1.019512   \n",
              "25%                 57.048194         36.196879               1.352000   \n",
              "50%                 70.506012         36.531539               1.999749   \n",
              "75%                 82.958878         36.864441               2.660915   \n",
              "max                147.054630         38.096554               5.926238   \n",
              "\n",
              "       Sleep_Duration_Hours  Sleep_Quality_Score  Caffeine_Intake_mg  \\\n",
              "count           1000.000000          1000.000000         1000.000000   \n",
              "mean               7.471921             2.592946          148.260148   \n",
              "std                1.540699             2.979500           94.031760   \n",
              "min                3.105827             1.000000            0.000000   \n",
              "25%                6.393869             1.000000           80.630719   \n",
              "50%                7.500277             1.000000          145.717293   \n",
              "75%                8.500418             2.537789          211.244685   \n",
              "max               12.364639            10.000000          400.000000   \n",
              "\n",
              "       Stress_Level  Bedtime_Consistency  Light_Exposure_hours  \n",
              "count   1000.000000          1000.000000           1000.000000  \n",
              "mean       4.940956             0.504222              8.036684  \n",
              "std        2.032708             0.204137              2.023371  \n",
              "min        0.000000             0.000000              0.326689  \n",
              "25%        3.489725             0.361569              6.726291  \n",
              "50%        4.890507             0.500996              8.038248  \n",
              "75%        6.399490             0.644680              9.354408  \n",
              "max       10.000000             1.000000             14.754766  "
            ]
          },
          "execution_count": 217,
          "metadata": {},
          "output_type": "execute_result"
        }
      ],
      "source": [
        "df.describe()"
      ]
    },
    {
      "cell_type": "code",
      "execution_count": null,
      "id": "11e7eead-7579-4d22-9636-1ed26970b08a",
      "metadata": {
        "id": "11e7eead-7579-4d22-9636-1ed26970b08a",
        "outputId": "7edd9041-a1ca-4ede-d99e-8db59dc24a04"
      },
      "outputs": [
        {
          "data": {
            "image/png": "[encoded data removed]",
            "text/plain": [
              "<Figure size 640x480 with 1 Axes>"
            ]
          },
          "metadata": {},
          "output_type": "display_data"
        }
      ],
      "source": [
        "f1 = df['Sleep_Duration_Hours']\n",
        "plt.hist(f1, 60)\n",
        "plt.title('Sleep_Duration_Hours')\n",
        "plt.show()"
      ]
    },
    {
      "cell_type": "code",
      "execution_count": null,
      "id": "3c2b676a-ce30-4ff5-82e2-e6c357af5ab4",
      "metadata": {
        "id": "3c2b676a-ce30-4ff5-82e2-e6c357af5ab4",
        "outputId": "c659d85e-6202-4832-c73d-2f7dccd6e08e"
      },
      "outputs": [
        {
          "data": {
            "image/png": "[encoded data removed]",
            "text/plain": [
              "<Figure size 640x480 with 1 Axes>"
            ]
          },
          "metadata": {},
          "output_type": "display_data"
        }
      ],
      "source": [
        "f2 = df['Caffeine_Intake_mg']\n",
        "plt.hist(f2, 60)\n",
        "plt.title('Caffeine_Intake_mg')\n",
        "plt.show()"
      ]
    },
    {
      "cell_type": "code",
      "execution_count": null,
      "id": "3cada919-7e14-4bfe-adc9-a37da518fb6c",
      "metadata": {
        "id": "3cada919-7e14-4bfe-adc9-a37da518fb6c",
        "outputId": "f1637ece-13cf-4f60-9afc-47d886b07f6f"
      },
      "outputs": [
        {
          "data": {
            "image/png": "[encoded data removed]",
            "text/plain": [
              "<Figure size 640x480 with 1 Axes>"
            ]
          },
          "metadata": {},
          "output_type": "display_data"
        }
      ],
      "source": [
        "f3 = df['Stress_Level']\n",
        "plt.hist(f3, 60)\n",
        "plt.title('Stress_Level')\n",
        "plt.show()"
      ]
    },
    {
      "cell_type": "code",
      "execution_count": null,
      "id": "2cea0c38-da2b-4e49-99ab-687c36d8a732",
      "metadata": {
        "id": "2cea0c38-da2b-4e49-99ab-687c36d8a732",
        "outputId": "b6d49e73-0f73-4a98-d0e0-b27d37a31467"
      },
      "outputs": [
        {
          "data": {
            "text/plain": [
              "(array([ 7.,  4.,  2.,  3.,  3.,  4.,  8.,  3.,  9.,  6.,  5., 11., 20.,\n",
              "        16., 21., 15., 21., 16., 15., 34., 29., 24., 32., 24., 24., 34.,\n",
              "        37., 32., 28., 40., 32., 36., 23., 27., 27., 32., 23., 11., 25.,\n",
              "        20., 24., 28., 18., 22., 14., 15., 14., 14., 13.,  3.,  8.,  8.,\n",
              "         8.,  3.,  2.,  4.,  3.,  2.,  3., 11.]),\n",
              " array([ 0.        ,  0.16666667,  0.33333333,  0.5       ,  0.66666667,\n",
              "         0.83333333,  1.        ,  1.16666667,  1.33333333,  1.5       ,\n",
              "         1.66666667,  1.83333333,  2.        ,  2.16666667,  2.33333333,\n",
              "         2.5       ,  2.66666667,  2.83333333,  3.        ,  3.16666667,\n",
              "         3.33333333,  3.5       ,  3.66666667,  3.83333333,  4.        ,\n",
              "         4.16666667,  4.33333333,  4.5       ,  4.66666667,  4.83333333,\n",
              "         5.        ,  5.16666667,  5.33333333,  5.5       ,  5.66666667,\n",
              "         5.83333333,  6.        ,  6.16666667,  6.33333333,  6.5       ,\n",
              "         6.66666667,  6.83333333,  7.        ,  7.16666667,  7.33333333,\n",
              "         7.5       ,  7.66666667,  7.83333333,  8.        ,  8.16666667,\n",
              "         8.33333333,  8.5       ,  8.66666667,  8.83333333,  9.        ,\n",
              "         9.16666667,  9.33333333,  9.5       ,  9.66666667,  9.83333333,\n",
              "        10.        ]),\n",
              " <BarContainer object of 60 artists>)"
            ]
          },
          "execution_count": 269,
          "metadata": {},
          "output_type": "execute_result"
        },
        {
          "data": {
            "image/png": "[encoded data removed]",
            "text/plain": [
              "<Figure size 640x480 with 3 Axes>"
            ]
          },
          "metadata": {},
          "output_type": "display_data"
        },
        {
          "data": {
            "text/plain": [
              "<Figure size 2000x500 with 0 Axes>"
            ]
          },
          "metadata": {},
          "output_type": "display_data"
        }
      ],
      "source": [
        "fig, (ax1, ax2, ax3) = plt.subplots(1,3)\n",
        "plt.figure(figsize=(20,5))\n",
        "\n",
        "fig.suptitle('Vertically stacked subplots')\n",
        "ax1.hist(f1, 60)\n",
        "ax2.hist(f2, 60)\n",
        "ax3.hist(f3, 60)\n"
      ]
    },
    {
      "cell_type": "code",
      "execution_count": null,
      "id": "738688ec-5d86-48dd-a3aa-458e0bde9c38",
      "metadata": {
        "id": "738688ec-5d86-48dd-a3aa-458e0bde9c38",
        "outputId": "f857cd24-4e7e-4e07-cd07-579d84c98386"
      },
      "outputs": [
        {
          "data": {
            "text/html": [
              "<div>\n",
              "<style scoped>\n",
              "    .dataframe tbody tr th:only-of-type {\n",
              "        vertical-align: middle;\n",
              "    }\n",
              "\n",
              "    .dataframe tbody tr th {\n",
              "        vertical-align: top;\n",
              "    }\n",
              "\n",
              "    .dataframe thead th {\n",
              "        text-align: right;\n",
              "    }\n",
              "</style>\n",
              "<table border=\"1\" class=\"dataframe\">\n",
              "  <thead>\n",
              "    <tr style=\"text-align: right;\">\n",
              "      <th></th>\n",
              "    </tr>\n",
              "  </thead>\n",
              "  <tbody>\n",
              "  </tbody>\n",
              "</table>\n",
              "</div>"
            ],
            "text/plain": [
              "Empty DataFrame\n",
              "Columns: []\n",
              "Index: []"
            ]
          },
          "execution_count": 218,
          "metadata": {},
          "output_type": "execute_result"
        }
      ],
      "source": [
        "df_new = pd.DataFrame()\n",
        "df_new"
      ]
    },
    {
      "cell_type": "code",
      "execution_count": null,
      "id": "e31f28db-6ae2-471e-af7b-2d3b8acefaa0",
      "metadata": {
        "id": "e31f28db-6ae2-471e-af7b-2d3b8acefaa0"
      },
      "outputs": [],
      "source": [
        "df_new['Sleep_Duration_Hours'] = pd.cut(df['Sleep_Duration_Hours'], [-1, 6, 9, 13], labels = ['low', 'medium', 'high'])\n",
        "df_new['Caffeine_Intake_mg'] = pd.cut(df['Caffeine_Intake_mg'], [-1, 148, 300, 1000], labels = ['low', 'medium', 'high'])\n",
        "df_new['Stress_Level'] = pd.cut(df['Stress_Level'], [-1, 3, 6, 11], labels = ['low', 'medium', 'high'])"
      ]
    },
    {
      "cell_type": "code",
      "execution_count": null,
      "id": "7b4cba94-e22a-49f9-a440-8c3c56cfa7f3",
      "metadata": {
        "id": "7b4cba94-e22a-49f9-a440-8c3c56cfa7f3",
        "outputId": "5dc8eb22-2cd9-4da5-a454-a0196e86d81a"
      },
      "outputs": [
        {
          "data": {
            "text/html": [
              "<div>\n",
              "<style scoped>\n",
              "    .dataframe tbody tr th:only-of-type {\n",
              "        vertical-align: middle;\n",
              "    }\n",
              "\n",
              "    .dataframe tbody tr th {\n",
              "        vertical-align: top;\n",
              "    }\n",
              "\n",
              "    .dataframe thead th {\n",
              "        text-align: right;\n",
              "    }\n",
              "</style>\n",
              "<table border=\"1\" class=\"dataframe\">\n",
              "  <thead>\n",
              "    <tr style=\"text-align: right;\">\n",
              "      <th></th>\n",
              "      <th>Sleep_Duration_Hours</th>\n",
              "      <th>Caffeine_Intake_mg</th>\n",
              "      <th>Stress_Level</th>\n",
              "    </tr>\n",
              "  </thead>\n",
              "  <tbody>\n",
              "    <tr>\n",
              "      <th>0</th>\n",
              "      <td>low</td>\n",
              "      <td>low</td>\n",
              "      <td>low</td>\n",
              "    </tr>\n",
              "    <tr>\n",
              "      <th>1</th>\n",
              "      <td>medium</td>\n",
              "      <td>low</td>\n",
              "      <td>medium</td>\n",
              "    </tr>\n",
              "    <tr>\n",
              "      <th>2</th>\n",
              "      <td>medium</td>\n",
              "      <td>low</td>\n",
              "      <td>medium</td>\n",
              "    </tr>\n",
              "    <tr>\n",
              "      <th>3</th>\n",
              "      <td>high</td>\n",
              "      <td>low</td>\n",
              "      <td>medium</td>\n",
              "    </tr>\n",
              "    <tr>\n",
              "      <th>4</th>\n",
              "      <td>medium</td>\n",
              "      <td>medium</td>\n",
              "      <td>medium</td>\n",
              "    </tr>\n",
              "    <tr>\n",
              "      <th>...</th>\n",
              "      <td>...</td>\n",
              "      <td>...</td>\n",
              "      <td>...</td>\n",
              "    </tr>\n",
              "    <tr>\n",
              "      <th>995</th>\n",
              "      <td>medium</td>\n",
              "      <td>medium</td>\n",
              "      <td>medium</td>\n",
              "    </tr>\n",
              "    <tr>\n",
              "      <th>996</th>\n",
              "      <td>low</td>\n",
              "      <td>medium</td>\n",
              "      <td>high</td>\n",
              "    </tr>\n",
              "    <tr>\n",
              "      <th>997</th>\n",
              "      <td>medium</td>\n",
              "      <td>low</td>\n",
              "      <td>medium</td>\n",
              "    </tr>\n",
              "    <tr>\n",
              "      <th>998</th>\n",
              "      <td>high</td>\n",
              "      <td>medium</td>\n",
              "      <td>medium</td>\n",
              "    </tr>\n",
              "    <tr>\n",
              "      <th>999</th>\n",
              "      <td>medium</td>\n",
              "      <td>low</td>\n",
              "      <td>medium</td>\n",
              "    </tr>\n",
              "  </tbody>\n",
              "</table>\n",
              "<p>1000 rows × 3 columns</p>\n",
              "</div>"
            ],
            "text/plain": [
              "    Sleep_Duration_Hours Caffeine_Intake_mg Stress_Level\n",
              "0                    low                low          low\n",
              "1                 medium                low       medium\n",
              "2                 medium                low       medium\n",
              "3                   high                low       medium\n",
              "4                 medium             medium       medium\n",
              "..                   ...                ...          ...\n",
              "995               medium             medium       medium\n",
              "996                  low             medium         high\n",
              "997               medium                low       medium\n",
              "998                 high             medium       medium\n",
              "999               medium                low       medium\n",
              "\n",
              "[1000 rows x 3 columns]"
            ]
          },
          "execution_count": 271,
          "metadata": {},
          "output_type": "execute_result"
        }
      ],
      "source": [
        "df_new"
      ]
    },
    {
      "cell_type": "code",
      "execution_count": null,
      "id": "3cd930be-81a4-4abf-8ba6-679c347d497e",
      "metadata": {
        "id": "3cd930be-81a4-4abf-8ba6-679c347d497e",
        "outputId": "cb73a32f-6594-48d3-e898-f92adf874894"
      },
      "outputs": [
        {
          "data": {
            "text/plain": [
              "Sleep_Duration_Hours    0\n",
              "Caffeine_Intake_mg      0\n",
              "Stress_Level            0\n",
              "dtype: int64"
            ]
          },
          "execution_count": 272,
          "metadata": {},
          "output_type": "execute_result"
        }
      ],
      "source": [
        "df_new.isna().sum()"
      ]
    },
    {
      "cell_type": "markdown",
      "id": "709c2f40-0a54-4156-b279-4ea7f5046c1a",
      "metadata": {
        "id": "709c2f40-0a54-4156-b279-4ea7f5046c1a"
      },
      "source": [
        "Sleep_Duration_Hours и Caffeine_Intake_mg"
      ]
    },
    {
      "cell_type": "code",
      "execution_count": null,
      "id": "ffbd8844-fddb-46fb-8073-468064cf3d70",
      "metadata": {
        "id": "ffbd8844-fddb-46fb-8073-468064cf3d70",
        "outputId": "8bcf3d58-8376-4dfb-9a66-f130bcc10736"
      },
      "outputs": [
        {
          "data": {
            "text/html": [
              "<div>\n",
              "<style scoped>\n",
              "    .dataframe tbody tr th:only-of-type {\n",
              "        vertical-align: middle;\n",
              "    }\n",
              "\n",
              "    .dataframe tbody tr th {\n",
              "        vertical-align: top;\n",
              "    }\n",
              "\n",
              "    .dataframe thead th {\n",
              "        text-align: right;\n",
              "    }\n",
              "</style>\n",
              "<table border=\"1\" class=\"dataframe\">\n",
              "  <thead>\n",
              "    <tr style=\"text-align: right;\">\n",
              "      <th>Caffeine_Intake_mg</th>\n",
              "      <th>low</th>\n",
              "      <th>medium</th>\n",
              "      <th>high</th>\n",
              "      <th>All</th>\n",
              "    </tr>\n",
              "    <tr>\n",
              "      <th>Sleep_Duration_Hours</th>\n",
              "      <th></th>\n",
              "      <th></th>\n",
              "      <th></th>\n",
              "      <th></th>\n",
              "    </tr>\n",
              "  </thead>\n",
              "  <tbody>\n",
              "    <tr>\n",
              "      <th>low</th>\n",
              "      <td>92</td>\n",
              "      <td>76</td>\n",
              "      <td>6</td>\n",
              "      <td>174</td>\n",
              "    </tr>\n",
              "    <tr>\n",
              "      <th>medium</th>\n",
              "      <td>333</td>\n",
              "      <td>275</td>\n",
              "      <td>45</td>\n",
              "      <td>653</td>\n",
              "    </tr>\n",
              "    <tr>\n",
              "      <th>high</th>\n",
              "      <td>85</td>\n",
              "      <td>71</td>\n",
              "      <td>17</td>\n",
              "      <td>173</td>\n",
              "    </tr>\n",
              "    <tr>\n",
              "      <th>All</th>\n",
              "      <td>510</td>\n",
              "      <td>422</td>\n",
              "      <td>68</td>\n",
              "      <td>1000</td>\n",
              "    </tr>\n",
              "  </tbody>\n",
              "</table>\n",
              "</div>"
            ],
            "text/plain": [
              "Caffeine_Intake_mg    low  medium  high   All\n",
              "Sleep_Duration_Hours                         \n",
              "low                    92      76     6   174\n",
              "medium                333     275    45   653\n",
              "high                   85      71    17   173\n",
              "All                   510     422    68  1000"
            ]
          },
          "execution_count": 273,
          "metadata": {},
          "output_type": "execute_result"
        }
      ],
      "source": [
        "crosstab_1 = pd.crosstab(df_new['Sleep_Duration_Hours'], df_new['Caffeine_Intake_mg'], margins=True)\n",
        "crosstab_1"
      ]
    },
    {
      "cell_type": "code",
      "execution_count": null,
      "id": "3af94ac1-4d94-4c39-ad71-43ae32bc5d2e",
      "metadata": {
        "id": "3af94ac1-4d94-4c39-ad71-43ae32bc5d2e",
        "outputId": "42df3e11-9744-4b74-df28-65c4a83d74dc"
      },
      "outputs": [
        {
          "data": {
            "text/html": [
              "<div>\n",
              "<style scoped>\n",
              "    .dataframe tbody tr th:only-of-type {\n",
              "        vertical-align: middle;\n",
              "    }\n",
              "\n",
              "    .dataframe tbody tr th {\n",
              "        vertical-align: top;\n",
              "    }\n",
              "\n",
              "    .dataframe thead th {\n",
              "        text-align: right;\n",
              "    }\n",
              "</style>\n",
              "<table border=\"1\" class=\"dataframe\">\n",
              "  <thead>\n",
              "    <tr style=\"text-align: right;\">\n",
              "      <th>Caffeine_Intake_mg</th>\n",
              "      <th>low</th>\n",
              "      <th>medium</th>\n",
              "      <th>high</th>\n",
              "      <th>All</th>\n",
              "    </tr>\n",
              "    <tr>\n",
              "      <th>Sleep_Duration_Hours</th>\n",
              "      <th></th>\n",
              "      <th></th>\n",
              "      <th></th>\n",
              "      <th></th>\n",
              "    </tr>\n",
              "  </thead>\n",
              "  <tbody>\n",
              "    <tr>\n",
              "      <th>low</th>\n",
              "      <td>0.092</td>\n",
              "      <td>0.076</td>\n",
              "      <td>0.006</td>\n",
              "      <td>0.174</td>\n",
              "    </tr>\n",
              "    <tr>\n",
              "      <th>medium</th>\n",
              "      <td>0.333</td>\n",
              "      <td>0.275</td>\n",
              "      <td>0.045</td>\n",
              "      <td>0.653</td>\n",
              "    </tr>\n",
              "    <tr>\n",
              "      <th>high</th>\n",
              "      <td>0.085</td>\n",
              "      <td>0.071</td>\n",
              "      <td>0.017</td>\n",
              "      <td>0.173</td>\n",
              "    </tr>\n",
              "    <tr>\n",
              "      <th>All</th>\n",
              "      <td>0.510</td>\n",
              "      <td>0.422</td>\n",
              "      <td>0.068</td>\n",
              "      <td>1.000</td>\n",
              "    </tr>\n",
              "  </tbody>\n",
              "</table>\n",
              "</div>"
            ],
            "text/plain": [
              "Caffeine_Intake_mg      low  medium   high    All\n",
              "Sleep_Duration_Hours                             \n",
              "low                   0.092   0.076  0.006  0.174\n",
              "medium                0.333   0.275  0.045  0.653\n",
              "high                  0.085   0.071  0.017  0.173\n",
              "All                   0.510   0.422  0.068  1.000"
            ]
          },
          "execution_count": 274,
          "metadata": {},
          "output_type": "execute_result"
        }
      ],
      "source": [
        "relfreq_1 = pd.crosstab(df_new['Sleep_Duration_Hours'], df_new['Caffeine_Intake_mg'], margins=True, normalize=True)\n",
        "relfreq_1.round(4)"
      ]
    },
    {
      "cell_type": "markdown",
      "id": "df25ff21-ca07-4712-97cd-5ef16cf6bec5",
      "metadata": {
        "id": "df25ff21-ca07-4712-97cd-5ef16cf6bec5"
      },
      "source": [
        "Sleep_Duration_Hours и Stress_Level"
      ]
    },
    {
      "cell_type": "code",
      "execution_count": null,
      "id": "a2b46398-f3e9-4287-993b-b01b60c80472",
      "metadata": {
        "id": "a2b46398-f3e9-4287-993b-b01b60c80472",
        "outputId": "74e065a3-9a58-4c60-8376-60c22db0f68b"
      },
      "outputs": [
        {
          "data": {
            "text/html": [
              "<div>\n",
              "<style scoped>\n",
              "    .dataframe tbody tr th:only-of-type {\n",
              "        vertical-align: middle;\n",
              "    }\n",
              "\n",
              "    .dataframe tbody tr th {\n",
              "        vertical-align: top;\n",
              "    }\n",
              "\n",
              "    .dataframe thead th {\n",
              "        text-align: right;\n",
              "    }\n",
              "</style>\n",
              "<table border=\"1\" class=\"dataframe\">\n",
              "  <thead>\n",
              "    <tr style=\"text-align: right;\">\n",
              "      <th>Stress_Level</th>\n",
              "      <th>low</th>\n",
              "      <th>medium</th>\n",
              "      <th>high</th>\n",
              "      <th>All</th>\n",
              "    </tr>\n",
              "    <tr>\n",
              "      <th>Sleep_Duration_Hours</th>\n",
              "      <th></th>\n",
              "      <th></th>\n",
              "      <th></th>\n",
              "      <th></th>\n",
              "    </tr>\n",
              "  </thead>\n",
              "  <tbody>\n",
              "    <tr>\n",
              "      <th>low</th>\n",
              "      <td>28</td>\n",
              "      <td>92</td>\n",
              "      <td>54</td>\n",
              "      <td>174</td>\n",
              "    </tr>\n",
              "    <tr>\n",
              "      <th>medium</th>\n",
              "      <td>118</td>\n",
              "      <td>338</td>\n",
              "      <td>197</td>\n",
              "      <td>653</td>\n",
              "    </tr>\n",
              "    <tr>\n",
              "      <th>high</th>\n",
              "      <td>28</td>\n",
              "      <td>100</td>\n",
              "      <td>45</td>\n",
              "      <td>173</td>\n",
              "    </tr>\n",
              "    <tr>\n",
              "      <th>All</th>\n",
              "      <td>174</td>\n",
              "      <td>530</td>\n",
              "      <td>296</td>\n",
              "      <td>1000</td>\n",
              "    </tr>\n",
              "  </tbody>\n",
              "</table>\n",
              "</div>"
            ],
            "text/plain": [
              "Stress_Level          low  medium  high   All\n",
              "Sleep_Duration_Hours                         \n",
              "low                    28      92    54   174\n",
              "medium                118     338   197   653\n",
              "high                   28     100    45   173\n",
              "All                   174     530   296  1000"
            ]
          },
          "execution_count": 275,
          "metadata": {},
          "output_type": "execute_result"
        }
      ],
      "source": [
        "crosstab_2 = pd.crosstab(df_new['Sleep_Duration_Hours'], df_new['Stress_Level'], margins=True)\n",
        "crosstab_2"
      ]
    },
    {
      "cell_type": "code",
      "execution_count": null,
      "id": "188ba5c6-be57-456b-b0c7-7a62b20c87e5",
      "metadata": {
        "id": "188ba5c6-be57-456b-b0c7-7a62b20c87e5",
        "outputId": "148bef6e-9c17-4163-e8a5-b1354044c86e"
      },
      "outputs": [
        {
          "data": {
            "text/html": [
              "<div>\n",
              "<style scoped>\n",
              "    .dataframe tbody tr th:only-of-type {\n",
              "        vertical-align: middle;\n",
              "    }\n",
              "\n",
              "    .dataframe tbody tr th {\n",
              "        vertical-align: top;\n",
              "    }\n",
              "\n",
              "    .dataframe thead th {\n",
              "        text-align: right;\n",
              "    }\n",
              "</style>\n",
              "<table border=\"1\" class=\"dataframe\">\n",
              "  <thead>\n",
              "    <tr style=\"text-align: right;\">\n",
              "      <th>Stress_Level</th>\n",
              "      <th>low</th>\n",
              "      <th>medium</th>\n",
              "      <th>high</th>\n",
              "      <th>All</th>\n",
              "    </tr>\n",
              "    <tr>\n",
              "      <th>Sleep_Duration_Hours</th>\n",
              "      <th></th>\n",
              "      <th></th>\n",
              "      <th></th>\n",
              "      <th></th>\n",
              "    </tr>\n",
              "  </thead>\n",
              "  <tbody>\n",
              "    <tr>\n",
              "      <th>low</th>\n",
              "      <td>0.028</td>\n",
              "      <td>0.092</td>\n",
              "      <td>0.054</td>\n",
              "      <td>0.174</td>\n",
              "    </tr>\n",
              "    <tr>\n",
              "      <th>medium</th>\n",
              "      <td>0.118</td>\n",
              "      <td>0.338</td>\n",
              "      <td>0.197</td>\n",
              "      <td>0.653</td>\n",
              "    </tr>\n",
              "    <tr>\n",
              "      <th>high</th>\n",
              "      <td>0.028</td>\n",
              "      <td>0.100</td>\n",
              "      <td>0.045</td>\n",
              "      <td>0.173</td>\n",
              "    </tr>\n",
              "    <tr>\n",
              "      <th>All</th>\n",
              "      <td>0.174</td>\n",
              "      <td>0.530</td>\n",
              "      <td>0.296</td>\n",
              "      <td>1.000</td>\n",
              "    </tr>\n",
              "  </tbody>\n",
              "</table>\n",
              "</div>"
            ],
            "text/plain": [
              "Stress_Level            low  medium   high    All\n",
              "Sleep_Duration_Hours                             \n",
              "low                   0.028   0.092  0.054  0.174\n",
              "medium                0.118   0.338  0.197  0.653\n",
              "high                  0.028   0.100  0.045  0.173\n",
              "All                   0.174   0.530  0.296  1.000"
            ]
          },
          "execution_count": 276,
          "metadata": {},
          "output_type": "execute_result"
        }
      ],
      "source": [
        "relfreq_2 = pd.crosstab(df_new['Sleep_Duration_Hours'], df_new['Stress_Level'], margins=True, normalize=True)\n",
        "relfreq_2.round(4)"
      ]
    },
    {
      "cell_type": "code",
      "execution_count": null,
      "id": "e363ef79-d40b-4e47-b03d-846a36525322",
      "metadata": {
        "id": "e363ef79-d40b-4e47-b03d-846a36525322",
        "outputId": "84cf8651-8f51-444a-cdd0-b378a41073b1"
      },
      "outputs": [
        {
          "name": "stderr",
          "output_type": "stream",
          "text": [
            "/tmp/ipykernel_4294/1024112935.py:1: FutureWarning: Calling a ufunc on non-aligned DataFrames (or DataFrame/Series combination). Currently, the indices are ignored and the result takes the index/columns of the first DataFrame. In the future , the DataFrames/Series will be aligned before applying the ufunc.\n",
            "Convert one of the arguments to a NumPy array (eg 'ufunc(df1, np.asarray(df2)') to keep the current behaviour, or align manually (eg 'df1, df2 = df1.align(df2)') before passing to the ufunc to obtain the future behaviour and silence this warning.\n",
            "  condfreq_1 = np.divide(crosstab_1, crosstab_1[-1:])\n"
          ]
        },
        {
          "data": {
            "text/html": [
              "<div>\n",
              "<style scoped>\n",
              "    .dataframe tbody tr th:only-of-type {\n",
              "        vertical-align: middle;\n",
              "    }\n",
              "\n",
              "    .dataframe tbody tr th {\n",
              "        vertical-align: top;\n",
              "    }\n",
              "\n",
              "    .dataframe thead th {\n",
              "        text-align: right;\n",
              "    }\n",
              "</style>\n",
              "<table border=\"1\" class=\"dataframe\">\n",
              "  <thead>\n",
              "    <tr style=\"text-align: right;\">\n",
              "      <th>Caffeine_Intake_mg</th>\n",
              "      <th>low</th>\n",
              "      <th>medium</th>\n",
              "      <th>high</th>\n",
              "      <th>All</th>\n",
              "    </tr>\n",
              "    <tr>\n",
              "      <th>Sleep_Duration_Hours</th>\n",
              "      <th></th>\n",
              "      <th></th>\n",
              "      <th></th>\n",
              "      <th></th>\n",
              "    </tr>\n",
              "  </thead>\n",
              "  <tbody>\n",
              "    <tr>\n",
              "      <th>low</th>\n",
              "      <td>0.1804</td>\n",
              "      <td>0.1801</td>\n",
              "      <td>0.0882</td>\n",
              "      <td>0.174</td>\n",
              "    </tr>\n",
              "    <tr>\n",
              "      <th>medium</th>\n",
              "      <td>0.6529</td>\n",
              "      <td>0.6517</td>\n",
              "      <td>0.6618</td>\n",
              "      <td>0.653</td>\n",
              "    </tr>\n",
              "    <tr>\n",
              "      <th>high</th>\n",
              "      <td>0.1667</td>\n",
              "      <td>0.1682</td>\n",
              "      <td>0.2500</td>\n",
              "      <td>0.173</td>\n",
              "    </tr>\n",
              "    <tr>\n",
              "      <th>All</th>\n",
              "      <td>1.0000</td>\n",
              "      <td>1.0000</td>\n",
              "      <td>1.0000</td>\n",
              "      <td>1.000</td>\n",
              "    </tr>\n",
              "  </tbody>\n",
              "</table>\n",
              "</div>"
            ],
            "text/plain": [
              "Caffeine_Intake_mg       low  medium    high    All\n",
              "Sleep_Duration_Hours                               \n",
              "low                   0.1804  0.1801  0.0882  0.174\n",
              "medium                0.6529  0.6517  0.6618  0.653\n",
              "high                  0.1667  0.1682  0.2500  0.173\n",
              "All                   1.0000  1.0000  1.0000  1.000"
            ]
          },
          "execution_count": 277,
          "metadata": {},
          "output_type": "execute_result"
        }
      ],
      "source": [
        "condfreq_1 = np.divide(crosstab_1, crosstab_1[-1:])\n",
        "condfreq_1.round(4)"
      ]
    },
    {
      "cell_type": "code",
      "execution_count": null,
      "id": "26477f8a-f399-4406-b0a5-a65e7086342e",
      "metadata": {
        "id": "26477f8a-f399-4406-b0a5-a65e7086342e",
        "outputId": "d98fa51a-71ba-4529-a7a9-7efd7dcd0f21"
      },
      "outputs": [
        {
          "name": "stderr",
          "output_type": "stream",
          "text": [
            "/tmp/ipykernel_4294/495640422.py:1: FutureWarning: Calling a ufunc on non-aligned DataFrames (or DataFrame/Series combination). Currently, the indices are ignored and the result takes the index/columns of the first DataFrame. In the future , the DataFrames/Series will be aligned before applying the ufunc.\n",
            "Convert one of the arguments to a NumPy array (eg 'ufunc(df1, np.asarray(df2)') to keep the current behaviour, or align manually (eg 'df1, df2 = df1.align(df2)') before passing to the ufunc to obtain the future behaviour and silence this warning.\n",
            "  condfreq_2 = np.divide(crosstab_2, crosstab_2[-1:])\n"
          ]
        },
        {
          "data": {
            "text/html": [
              "<div>\n",
              "<style scoped>\n",
              "    .dataframe tbody tr th:only-of-type {\n",
              "        vertical-align: middle;\n",
              "    }\n",
              "\n",
              "    .dataframe tbody tr th {\n",
              "        vertical-align: top;\n",
              "    }\n",
              "\n",
              "    .dataframe thead th {\n",
              "        text-align: right;\n",
              "    }\n",
              "</style>\n",
              "<table border=\"1\" class=\"dataframe\">\n",
              "  <thead>\n",
              "    <tr style=\"text-align: right;\">\n",
              "      <th>Stress_Level</th>\n",
              "      <th>low</th>\n",
              "      <th>medium</th>\n",
              "      <th>high</th>\n",
              "      <th>All</th>\n",
              "    </tr>\n",
              "    <tr>\n",
              "      <th>Sleep_Duration_Hours</th>\n",
              "      <th></th>\n",
              "      <th></th>\n",
              "      <th></th>\n",
              "      <th></th>\n",
              "    </tr>\n",
              "  </thead>\n",
              "  <tbody>\n",
              "    <tr>\n",
              "      <th>low</th>\n",
              "      <td>0.1609</td>\n",
              "      <td>0.1736</td>\n",
              "      <td>0.1824</td>\n",
              "      <td>0.174</td>\n",
              "    </tr>\n",
              "    <tr>\n",
              "      <th>medium</th>\n",
              "      <td>0.6782</td>\n",
              "      <td>0.6377</td>\n",
              "      <td>0.6655</td>\n",
              "      <td>0.653</td>\n",
              "    </tr>\n",
              "    <tr>\n",
              "      <th>high</th>\n",
              "      <td>0.1609</td>\n",
              "      <td>0.1887</td>\n",
              "      <td>0.1520</td>\n",
              "      <td>0.173</td>\n",
              "    </tr>\n",
              "    <tr>\n",
              "      <th>All</th>\n",
              "      <td>1.0000</td>\n",
              "      <td>1.0000</td>\n",
              "      <td>1.0000</td>\n",
              "      <td>1.000</td>\n",
              "    </tr>\n",
              "  </tbody>\n",
              "</table>\n",
              "</div>"
            ],
            "text/plain": [
              "Stress_Level             low  medium    high    All\n",
              "Sleep_Duration_Hours                               \n",
              "low                   0.1609  0.1736  0.1824  0.174\n",
              "medium                0.6782  0.6377  0.6655  0.653\n",
              "high                  0.1609  0.1887  0.1520  0.173\n",
              "All                   1.0000  1.0000  1.0000  1.000"
            ]
          },
          "execution_count": 278,
          "metadata": {},
          "output_type": "execute_result"
        }
      ],
      "source": [
        "condfreq_2 = np.divide(crosstab_2, crosstab_2[-1:])\n",
        "condfreq_2.round(4)"
      ]
    },
    {
      "cell_type": "code",
      "execution_count": null,
      "id": "14a6f3a4-a41c-403e-be55-45bb89be8717",
      "metadata": {
        "id": "14a6f3a4-a41c-403e-be55-45bb89be8717"
      },
      "outputs": [],
      "source": [
        "relfreq_indep_1 = np.dot(relfreq_1.iloc[:,-1].values[:,None], relfreq_1.iloc[-1,:].values[None,:])\n",
        "\n",
        "quetelet_1 = relfreq_1 / relfreq_indep_1 - 1 # матрица Кетле\n",
        "quetelet_1 = quetelet_1.iloc[:-1, :-1]\n",
        "quetelet_1.round(4)\n",
        "m_1 = relfreq_1.iloc[:-1, :-1] * quetelet_1\n"
      ]
    },
    {
      "cell_type": "code",
      "execution_count": null,
      "id": "c54209c9-a306-45d9-8d36-f8927f7ef49c",
      "metadata": {
        "id": "c54209c9-a306-45d9-8d36-f8927f7ef49c",
        "outputId": "7c629064-33c1-4070-aed7-e1fe508191bf"
      },
      "outputs": [
        {
          "data": {
            "text/html": [
              "<div>\n",
              "<style scoped>\n",
              "    .dataframe tbody tr th:only-of-type {\n",
              "        vertical-align: middle;\n",
              "    }\n",
              "\n",
              "    .dataframe tbody tr th {\n",
              "        vertical-align: top;\n",
              "    }\n",
              "\n",
              "    .dataframe thead th {\n",
              "        text-align: right;\n",
              "    }\n",
              "</style>\n",
              "<table border=\"1\" class=\"dataframe\">\n",
              "  <thead>\n",
              "    <tr style=\"text-align: right;\">\n",
              "      <th>Caffeine_Intake_mg</th>\n",
              "      <th>low</th>\n",
              "      <th>medium</th>\n",
              "      <th>high</th>\n",
              "    </tr>\n",
              "    <tr>\n",
              "      <th>Sleep_Duration_Hours</th>\n",
              "      <th></th>\n",
              "      <th></th>\n",
              "      <th></th>\n",
              "    </tr>\n",
              "  </thead>\n",
              "  <tbody>\n",
              "    <tr>\n",
              "      <th>low</th>\n",
              "      <td>0.036737</td>\n",
              "      <td>0.035028</td>\n",
              "      <td>-0.492901</td>\n",
              "    </tr>\n",
              "    <tr>\n",
              "      <th>medium</th>\n",
              "      <td>-0.000090</td>\n",
              "      <td>-0.002054</td>\n",
              "      <td>0.013422</td>\n",
              "    </tr>\n",
              "    <tr>\n",
              "      <th>high</th>\n",
              "      <td>-0.036609</td>\n",
              "      <td>-0.027477</td>\n",
              "      <td>0.445087</td>\n",
              "    </tr>\n",
              "  </tbody>\n",
              "</table>\n",
              "</div>"
            ],
            "text/plain": [
              "Caffeine_Intake_mg         low    medium      high\n",
              "Sleep_Duration_Hours                              \n",
              "low                   0.036737  0.035028 -0.492901\n",
              "medium               -0.000090 -0.002054  0.013422\n",
              "high                 -0.036609 -0.027477  0.445087"
            ]
          },
          "execution_count": 280,
          "metadata": {},
          "output_type": "execute_result"
        }
      ],
      "source": [
        "quetelet_1"
      ]
    },
    {
      "cell_type": "code",
      "execution_count": null,
      "id": "b895e552-d465-4290-abe0-12b2b9563085",
      "metadata": {
        "id": "b895e552-d465-4290-abe0-12b2b9563085",
        "outputId": "1267b9a5-2825-48ea-9cba-2695ea46ab02"
      },
      "outputs": [
        {
          "data": {
            "text/plain": [
              "0.005597452951665155"
            ]
          },
          "execution_count": 289,
          "metadata": {},
          "output_type": "execute_result"
        }
      ],
      "source": [
        "np.sum(m_1.values)"
      ]
    },
    {
      "cell_type": "code",
      "execution_count": null,
      "id": "37ef2959-b656-4b8a-89cd-e458e73ebbb1",
      "metadata": {
        "id": "37ef2959-b656-4b8a-89cd-e458e73ebbb1"
      },
      "outputs": [],
      "source": [
        "relfreq_indep_2 = np.dot(relfreq_2.iloc[:,-1].values[:,None], relfreq_2.iloc[-1,:].values[None,:])\n",
        "\n",
        "quetelet_2 = relfreq_2 / relfreq_indep_2 - 1 # матрица Кетле\n",
        "quetelet_2 = quetelet_2.iloc[:-1, :-1]\n",
        "quetelet_2.round(4)\n",
        "m_2 = relfreq_2.iloc[:-1, :-1] * quetelet_2\n",
        "np.sum(m_2.values)"
      ]
    },
    {
      "cell_type": "code",
      "execution_count": null,
      "id": "9cfe287d-cca2-422e-ba2f-2538dfe2f1a0",
      "metadata": {
        "id": "9cfe287d-cca2-422e-ba2f-2538dfe2f1a0",
        "outputId": "d2636e17-4146-43b0-c053-af4e2b810608"
      },
      "outputs": [
        {
          "data": {
            "text/html": [
              "<div>\n",
              "<style scoped>\n",
              "    .dataframe tbody tr th:only-of-type {\n",
              "        vertical-align: middle;\n",
              "    }\n",
              "\n",
              "    .dataframe tbody tr th {\n",
              "        vertical-align: top;\n",
              "    }\n",
              "\n",
              "    .dataframe thead th {\n",
              "        text-align: right;\n",
              "    }\n",
              "</style>\n",
              "<table border=\"1\" class=\"dataframe\">\n",
              "  <thead>\n",
              "    <tr style=\"text-align: right;\">\n",
              "      <th>Stress_Level</th>\n",
              "      <th>low</th>\n",
              "      <th>medium</th>\n",
              "      <th>high</th>\n",
              "    </tr>\n",
              "    <tr>\n",
              "      <th>Sleep_Duration_Hours</th>\n",
              "      <th></th>\n",
              "      <th></th>\n",
              "      <th></th>\n",
              "    </tr>\n",
              "  </thead>\n",
              "  <tbody>\n",
              "    <tr>\n",
              "      <th>low</th>\n",
              "      <td>-0.075175</td>\n",
              "      <td>-0.002386</td>\n",
              "      <td>0.048462</td>\n",
              "    </tr>\n",
              "    <tr>\n",
              "      <th>medium</th>\n",
              "      <td>0.038531</td>\n",
              "      <td>-0.023375</td>\n",
              "      <td>0.019205</td>\n",
              "    </tr>\n",
              "    <tr>\n",
              "      <th>high</th>\n",
              "      <td>-0.069829</td>\n",
              "      <td>0.090631</td>\n",
              "      <td>-0.121231</td>\n",
              "    </tr>\n",
              "  </tbody>\n",
              "</table>\n",
              "</div>"
            ],
            "text/plain": [
              "Stress_Level               low    medium      high\n",
              "Sleep_Duration_Hours                              \n",
              "low                  -0.075175 -0.002386  0.048462\n",
              "medium                0.038531 -0.023375  0.019205\n",
              "high                 -0.069829  0.090631 -0.121231"
            ]
          },
          "execution_count": 294,
          "metadata": {},
          "output_type": "execute_result"
        }
      ],
      "source": [
        "quetelet_2"
      ]
    },
    {
      "cell_type": "code",
      "execution_count": null,
      "id": "f5fd0706-fc4d-4bce-a7ed-fe2bd75ef1fd",
      "metadata": {
        "id": "f5fd0706-fc4d-4bce-a7ed-fe2bd75ef1fd",
        "outputId": "fc2e58c5-54f9-4406-eca6-9f87219c4be3"
      },
      "outputs": [
        {
          "data": {
            "text/plain": [
              "0.0023742002809375336"
            ]
          },
          "execution_count": 295,
          "metadata": {},
          "output_type": "execute_result"
        }
      ],
      "source": [
        "np.sum(m_2.values)"
      ]
    },
    {
      "cell_type": "code",
      "execution_count": null,
      "id": "6207a8af-1107-4be8-8a92-3449ca2d6eaa",
      "metadata": {
        "id": "6207a8af-1107-4be8-8a92-3449ca2d6eaa",
        "outputId": "d630e10c-7123-4aac-942e-18762688738a"
      },
      "outputs": [
        {
          "data": {
            "text/html": [
              "<div>\n",
              "<style scoped>\n",
              "    .dataframe tbody tr th:only-of-type {\n",
              "        vertical-align: middle;\n",
              "    }\n",
              "\n",
              "    .dataframe tbody tr th {\n",
              "        vertical-align: top;\n",
              "    }\n",
              "\n",
              "    .dataframe thead th {\n",
              "        text-align: right;\n",
              "    }\n",
              "</style>\n",
              "<table border=\"1\" class=\"dataframe\">\n",
              "  <thead>\n",
              "    <tr style=\"text-align: right;\">\n",
              "      <th>Caffeine_Intake_mg</th>\n",
              "      <th>low</th>\n",
              "      <th>medium</th>\n",
              "      <th>high</th>\n",
              "    </tr>\n",
              "    <tr>\n",
              "      <th>Sleep_Duration_Hours</th>\n",
              "      <th></th>\n",
              "      <th></th>\n",
              "      <th></th>\n",
              "    </tr>\n",
              "  </thead>\n",
              "  <tbody>\n",
              "    <tr>\n",
              "      <th>low</th>\n",
              "      <td>0.0001</td>\n",
              "      <td>0.0001</td>\n",
              "      <td>0.0029</td>\n",
              "    </tr>\n",
              "    <tr>\n",
              "      <th>medium</th>\n",
              "      <td>0.0000</td>\n",
              "      <td>0.0000</td>\n",
              "      <td>0.0000</td>\n",
              "    </tr>\n",
              "    <tr>\n",
              "      <th>high</th>\n",
              "      <td>0.0001</td>\n",
              "      <td>0.0001</td>\n",
              "      <td>0.0023</td>\n",
              "    </tr>\n",
              "  </tbody>\n",
              "</table>\n",
              "</div>"
            ],
            "text/plain": [
              "Caffeine_Intake_mg       low  medium    high\n",
              "Sleep_Duration_Hours                        \n",
              "low                   0.0001  0.0001  0.0029\n",
              "medium                0.0000  0.0000  0.0000\n",
              "high                  0.0001  0.0001  0.0023"
            ]
          },
          "execution_count": 297,
          "metadata": {},
          "output_type": "execute_result"
        }
      ],
      "source": [
        "h_1 = (relfreq_1 - relfreq_indep_1)**2 / relfreq_indep_1\n",
        "h_1 = h_1.iloc[:-1, :-1]\n",
        "h_1.round(4)\n",
        "np.sum(h_1.values)\n",
        "\n",
        "h_2 = (relfreq_2 - relfreq_indep_2)**2 / relfreq_indep_2\n",
        "h_2 = h_2.iloc[:-1, :-1]\n",
        "h_2.round(4)\n",
        "np.sum(h_2.values)"
      ]
    },
    {
      "cell_type": "code",
      "execution_count": null,
      "id": "62d3cbf9-f0b6-4bb4-9837-409e0c862756",
      "metadata": {
        "id": "62d3cbf9-f0b6-4bb4-9837-409e0c862756",
        "outputId": "ff189f39-889a-4f6d-b165-c1c0cc9d88e1"
      },
      "outputs": [
        {
          "data": {
            "text/plain": [
              "0.005597452951665046"
            ]
          },
          "execution_count": 298,
          "metadata": {},
          "output_type": "execute_result"
        }
      ],
      "source": [
        "np.sum(h_1.values)"
      ]
    },
    {
      "cell_type": "code",
      "execution_count": null,
      "id": "d35ebd19-19ef-4f47-8287-f89d10117062",
      "metadata": {
        "id": "d35ebd19-19ef-4f47-8287-f89d10117062",
        "outputId": "20e48811-35d8-4226-d4b0-4cc640032261"
      },
      "outputs": [
        {
          "data": {
            "text/html": [
              "<div>\n",
              "<style scoped>\n",
              "    .dataframe tbody tr th:only-of-type {\n",
              "        vertical-align: middle;\n",
              "    }\n",
              "\n",
              "    .dataframe tbody tr th {\n",
              "        vertical-align: top;\n",
              "    }\n",
              "\n",
              "    .dataframe thead th {\n",
              "        text-align: right;\n",
              "    }\n",
              "</style>\n",
              "<table border=\"1\" class=\"dataframe\">\n",
              "  <thead>\n",
              "    <tr style=\"text-align: right;\">\n",
              "      <th>Stress_Level</th>\n",
              "      <th>low</th>\n",
              "      <th>medium</th>\n",
              "      <th>high</th>\n",
              "    </tr>\n",
              "    <tr>\n",
              "      <th>Sleep_Duration_Hours</th>\n",
              "      <th></th>\n",
              "      <th></th>\n",
              "      <th></th>\n",
              "    </tr>\n",
              "  </thead>\n",
              "  <tbody>\n",
              "    <tr>\n",
              "      <th>low</th>\n",
              "      <td>0.0002</td>\n",
              "      <td>0.0000</td>\n",
              "      <td>0.0001</td>\n",
              "    </tr>\n",
              "    <tr>\n",
              "      <th>medium</th>\n",
              "      <td>0.0002</td>\n",
              "      <td>0.0002</td>\n",
              "      <td>0.0001</td>\n",
              "    </tr>\n",
              "    <tr>\n",
              "      <th>high</th>\n",
              "      <td>0.0001</td>\n",
              "      <td>0.0008</td>\n",
              "      <td>0.0008</td>\n",
              "    </tr>\n",
              "  </tbody>\n",
              "</table>\n",
              "</div>"
            ],
            "text/plain": [
              "Stress_Level             low  medium    high\n",
              "Sleep_Duration_Hours                        \n",
              "low                   0.0002  0.0000  0.0001\n",
              "medium                0.0002  0.0002  0.0001\n",
              "high                  0.0001  0.0008  0.0008"
            ]
          },
          "execution_count": 299,
          "metadata": {},
          "output_type": "execute_result"
        }
      ],
      "source": [
        "h_2 = (relfreq_2 - relfreq_indep_2)**2 / relfreq_indep_2\n",
        "h_2 = h_2.iloc[:-1, :-1]\n",
        "h_2.round(4)\n",
        "np.sum(h_2.values)"
      ]
    },
    {
      "cell_type": "code",
      "execution_count": null,
      "id": "8fe2eac7-234c-4a7c-884b-367fe8d04193",
      "metadata": {
        "id": "8fe2eac7-234c-4a7c-884b-367fe8d04193",
        "outputId": "4523ada5-f67f-44ff-edca-d09dc2636f5c"
      },
      "outputs": [
        {
          "data": {
            "text/plain": [
              "0.0023742002809374664"
            ]
          },
          "execution_count": 300,
          "metadata": {},
          "output_type": "execute_result"
        }
      ],
      "source": [
        "np.sum(h_2.values)"
      ]
    },
    {
      "cell_type": "code",
      "execution_count": null,
      "id": "a1b6bdf4-a6bf-4eb0-9583-aae5e1cdb476",
      "metadata": {
        "id": "a1b6bdf4-a6bf-4eb0-9583-aae5e1cdb476"
      },
      "outputs": [],
      "source": []
    }
  ],
  "metadata": {
    "kernelspec": {
      "display_name": "Python 3 (ipykernel)",
      "language": "python",
      "name": "python3"
    },
    "language_info": {
      "codemirror_mode": {
        "name": "ipython",
        "version": 3
      },
      "file_extension": ".py",
      "mimetype": "text/x-python",
      "name": "python",
      "nbconvert_exporter": "python",
      "pygments_lexer": "ipython3",
      "version": "3.8.10"
    },
    "colab": {
      "provenance": []
    }
  },
  "nbformat": 4,
  "nbformat_minor": 5
}